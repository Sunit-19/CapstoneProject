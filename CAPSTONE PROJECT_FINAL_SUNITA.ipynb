{
 "cells": [
  {
   "cell_type": "code",
   "execution_count": 1,
   "metadata": {},
   "outputs": [],
   "source": [
    "# The OS module in python provides functions for interacting with the operating system\n",
    "import os"
   ]
  },
  {
   "cell_type": "code",
   "execution_count": 2,
   "metadata": {},
   "outputs": [],
   "source": [
    "#pandas is a Python package providing fast, flexible, and expressive data structures designed to make working with “relational” or “labeled” data both easy and intuitive\n",
    "import pandas as pd"
   ]
  },
  {
   "cell_type": "code",
   "execution_count": 3,
   "metadata": {},
   "outputs": [],
   "source": [
    "#NumPy is a package in Python used for Scientific Computing. NumPy package is used to perform different operations\n",
    "import numpy as np"
   ]
  },
  {
   "cell_type": "code",
   "execution_count": 4,
   "metadata": {},
   "outputs": [],
   "source": [
    "# It allows you to generate high quality line plots, scatter plots, histograms, bar charts\n",
    "import matplotlib.pyplot as plt\n"
   ]
  },
  {
   "cell_type": "code",
   "execution_count": 5,
   "metadata": {},
   "outputs": [],
   "source": [
    "#Seaborn is a library for making statistical graphics in Python. It is built on top of matplotlib and closely integrated with pandas data structures\n",
    "import seaborn as sns"
   ]
  },
  {
   "cell_type": "markdown",
   "metadata": {},
   "source": [
    "# EDA- Analysis"
   ]
  },
  {
   "cell_type": "code",
   "execution_count": 6,
   "metadata": {},
   "outputs": [],
   "source": [
    "# Required to read the csv, xlsx file\n",
    "df1=pd.read_excel(\"G:\\\\Project\\\\Student Applications & Performance.xlsx\")"
   ]
  },
  {
   "cell_type": "code",
   "execution_count": 7,
   "metadata": {},
   "outputs": [
    {
     "data": {
      "text/plain": [
       "(3400, 56)"
      ]
     },
     "execution_count": 7,
     "metadata": {},
     "output_type": "execute_result"
    }
   ],
   "source": [
    "# It gives number of Rows and columns\n",
    "df1.shape"
   ]
  },
  {
   "cell_type": "code",
   "execution_count": 8,
   "metadata": {},
   "outputs": [
    {
     "data": {
      "text/html": [
       "<div>\n",
       "<style scoped>\n",
       "    .dataframe tbody tr th:only-of-type {\n",
       "        vertical-align: middle;\n",
       "    }\n",
       "\n",
       "    .dataframe tbody tr th {\n",
       "        vertical-align: top;\n",
       "    }\n",
       "\n",
       "    .dataframe thead th {\n",
       "        text-align: right;\n",
       "    }\n",
       "</style>\n",
       "<table border=\"1\" class=\"dataframe\">\n",
       "  <thead>\n",
       "    <tr style=\"text-align: right;\">\n",
       "      <th></th>\n",
       "      <th>STUDENT IDENTIFIER</th>\n",
       "      <th>STDNT_AGE</th>\n",
       "      <th>STDNT_GENDER</th>\n",
       "      <th>STDNT_BACKGROUND</th>\n",
       "      <th>IN_STATE_FLAG</th>\n",
       "      <th>INTERNATIONAL_STS</th>\n",
       "      <th>STDNT_MAJOR</th>\n",
       "      <th>STDNT_MINOR</th>\n",
       "      <th>STDNT_TEST_ENTRANCE1</th>\n",
       "      <th>STDNT_TEST_ENTRANCE2</th>\n",
       "      <th>...</th>\n",
       "      <th>DEGREE_GROUP_CD</th>\n",
       "      <th>DEGREE_GROUP_DESC</th>\n",
       "      <th>FIRST_TERM_ATTEMPT_HRS</th>\n",
       "      <th>FIRST_TERM_EARNED_HRS</th>\n",
       "      <th>SECOND_TERM_ATTEMPT_HRS</th>\n",
       "      <th>SECOND_TERM_EARNED_HRS</th>\n",
       "      <th>GROSS_FIN_NEED</th>\n",
       "      <th>COST_OF_ATTEND</th>\n",
       "      <th>EST_FAM_CONTRIBUTION</th>\n",
       "      <th>UNMET_NEED</th>\n",
       "    </tr>\n",
       "  </thead>\n",
       "  <tbody>\n",
       "    <tr>\n",
       "      <th>3395</th>\n",
       "      <td>7948112</td>\n",
       "      <td>18</td>\n",
       "      <td>F</td>\n",
       "      <td>BGD 4</td>\n",
       "      <td>N</td>\n",
       "      <td>N</td>\n",
       "      <td>Music Performance</td>\n",
       "      <td>N</td>\n",
       "      <td>NaN</td>\n",
       "      <td>800.0</td>\n",
       "      <td>...</td>\n",
       "      <td>B</td>\n",
       "      <td>Bachelors</td>\n",
       "      <td>18</td>\n",
       "      <td>18</td>\n",
       "      <td>16.0</td>\n",
       "      <td>13.0</td>\n",
       "      <td>0</td>\n",
       "      <td>0</td>\n",
       "      <td>0</td>\n",
       "      <td>0.0</td>\n",
       "    </tr>\n",
       "    <tr>\n",
       "      <th>3396</th>\n",
       "      <td>8023055</td>\n",
       "      <td>18</td>\n",
       "      <td>F</td>\n",
       "      <td>BGD 1</td>\n",
       "      <td>Y</td>\n",
       "      <td>N</td>\n",
       "      <td>Biology</td>\n",
       "      <td>N</td>\n",
       "      <td>20.0</td>\n",
       "      <td>NaN</td>\n",
       "      <td>...</td>\n",
       "      <td>B</td>\n",
       "      <td>Bachelors</td>\n",
       "      <td>13</td>\n",
       "      <td>9</td>\n",
       "      <td>NaN</td>\n",
       "      <td>NaN</td>\n",
       "      <td>0</td>\n",
       "      <td>0</td>\n",
       "      <td>0</td>\n",
       "      <td>0.0</td>\n",
       "    </tr>\n",
       "    <tr>\n",
       "      <th>3397</th>\n",
       "      <td>7926915</td>\n",
       "      <td>18</td>\n",
       "      <td>F</td>\n",
       "      <td>BGD 4</td>\n",
       "      <td>Y</td>\n",
       "      <td>N</td>\n",
       "      <td>Biology</td>\n",
       "      <td>N</td>\n",
       "      <td>NaN</td>\n",
       "      <td>1020.0</td>\n",
       "      <td>...</td>\n",
       "      <td>B</td>\n",
       "      <td>Bachelors</td>\n",
       "      <td>14</td>\n",
       "      <td>6</td>\n",
       "      <td>NaN</td>\n",
       "      <td>NaN</td>\n",
       "      <td>0</td>\n",
       "      <td>945840</td>\n",
       "      <td>1288980</td>\n",
       "      <td>0.0</td>\n",
       "    </tr>\n",
       "    <tr>\n",
       "      <th>3398</th>\n",
       "      <td>7877332</td>\n",
       "      <td>18</td>\n",
       "      <td>F</td>\n",
       "      <td>BGD 3</td>\n",
       "      <td>Y</td>\n",
       "      <td>N</td>\n",
       "      <td>Joint Enrollment - Accel</td>\n",
       "      <td>N</td>\n",
       "      <td>21.0</td>\n",
       "      <td>NaN</td>\n",
       "      <td>...</td>\n",
       "      <td>B</td>\n",
       "      <td>Bachelors</td>\n",
       "      <td>12</td>\n",
       "      <td>9</td>\n",
       "      <td>NaN</td>\n",
       "      <td>NaN</td>\n",
       "      <td>0</td>\n",
       "      <td>269100</td>\n",
       "      <td>0</td>\n",
       "      <td>-231720.0</td>\n",
       "    </tr>\n",
       "    <tr>\n",
       "      <th>3399</th>\n",
       "      <td>7928405</td>\n",
       "      <td>18</td>\n",
       "      <td>M</td>\n",
       "      <td>BGD 2</td>\n",
       "      <td>Y</td>\n",
       "      <td>N</td>\n",
       "      <td>Art</td>\n",
       "      <td>Creative Writing</td>\n",
       "      <td>NaN</td>\n",
       "      <td>890.0</td>\n",
       "      <td>...</td>\n",
       "      <td>B</td>\n",
       "      <td>Bachelors</td>\n",
       "      <td>12</td>\n",
       "      <td>9</td>\n",
       "      <td>13.0</td>\n",
       "      <td>6.0</td>\n",
       "      <td>0</td>\n",
       "      <td>0</td>\n",
       "      <td>0</td>\n",
       "      <td>0.0</td>\n",
       "    </tr>\n",
       "  </tbody>\n",
       "</table>\n",
       "<p>5 rows × 56 columns</p>\n",
       "</div>"
      ],
      "text/plain": [
       "      STUDENT IDENTIFIER  STDNT_AGE STDNT_GENDER STDNT_BACKGROUND  \\\n",
       "3395             7948112         18            F            BGD 4   \n",
       "3396             8023055         18            F            BGD 1   \n",
       "3397             7926915         18            F            BGD 4   \n",
       "3398             7877332         18            F            BGD 3   \n",
       "3399             7928405         18            M            BGD 2   \n",
       "\n",
       "     IN_STATE_FLAG INTERNATIONAL_STS               STDNT_MAJOR  \\\n",
       "3395             N                 N         Music Performance   \n",
       "3396             Y                 N                   Biology   \n",
       "3397             Y                 N                   Biology   \n",
       "3398             Y                 N  Joint Enrollment - Accel   \n",
       "3399             Y                 N                       Art   \n",
       "\n",
       "           STDNT_MINOR  STDNT_TEST_ENTRANCE1  STDNT_TEST_ENTRANCE2  ...  \\\n",
       "3395                 N                   NaN                 800.0  ...   \n",
       "3396                 N                  20.0                   NaN  ...   \n",
       "3397                 N                   NaN                1020.0  ...   \n",
       "3398                 N                  21.0                   NaN  ...   \n",
       "3399  Creative Writing                   NaN                 890.0  ...   \n",
       "\n",
       "      DEGREE_GROUP_CD  DEGREE_GROUP_DESC FIRST_TERM_ATTEMPT_HRS  \\\n",
       "3395                B          Bachelors                     18   \n",
       "3396                B          Bachelors                     13   \n",
       "3397                B          Bachelors                     14   \n",
       "3398                B          Bachelors                     12   \n",
       "3399                B          Bachelors                     12   \n",
       "\n",
       "     FIRST_TERM_EARNED_HRS SECOND_TERM_ATTEMPT_HRS SECOND_TERM_EARNED_HRS  \\\n",
       "3395                    18                    16.0                   13.0   \n",
       "3396                     9                     NaN                    NaN   \n",
       "3397                     6                     NaN                    NaN   \n",
       "3398                     9                     NaN                    NaN   \n",
       "3399                     9                    13.0                    6.0   \n",
       "\n",
       "     GROSS_FIN_NEED COST_OF_ATTEND EST_FAM_CONTRIBUTION UNMET_NEED  \n",
       "3395              0              0                    0        0.0  \n",
       "3396              0              0                    0        0.0  \n",
       "3397              0         945840              1288980        0.0  \n",
       "3398              0         269100                    0  -231720.0  \n",
       "3399              0              0                    0        0.0  \n",
       "\n",
       "[5 rows x 56 columns]"
      ]
     },
     "execution_count": 8,
     "metadata": {},
     "output_type": "execute_result"
    }
   ],
   "source": [
    "## It shows last five rows of data\n",
    "df1.tail()"
   ]
  },
  {
   "cell_type": "code",
   "execution_count": 9,
   "metadata": {},
   "outputs": [
    {
     "name": "stdout",
     "output_type": "stream",
     "text": [
      "<class 'pandas.core.frame.DataFrame'>\n",
      "RangeIndex: 3400 entries, 0 to 3399\n",
      "Data columns (total 56 columns):\n",
      "STUDENT IDENTIFIER          3400 non-null int64\n",
      "STDNT_AGE                   3400 non-null int64\n",
      "STDNT_GENDER                3400 non-null object\n",
      "STDNT_BACKGROUND            3400 non-null object\n",
      "IN_STATE_FLAG               3400 non-null object\n",
      "INTERNATIONAL_STS           3400 non-null object\n",
      "STDNT_MAJOR                 3400 non-null object\n",
      "STDNT_MINOR                 3400 non-null object\n",
      "STDNT_TEST_ENTRANCE1        1106 non-null float64\n",
      "STDNT_TEST_ENTRANCE2        2492 non-null float64\n",
      "STDNT_TEST_ENTRANCE_COMB    2882 non-null float64\n",
      "FIRST_TERM                  3400 non-null int64\n",
      "CORE_COURSE_NAME_1_F        3400 non-null object\n",
      "CORE_COURSE_GRADE_1_F       3400 non-null object\n",
      "CORE_COURSE_NAME_2_F        3301 non-null object\n",
      "CORE_COURSE_GRADE_2_F       3301 non-null object\n",
      "CORE_COURSE_NAME_3_F        2835 non-null object\n",
      "CORE_COURSE_GRADE_3_F       2835 non-null object\n",
      "CORE_COURSE_NAME_4_F        1803 non-null object\n",
      "CORE_COURSE_GRADE_4_F       1803 non-null object\n",
      "CORE_COURSE_NAME_5_F        645 non-null object\n",
      "CORE_COURSE_GRADE_5_F       645 non-null object\n",
      "CORE_COURSE_NAME_6_F        128 non-null object\n",
      "CORE_COURSE_GRADE_6_F       128 non-null object\n",
      "SECOND_TERM                 3400 non-null int64\n",
      "CORE_COURSE_NAME_1_S        3243 non-null object\n",
      "CORE_COURSE_GRADE_1_S       3168 non-null object\n",
      "CORE_COURSE_NAME_2_S        2961 non-null object\n",
      "CORE_COURSE_GRADE_2_S       2961 non-null object\n",
      "CORE_COURSE_NAME_3_S        2362 non-null object\n",
      "CORE_COURSE_GRADE_3_S       2362 non-null object\n",
      "CORE_COURSE_NAME_4_S        1355 non-null object\n",
      "CORE_COURSE_GRADE_4_S       1355 non-null object\n",
      "CORE_COURSE_NAME_5_S        450 non-null object\n",
      "CORE_COURSE_GRADE_5_S       450 non-null object\n",
      "CORE_COURSE_NAME_6_S        81 non-null object\n",
      "CORE_COURSE_GRADE_6_S       81 non-null object\n",
      "HOUSING_STS                 3400 non-null object\n",
      "RETURNED_2ND_YR             3400 non-null int64\n",
      "DISTANCE_FROM_HOME          3375 non-null float64\n",
      "HIGH_SCHL_GPA               3347 non-null float64\n",
      "HIGH_SCHL_NAME              3399 non-null object\n",
      "FATHER_HI_EDU_CD            2968 non-null float64\n",
      "FATHER_HI_EDU_DESC          3400 non-null object\n",
      "MOTHER_HI_EDU_CD            2911 non-null float64\n",
      "MOTHER_HI_EDU_DESC          3400 non-null object\n",
      "DEGREE_GROUP_CD             3400 non-null object\n",
      "DEGREE_GROUP_DESC           3400 non-null object\n",
      "FIRST_TERM_ATTEMPT_HRS      3400 non-null int64\n",
      "FIRST_TERM_EARNED_HRS       3400 non-null int64\n",
      "SECOND_TERM_ATTEMPT_HRS     3194 non-null float64\n",
      "SECOND_TERM_EARNED_HRS      3191 non-null float64\n",
      "GROSS_FIN_NEED              3400 non-null int64\n",
      "COST_OF_ATTEND              3400 non-null int64\n",
      "EST_FAM_CONTRIBUTION        3400 non-null int64\n",
      "UNMET_NEED                  3400 non-null float64\n",
      "dtypes: float64(10), int64(10), object(36)\n",
      "memory usage: 1.5+ MB\n"
     ]
    }
   ],
   "source": [
    "# Its gives information of all the data characteristics into int , object and float\n",
    "df1.info()"
   ]
  },
  {
   "cell_type": "raw",
   "metadata": {},
   "source": [
    "# Float--A float is a floating-point number, which means it is a number that has a decimal place. Floats are used when more precision is needed.\n",
    "int--They are often called just integers or ints, are positive or negative whole numbers with no decimal point\n",
    "object-A data type object (an instance of numpy. dtype class) describes how the bytes in the fixed-size block of memory corresponding to an array item should be interpreted. It describes the following aspects of the data: Type of the data (integer, float, Python object, etc.)"
   ]
  },
  {
   "cell_type": "code",
   "execution_count": 10,
   "metadata": {},
   "outputs": [
    {
     "data": {
      "text/plain": [
       "STUDENT IDENTIFIER          -0.025792\n",
       "STDNT_AGE                    4.416754\n",
       "STDNT_TEST_ENTRANCE1         0.671944\n",
       "STDNT_TEST_ENTRANCE2        -0.922564\n",
       "STDNT_TEST_ENTRANCE_COMB    -0.364692\n",
       "FIRST_TERM                  -0.170108\n",
       "SECOND_TERM                 -0.170108\n",
       "RETURNED_2ND_YR             -1.405151\n",
       "DISTANCE_FROM_HOME          18.439510\n",
       "HIGH_SCHL_GPA               -0.248503\n",
       "FATHER_HI_EDU_CD             0.192835\n",
       "MOTHER_HI_EDU_CD            -0.066167\n",
       "FIRST_TERM_ATTEMPT_HRS       0.380062\n",
       "FIRST_TERM_EARNED_HRS       -0.902359\n",
       "SECOND_TERM_ATTEMPT_HRS     -0.178607\n",
       "SECOND_TERM_EARNED_HRS      -0.891158\n",
       "GROSS_FIN_NEED               1.235763\n",
       "COST_OF_ATTEND               0.345186\n",
       "EST_FAM_CONTRIBUTION         3.815042\n",
       "UNMET_NEED                   0.665665\n",
       "dtype: float64"
      ]
     },
     "execution_count": 10,
     "metadata": {},
     "output_type": "execute_result"
    }
   ],
   "source": [
    "## Checking the Skewness of the variables\n",
    "df1.skew()"
   ]
  },
  {
   "cell_type": "code",
   "execution_count": 11,
   "metadata": {},
   "outputs": [
    {
     "data": {
      "text/plain": [
       "count    3375.000000\n",
       "mean        0.016828\n",
       "std         0.039649\n",
       "min         0.000000\n",
       "25%         0.011632\n",
       "50%         0.011632\n",
       "75%         0.023264\n",
       "max         1.000000\n",
       "Name: DISTANCE_FROM_HOME, dtype: float64"
      ]
     },
     "execution_count": 11,
     "metadata": {},
     "output_type": "execute_result"
    }
   ],
   "source": [
    "#Normalise distance from home column to treat skewness.Normalization converts all data points to decimals between 0 and 1. \n",
    "def normalize(column):\n",
    "    upper = column.max()\n",
    "    lower = column.min()\n",
    "    y = (column - lower)/(upper-lower)\n",
    "    return y\n",
    "normalized = normalize(df1.DISTANCE_FROM_HOME)\n",
    "normalized.describe()"
   ]
  },
  {
   "cell_type": "code",
   "execution_count": 12,
   "metadata": {},
   "outputs": [
    {
     "data": {
      "text/plain": [
       "Index(['STUDENT IDENTIFIER', 'STDNT_AGE', 'STDNT_GENDER', 'STDNT_BACKGROUND',\n",
       "       'IN_STATE_FLAG', 'INTERNATIONAL_STS', 'STDNT_MAJOR', 'STDNT_MINOR',\n",
       "       'STDNT_TEST_ENTRANCE1', 'STDNT_TEST_ENTRANCE2',\n",
       "       'STDNT_TEST_ENTRANCE_COMB', 'FIRST_TERM', 'CORE_COURSE_NAME_1_F',\n",
       "       'CORE_COURSE_GRADE_1_F', 'CORE_COURSE_NAME_2_F',\n",
       "       'CORE_COURSE_GRADE_2_F', 'CORE_COURSE_NAME_3_F',\n",
       "       'CORE_COURSE_GRADE_3_F', 'CORE_COURSE_NAME_4_F',\n",
       "       'CORE_COURSE_GRADE_4_F', 'CORE_COURSE_NAME_5_F',\n",
       "       'CORE_COURSE_GRADE_5_F', 'CORE_COURSE_NAME_6_F',\n",
       "       'CORE_COURSE_GRADE_6_F', 'SECOND_TERM', 'CORE_COURSE_NAME_1_S',\n",
       "       'CORE_COURSE_GRADE_1_S', 'CORE_COURSE_NAME_2_S',\n",
       "       'CORE_COURSE_GRADE_2_S', 'CORE_COURSE_NAME_3_S',\n",
       "       'CORE_COURSE_GRADE_3_S', 'CORE_COURSE_NAME_4_S',\n",
       "       'CORE_COURSE_GRADE_4_S', 'CORE_COURSE_NAME_5_S',\n",
       "       'CORE_COURSE_GRADE_5_S', 'CORE_COURSE_NAME_6_S',\n",
       "       'CORE_COURSE_GRADE_6_S', 'HOUSING_STS', 'RETURNED_2ND_YR',\n",
       "       'DISTANCE_FROM_HOME', 'HIGH_SCHL_GPA', 'HIGH_SCHL_NAME',\n",
       "       'FATHER_HI_EDU_CD', 'FATHER_HI_EDU_DESC', 'MOTHER_HI_EDU_CD',\n",
       "       'MOTHER_HI_EDU_DESC', 'DEGREE_GROUP_CD', 'DEGREE_GROUP_DESC',\n",
       "       'FIRST_TERM_ATTEMPT_HRS', 'FIRST_TERM_EARNED_HRS',\n",
       "       'SECOND_TERM_ATTEMPT_HRS', 'SECOND_TERM_EARNED_HRS', 'GROSS_FIN_NEED',\n",
       "       'COST_OF_ATTEND', 'EST_FAM_CONTRIBUTION', 'UNMET_NEED'],\n",
       "      dtype='object')"
      ]
     },
     "execution_count": 12,
     "metadata": {},
     "output_type": "execute_result"
    }
   ],
   "source": [
    "# It shows number of columns in entire data frame\n",
    "df1.columns "
   ]
  },
  {
   "cell_type": "code",
   "execution_count": 13,
   "metadata": {},
   "outputs": [
    {
     "data": {
      "text/plain": [
       "STUDENT IDENTIFIER             0\n",
       "STDNT_AGE                      0\n",
       "STDNT_GENDER                   0\n",
       "STDNT_BACKGROUND               0\n",
       "IN_STATE_FLAG                  0\n",
       "INTERNATIONAL_STS              0\n",
       "STDNT_MAJOR                    0\n",
       "STDNT_MINOR                    0\n",
       "STDNT_TEST_ENTRANCE1        2294\n",
       "STDNT_TEST_ENTRANCE2         908\n",
       "STDNT_TEST_ENTRANCE_COMB     518\n",
       "FIRST_TERM                     0\n",
       "CORE_COURSE_NAME_1_F           0\n",
       "CORE_COURSE_GRADE_1_F          0\n",
       "CORE_COURSE_NAME_2_F          99\n",
       "CORE_COURSE_GRADE_2_F         99\n",
       "CORE_COURSE_NAME_3_F         565\n",
       "CORE_COURSE_GRADE_3_F        565\n",
       "CORE_COURSE_NAME_4_F        1597\n",
       "CORE_COURSE_GRADE_4_F       1597\n",
       "CORE_COURSE_NAME_5_F        2755\n",
       "CORE_COURSE_GRADE_5_F       2755\n",
       "CORE_COURSE_NAME_6_F        3272\n",
       "CORE_COURSE_GRADE_6_F       3272\n",
       "SECOND_TERM                    0\n",
       "CORE_COURSE_NAME_1_S         157\n",
       "CORE_COURSE_GRADE_1_S        232\n",
       "CORE_COURSE_NAME_2_S         439\n",
       "CORE_COURSE_GRADE_2_S        439\n",
       "CORE_COURSE_NAME_3_S        1038\n",
       "CORE_COURSE_GRADE_3_S       1038\n",
       "CORE_COURSE_NAME_4_S        2045\n",
       "CORE_COURSE_GRADE_4_S       2045\n",
       "CORE_COURSE_NAME_5_S        2950\n",
       "CORE_COURSE_GRADE_5_S       2950\n",
       "CORE_COURSE_NAME_6_S        3319\n",
       "CORE_COURSE_GRADE_6_S       3319\n",
       "HOUSING_STS                    0\n",
       "RETURNED_2ND_YR                0\n",
       "DISTANCE_FROM_HOME            25\n",
       "HIGH_SCHL_GPA                 53\n",
       "HIGH_SCHL_NAME                 1\n",
       "FATHER_HI_EDU_CD             432\n",
       "FATHER_HI_EDU_DESC             0\n",
       "MOTHER_HI_EDU_CD             489\n",
       "MOTHER_HI_EDU_DESC             0\n",
       "DEGREE_GROUP_CD                0\n",
       "DEGREE_GROUP_DESC              0\n",
       "FIRST_TERM_ATTEMPT_HRS         0\n",
       "FIRST_TERM_EARNED_HRS          0\n",
       "SECOND_TERM_ATTEMPT_HRS      206\n",
       "SECOND_TERM_EARNED_HRS       209\n",
       "GROSS_FIN_NEED                 0\n",
       "COST_OF_ATTEND                 0\n",
       "EST_FAM_CONTRIBUTION           0\n",
       "UNMET_NEED                     0\n",
       "dtype: int64"
      ]
     },
     "execution_count": 13,
     "metadata": {},
     "output_type": "execute_result"
    }
   ],
   "source": [
    "# It shows sum of missing values for each variables\n",
    "df1.isnull().sum() "
   ]
  },
  {
   "cell_type": "code",
   "execution_count": 14,
   "metadata": {},
   "outputs": [],
   "source": [
    "# it is group data with two different variables named under left\n",
    "\n",
    "left_std=df1.groupby ('RETURNED_2ND_YR')"
   ]
  },
  {
   "cell_type": "code",
   "execution_count": 15,
   "metadata": {},
   "outputs": [
    {
     "data": {
      "text/html": [
       "<div>\n",
       "<style scoped>\n",
       "    .dataframe tbody tr th:only-of-type {\n",
       "        vertical-align: middle;\n",
       "    }\n",
       "\n",
       "    .dataframe tbody tr th {\n",
       "        vertical-align: top;\n",
       "    }\n",
       "\n",
       "    .dataframe thead th {\n",
       "        text-align: right;\n",
       "    }\n",
       "</style>\n",
       "<table border=\"1\" class=\"dataframe\">\n",
       "  <thead>\n",
       "    <tr style=\"text-align: right;\">\n",
       "      <th></th>\n",
       "      <th>STUDENT IDENTIFIER</th>\n",
       "      <th>STDNT_AGE</th>\n",
       "      <th>STDNT_TEST_ENTRANCE1</th>\n",
       "      <th>STDNT_TEST_ENTRANCE2</th>\n",
       "      <th>STDNT_TEST_ENTRANCE_COMB</th>\n",
       "      <th>FIRST_TERM</th>\n",
       "      <th>SECOND_TERM</th>\n",
       "      <th>DISTANCE_FROM_HOME</th>\n",
       "      <th>HIGH_SCHL_GPA</th>\n",
       "      <th>FATHER_HI_EDU_CD</th>\n",
       "      <th>MOTHER_HI_EDU_CD</th>\n",
       "      <th>FIRST_TERM_ATTEMPT_HRS</th>\n",
       "      <th>FIRST_TERM_EARNED_HRS</th>\n",
       "      <th>SECOND_TERM_ATTEMPT_HRS</th>\n",
       "      <th>SECOND_TERM_EARNED_HRS</th>\n",
       "      <th>GROSS_FIN_NEED</th>\n",
       "      <th>COST_OF_ATTEND</th>\n",
       "      <th>EST_FAM_CONTRIBUTION</th>\n",
       "      <th>UNMET_NEED</th>\n",
       "    </tr>\n",
       "    <tr>\n",
       "      <th>RETURNED_2ND_YR</th>\n",
       "      <th></th>\n",
       "      <th></th>\n",
       "      <th></th>\n",
       "      <th></th>\n",
       "      <th></th>\n",
       "      <th></th>\n",
       "      <th></th>\n",
       "      <th></th>\n",
       "      <th></th>\n",
       "      <th></th>\n",
       "      <th></th>\n",
       "      <th></th>\n",
       "      <th></th>\n",
       "      <th></th>\n",
       "      <th></th>\n",
       "      <th></th>\n",
       "      <th></th>\n",
       "      <th></th>\n",
       "      <th></th>\n",
       "    </tr>\n",
       "  </thead>\n",
       "  <tbody>\n",
       "    <tr>\n",
       "      <th>0</th>\n",
       "      <td>7.899963e+06</td>\n",
       "      <td>18.015214</td>\n",
       "      <td>20.550000</td>\n",
       "      <td>970.705882</td>\n",
       "      <td>999.403974</td>\n",
       "      <td>200787.391425</td>\n",
       "      <td>200881.391425</td>\n",
       "      <td>112.214586</td>\n",
       "      <td>3.131802</td>\n",
       "      <td>2.527419</td>\n",
       "      <td>2.535000</td>\n",
       "      <td>13.988935</td>\n",
       "      <td>11.809129</td>\n",
       "      <td>13.906250</td>\n",
       "      <td>11.466912</td>\n",
       "      <td>307243.128631</td>\n",
       "      <td>549032.199170</td>\n",
       "      <td>315265.643154</td>\n",
       "      <td>90679.460581</td>\n",
       "    </tr>\n",
       "    <tr>\n",
       "      <th>1</th>\n",
       "      <td>7.896397e+06</td>\n",
       "      <td>17.988420</td>\n",
       "      <td>20.690531</td>\n",
       "      <td>963.647830</td>\n",
       "      <td>997.322212</td>\n",
       "      <td>200774.193500</td>\n",
       "      <td>200868.193500</td>\n",
       "      <td>96.506762</td>\n",
       "      <td>3.221768</td>\n",
       "      <td>2.569421</td>\n",
       "      <td>2.580701</td>\n",
       "      <td>13.985058</td>\n",
       "      <td>12.311916</td>\n",
       "      <td>14.363774</td>\n",
       "      <td>12.725727</td>\n",
       "      <td>302365.237206</td>\n",
       "      <td>552209.069854</td>\n",
       "      <td>352636.787449</td>\n",
       "      <td>67235.153455</td>\n",
       "    </tr>\n",
       "  </tbody>\n",
       "</table>\n",
       "</div>"
      ],
      "text/plain": [
       "                 STUDENT IDENTIFIER  STDNT_AGE  STDNT_TEST_ENTRANCE1  \\\n",
       "RETURNED_2ND_YR                                                        \n",
       "0                      7.899963e+06  18.015214             20.550000   \n",
       "1                      7.896397e+06  17.988420             20.690531   \n",
       "\n",
       "                 STDNT_TEST_ENTRANCE2  STDNT_TEST_ENTRANCE_COMB  \\\n",
       "RETURNED_2ND_YR                                                   \n",
       "0                          970.705882                999.403974   \n",
       "1                          963.647830                997.322212   \n",
       "\n",
       "                    FIRST_TERM    SECOND_TERM  DISTANCE_FROM_HOME  \\\n",
       "RETURNED_2ND_YR                                                     \n",
       "0                200787.391425  200881.391425          112.214586   \n",
       "1                200774.193500  200868.193500           96.506762   \n",
       "\n",
       "                 HIGH_SCHL_GPA  FATHER_HI_EDU_CD  MOTHER_HI_EDU_CD  \\\n",
       "RETURNED_2ND_YR                                                      \n",
       "0                     3.131802          2.527419          2.535000   \n",
       "1                     3.221768          2.569421          2.580701   \n",
       "\n",
       "                 FIRST_TERM_ATTEMPT_HRS  FIRST_TERM_EARNED_HRS  \\\n",
       "RETURNED_2ND_YR                                                  \n",
       "0                             13.988935              11.809129   \n",
       "1                             13.985058              12.311916   \n",
       "\n",
       "                 SECOND_TERM_ATTEMPT_HRS  SECOND_TERM_EARNED_HRS  \\\n",
       "RETURNED_2ND_YR                                                    \n",
       "0                              13.906250               11.466912   \n",
       "1                              14.363774               12.725727   \n",
       "\n",
       "                 GROSS_FIN_NEED  COST_OF_ATTEND  EST_FAM_CONTRIBUTION  \\\n",
       "RETURNED_2ND_YR                                                         \n",
       "0                 307243.128631   549032.199170         315265.643154   \n",
       "1                 302365.237206   552209.069854         352636.787449   \n",
       "\n",
       "                   UNMET_NEED  \n",
       "RETURNED_2ND_YR                \n",
       "0                90679.460581  \n",
       "1                67235.153455  "
      ]
     },
     "execution_count": 15,
     "metadata": {},
     "output_type": "execute_result"
    }
   ],
   "source": [
    "# it shows mean of all the variables wrt to 0 and 1\n",
    "left_std.mean()"
   ]
  },
  {
   "cell_type": "code",
   "execution_count": 16,
   "metadata": {},
   "outputs": [
    {
     "data": {
      "text/html": [
       "<div>\n",
       "<style scoped>\n",
       "    .dataframe tbody tr th:only-of-type {\n",
       "        vertical-align: middle;\n",
       "    }\n",
       "\n",
       "    .dataframe tbody tr th {\n",
       "        vertical-align: top;\n",
       "    }\n",
       "\n",
       "    .dataframe thead th {\n",
       "        text-align: right;\n",
       "    }\n",
       "</style>\n",
       "<table border=\"1\" class=\"dataframe\">\n",
       "  <thead>\n",
       "    <tr style=\"text-align: right;\">\n",
       "      <th></th>\n",
       "      <th>STUDENT IDENTIFIER</th>\n",
       "      <th>STDNT_AGE</th>\n",
       "      <th>STDNT_TEST_ENTRANCE1</th>\n",
       "      <th>STDNT_TEST_ENTRANCE2</th>\n",
       "      <th>STDNT_TEST_ENTRANCE_COMB</th>\n",
       "      <th>FIRST_TERM</th>\n",
       "      <th>SECOND_TERM</th>\n",
       "      <th>RETURNED_2ND_YR</th>\n",
       "      <th>DISTANCE_FROM_HOME</th>\n",
       "      <th>HIGH_SCHL_GPA</th>\n",
       "      <th>FATHER_HI_EDU_CD</th>\n",
       "      <th>MOTHER_HI_EDU_CD</th>\n",
       "      <th>FIRST_TERM_ATTEMPT_HRS</th>\n",
       "      <th>FIRST_TERM_EARNED_HRS</th>\n",
       "      <th>SECOND_TERM_ATTEMPT_HRS</th>\n",
       "      <th>SECOND_TERM_EARNED_HRS</th>\n",
       "      <th>GROSS_FIN_NEED</th>\n",
       "      <th>COST_OF_ATTEND</th>\n",
       "      <th>EST_FAM_CONTRIBUTION</th>\n",
       "      <th>UNMET_NEED</th>\n",
       "    </tr>\n",
       "  </thead>\n",
       "  <tbody>\n",
       "    <tr>\n",
       "      <th>count</th>\n",
       "      <td>3.400000e+03</td>\n",
       "      <td>3400.000000</td>\n",
       "      <td>1106.000000</td>\n",
       "      <td>2492.000000</td>\n",
       "      <td>2882.000000</td>\n",
       "      <td>3400.000000</td>\n",
       "      <td>3400.000000</td>\n",
       "      <td>3400.000000</td>\n",
       "      <td>3375.000000</td>\n",
       "      <td>3347.000000</td>\n",
       "      <td>2968.000000</td>\n",
       "      <td>2911.000000</td>\n",
       "      <td>3400.000000</td>\n",
       "      <td>3400.000000</td>\n",
       "      <td>3194.000000</td>\n",
       "      <td>3191.000000</td>\n",
       "      <td>3.400000e+03</td>\n",
       "      <td>3.400000e+03</td>\n",
       "      <td>3.400000e+03</td>\n",
       "      <td>3.400000e+03</td>\n",
       "    </tr>\n",
       "    <tr>\n",
       "      <th>mean</th>\n",
       "      <td>7.897155e+06</td>\n",
       "      <td>17.994118</td>\n",
       "      <td>20.660036</td>\n",
       "      <td>965.092295</td>\n",
       "      <td>997.758501</td>\n",
       "      <td>200777.000000</td>\n",
       "      <td>200871.000000</td>\n",
       "      <td>0.787353</td>\n",
       "      <td>99.825185</td>\n",
       "      <td>3.202738</td>\n",
       "      <td>2.560647</td>\n",
       "      <td>2.571281</td>\n",
       "      <td>13.985882</td>\n",
       "      <td>12.205000</td>\n",
       "      <td>14.285848</td>\n",
       "      <td>12.511125</td>\n",
       "      <td>3.034025e+05</td>\n",
       "      <td>5.515335e+05</td>\n",
       "      <td>3.446899e+05</td>\n",
       "      <td>7.222052e+04</td>\n",
       "    </tr>\n",
       "    <tr>\n",
       "      <th>std</th>\n",
       "      <td>8.083421e+04</td>\n",
       "      <td>0.552052</td>\n",
       "      <td>3.234734</td>\n",
       "      <td>209.088633</td>\n",
       "      <td>156.268221</td>\n",
       "      <td>170.001298</td>\n",
       "      <td>170.001298</td>\n",
       "      <td>0.409240</td>\n",
       "      <td>235.196984</td>\n",
       "      <td>0.455337</td>\n",
       "      <td>0.681273</td>\n",
       "      <td>0.611729</td>\n",
       "      <td>1.554286</td>\n",
       "      <td>2.986294</td>\n",
       "      <td>2.104387</td>\n",
       "      <td>3.470492</td>\n",
       "      <td>4.836255e+05</td>\n",
       "      <td>6.064403e+05</td>\n",
       "      <td>7.871878e+05</td>\n",
       "      <td>2.795679e+05</td>\n",
       "    </tr>\n",
       "    <tr>\n",
       "      <th>min</th>\n",
       "      <td>7.755837e+06</td>\n",
       "      <td>16.000000</td>\n",
       "      <td>8.000000</td>\n",
       "      <td>350.000000</td>\n",
       "      <td>530.000000</td>\n",
       "      <td>200508.000000</td>\n",
       "      <td>200602.000000</td>\n",
       "      <td>0.000000</td>\n",
       "      <td>0.000000</td>\n",
       "      <td>0.000000</td>\n",
       "      <td>1.000000</td>\n",
       "      <td>1.000000</td>\n",
       "      <td>9.000000</td>\n",
       "      <td>0.000000</td>\n",
       "      <td>2.000000</td>\n",
       "      <td>0.000000</td>\n",
       "      <td>0.000000e+00</td>\n",
       "      <td>0.000000e+00</td>\n",
       "      <td>0.000000e+00</td>\n",
       "      <td>-1.212072e+06</td>\n",
       "    </tr>\n",
       "    <tr>\n",
       "      <th>25%</th>\n",
       "      <td>7.827039e+06</td>\n",
       "      <td>18.000000</td>\n",
       "      <td>18.000000</td>\n",
       "      <td>900.000000</td>\n",
       "      <td>910.000000</td>\n",
       "      <td>200608.000000</td>\n",
       "      <td>200702.000000</td>\n",
       "      <td>1.000000</td>\n",
       "      <td>69.000000</td>\n",
       "      <td>2.870000</td>\n",
       "      <td>2.000000</td>\n",
       "      <td>2.000000</td>\n",
       "      <td>13.000000</td>\n",
       "      <td>11.000000</td>\n",
       "      <td>13.000000</td>\n",
       "      <td>11.000000</td>\n",
       "      <td>0.000000e+00</td>\n",
       "      <td>0.000000e+00</td>\n",
       "      <td>0.000000e+00</td>\n",
       "      <td>0.000000e+00</td>\n",
       "    </tr>\n",
       "    <tr>\n",
       "      <th>50%</th>\n",
       "      <td>7.899052e+06</td>\n",
       "      <td>18.000000</td>\n",
       "      <td>20.000000</td>\n",
       "      <td>990.000000</td>\n",
       "      <td>990.000000</td>\n",
       "      <td>200808.000000</td>\n",
       "      <td>200902.000000</td>\n",
       "      <td>1.000000</td>\n",
       "      <td>69.000000</td>\n",
       "      <td>3.200000</td>\n",
       "      <td>3.000000</td>\n",
       "      <td>3.000000</td>\n",
       "      <td>14.000000</td>\n",
       "      <td>13.000000</td>\n",
       "      <td>14.000000</td>\n",
       "      <td>13.000000</td>\n",
       "      <td>0.000000e+00</td>\n",
       "      <td>1.505400e+05</td>\n",
       "      <td>0.000000e+00</td>\n",
       "      <td>0.000000e+00</td>\n",
       "    </tr>\n",
       "    <tr>\n",
       "      <th>75%</th>\n",
       "      <td>7.964008e+06</td>\n",
       "      <td>18.000000</td>\n",
       "      <td>22.000000</td>\n",
       "      <td>1100.000000</td>\n",
       "      <td>1110.000000</td>\n",
       "      <td>200908.000000</td>\n",
       "      <td>201002.000000</td>\n",
       "      <td>1.000000</td>\n",
       "      <td>138.000000</td>\n",
       "      <td>3.560000</td>\n",
       "      <td>3.000000</td>\n",
       "      <td>3.000000</td>\n",
       "      <td>15.000000</td>\n",
       "      <td>15.000000</td>\n",
       "      <td>16.000000</td>\n",
       "      <td>15.000000</td>\n",
       "      <td>5.995800e+05</td>\n",
       "      <td>1.192815e+06</td>\n",
       "      <td>3.241800e+05</td>\n",
       "      <td>1.876155e+05</td>\n",
       "    </tr>\n",
       "    <tr>\n",
       "      <th>max</th>\n",
       "      <td>8.037098e+06</td>\n",
       "      <td>26.000000</td>\n",
       "      <td>32.000000</td>\n",
       "      <td>1490.000000</td>\n",
       "      <td>1510.000000</td>\n",
       "      <td>201008.000000</td>\n",
       "      <td>201102.000000</td>\n",
       "      <td>1.000000</td>\n",
       "      <td>5932.000000</td>\n",
       "      <td>4.000000</td>\n",
       "      <td>4.000000</td>\n",
       "      <td>4.000000</td>\n",
       "      <td>21.000000</td>\n",
       "      <td>21.000000</td>\n",
       "      <td>23.000000</td>\n",
       "      <td>23.000000</td>\n",
       "      <td>2.124900e+06</td>\n",
       "      <td>2.124900e+06</td>\n",
       "      <td>5.999940e+06</td>\n",
       "      <td>1.632660e+06</td>\n",
       "    </tr>\n",
       "  </tbody>\n",
       "</table>\n",
       "</div>"
      ],
      "text/plain": [
       "       STUDENT IDENTIFIER    STDNT_AGE  STDNT_TEST_ENTRANCE1  \\\n",
       "count        3.400000e+03  3400.000000           1106.000000   \n",
       "mean         7.897155e+06    17.994118             20.660036   \n",
       "std          8.083421e+04     0.552052              3.234734   \n",
       "min          7.755837e+06    16.000000              8.000000   \n",
       "25%          7.827039e+06    18.000000             18.000000   \n",
       "50%          7.899052e+06    18.000000             20.000000   \n",
       "75%          7.964008e+06    18.000000             22.000000   \n",
       "max          8.037098e+06    26.000000             32.000000   \n",
       "\n",
       "       STDNT_TEST_ENTRANCE2  STDNT_TEST_ENTRANCE_COMB     FIRST_TERM  \\\n",
       "count           2492.000000               2882.000000    3400.000000   \n",
       "mean             965.092295                997.758501  200777.000000   \n",
       "std              209.088633                156.268221     170.001298   \n",
       "min              350.000000                530.000000  200508.000000   \n",
       "25%              900.000000                910.000000  200608.000000   \n",
       "50%              990.000000                990.000000  200808.000000   \n",
       "75%             1100.000000               1110.000000  200908.000000   \n",
       "max             1490.000000               1510.000000  201008.000000   \n",
       "\n",
       "         SECOND_TERM  RETURNED_2ND_YR  DISTANCE_FROM_HOME  HIGH_SCHL_GPA  \\\n",
       "count    3400.000000      3400.000000         3375.000000    3347.000000   \n",
       "mean   200871.000000         0.787353           99.825185       3.202738   \n",
       "std       170.001298         0.409240          235.196984       0.455337   \n",
       "min    200602.000000         0.000000            0.000000       0.000000   \n",
       "25%    200702.000000         1.000000           69.000000       2.870000   \n",
       "50%    200902.000000         1.000000           69.000000       3.200000   \n",
       "75%    201002.000000         1.000000          138.000000       3.560000   \n",
       "max    201102.000000         1.000000         5932.000000       4.000000   \n",
       "\n",
       "       FATHER_HI_EDU_CD  MOTHER_HI_EDU_CD  FIRST_TERM_ATTEMPT_HRS  \\\n",
       "count       2968.000000       2911.000000             3400.000000   \n",
       "mean           2.560647          2.571281               13.985882   \n",
       "std            0.681273          0.611729                1.554286   \n",
       "min            1.000000          1.000000                9.000000   \n",
       "25%            2.000000          2.000000               13.000000   \n",
       "50%            3.000000          3.000000               14.000000   \n",
       "75%            3.000000          3.000000               15.000000   \n",
       "max            4.000000          4.000000               21.000000   \n",
       "\n",
       "       FIRST_TERM_EARNED_HRS  SECOND_TERM_ATTEMPT_HRS  SECOND_TERM_EARNED_HRS  \\\n",
       "count            3400.000000              3194.000000             3191.000000   \n",
       "mean               12.205000                14.285848               12.511125   \n",
       "std                 2.986294                 2.104387                3.470492   \n",
       "min                 0.000000                 2.000000                0.000000   \n",
       "25%                11.000000                13.000000               11.000000   \n",
       "50%                13.000000                14.000000               13.000000   \n",
       "75%                15.000000                16.000000               15.000000   \n",
       "max                21.000000                23.000000               23.000000   \n",
       "\n",
       "       GROSS_FIN_NEED  COST_OF_ATTEND  EST_FAM_CONTRIBUTION    UNMET_NEED  \n",
       "count    3.400000e+03    3.400000e+03          3.400000e+03  3.400000e+03  \n",
       "mean     3.034025e+05    5.515335e+05          3.446899e+05  7.222052e+04  \n",
       "std      4.836255e+05    6.064403e+05          7.871878e+05  2.795679e+05  \n",
       "min      0.000000e+00    0.000000e+00          0.000000e+00 -1.212072e+06  \n",
       "25%      0.000000e+00    0.000000e+00          0.000000e+00  0.000000e+00  \n",
       "50%      0.000000e+00    1.505400e+05          0.000000e+00  0.000000e+00  \n",
       "75%      5.995800e+05    1.192815e+06          3.241800e+05  1.876155e+05  \n",
       "max      2.124900e+06    2.124900e+06          5.999940e+06  1.632660e+06  "
      ]
     },
     "execution_count": 16,
     "metadata": {},
     "output_type": "execute_result"
    }
   ],
   "source": [
    "# It shows statistic summary\n",
    "df1.describe()"
   ]
  },
  {
   "cell_type": "code",
   "execution_count": 17,
   "metadata": {},
   "outputs": [
    {
     "data": {
      "text/plain": [
       "F    2140\n",
       "M    1260\n",
       "Name: STDNT_GENDER, dtype: int64"
      ]
     },
     "execution_count": 17,
     "metadata": {},
     "output_type": "execute_result"
    }
   ],
   "source": [
    "# It shows number of Female and male students \n",
    "df1['STDNT_GENDER'].value_counts()"
   ]
  },
  {
   "cell_type": "code",
   "execution_count": 18,
   "metadata": {},
   "outputs": [],
   "source": [
    "# It is used to group the data to see number of students left and returned\n",
    "left_std=df1.groupby ('RETURNED_2ND_YR')\n",
    "left_count=df1.groupby('RETURNED_2ND_YR').count()"
   ]
  },
  {
   "cell_type": "code",
   "execution_count": 19,
   "metadata": {},
   "outputs": [
    {
     "data": {
      "image/png": "[encoded data removed]",
      "text/plain": [
       "<Figure size 432x288 with 1 Axes>"
      ]
     },
     "metadata": {
      "needs_background": "light"
     },
     "output_type": "display_data"
    }
   ],
   "source": [
    "# It will plot the bar chart to see how many students left due to distane from home\n",
    "plt.bar(left_count.index.values, left_count['DISTANCE_FROM_HOME'])\n",
    "plt.xlabel('Students Left College')\n",
    "plt.ylabel('Number of students')\n",
    "plt.title('Distance from home')\n",
    "plt.show()"
   ]
  },
  {
   "cell_type": "code",
   "execution_count": 20,
   "metadata": {},
   "outputs": [
    {
     "data": {
      "text/plain": [
       "1    2677\n",
       "0     723\n",
       "Name: RETURNED_2ND_YR, dtype: int64"
      ]
     },
     "execution_count": 20,
     "metadata": {},
     "output_type": "execute_result"
    }
   ],
   "source": [
    "# It gives count for number of students left and return\n",
    "df1.RETURNED_2ND_YR.value_counts()"
   ]
  },
  {
   "cell_type": "code",
   "execution_count": 21,
   "metadata": {},
   "outputs": [],
   "source": [
    "# Its new data frame to see all the std who left\n",
    "df1_new=df1.query(\"RETURNED_2ND_YR=='0'\")"
   ]
  },
  {
   "cell_type": "code",
   "execution_count": 22,
   "metadata": {},
   "outputs": [
    {
     "data": {
      "text/html": [
       "<div>\n",
       "<style scoped>\n",
       "    .dataframe tbody tr th:only-of-type {\n",
       "        vertical-align: middle;\n",
       "    }\n",
       "\n",
       "    .dataframe tbody tr th {\n",
       "        vertical-align: top;\n",
       "    }\n",
       "\n",
       "    .dataframe thead th {\n",
       "        text-align: right;\n",
       "    }\n",
       "</style>\n",
       "<table border=\"1\" class=\"dataframe\">\n",
       "  <thead>\n",
       "    <tr style=\"text-align: right;\">\n",
       "      <th></th>\n",
       "      <th>STUDENT IDENTIFIER</th>\n",
       "      <th>STDNT_AGE</th>\n",
       "      <th>STDNT_GENDER</th>\n",
       "      <th>STDNT_BACKGROUND</th>\n",
       "      <th>IN_STATE_FLAG</th>\n",
       "      <th>INTERNATIONAL_STS</th>\n",
       "      <th>STDNT_MAJOR</th>\n",
       "      <th>STDNT_MINOR</th>\n",
       "      <th>STDNT_TEST_ENTRANCE1</th>\n",
       "      <th>STDNT_TEST_ENTRANCE2</th>\n",
       "      <th>...</th>\n",
       "      <th>DEGREE_GROUP_CD</th>\n",
       "      <th>DEGREE_GROUP_DESC</th>\n",
       "      <th>FIRST_TERM_ATTEMPT_HRS</th>\n",
       "      <th>FIRST_TERM_EARNED_HRS</th>\n",
       "      <th>SECOND_TERM_ATTEMPT_HRS</th>\n",
       "      <th>SECOND_TERM_EARNED_HRS</th>\n",
       "      <th>GROSS_FIN_NEED</th>\n",
       "      <th>COST_OF_ATTEND</th>\n",
       "      <th>EST_FAM_CONTRIBUTION</th>\n",
       "      <th>UNMET_NEED</th>\n",
       "    </tr>\n",
       "  </thead>\n",
       "  <tbody>\n",
       "    <tr>\n",
       "      <th>0</th>\n",
       "      <td>7808615</td>\n",
       "      <td>18</td>\n",
       "      <td>F</td>\n",
       "      <td>BGD 1</td>\n",
       "      <td>Y</td>\n",
       "      <td>N</td>\n",
       "      <td>Undeclared</td>\n",
       "      <td>N</td>\n",
       "      <td>NaN</td>\n",
       "      <td>1150.0</td>\n",
       "      <td>...</td>\n",
       "      <td>B</td>\n",
       "      <td>Bachelors</td>\n",
       "      <td>16</td>\n",
       "      <td>16</td>\n",
       "      <td>14.0</td>\n",
       "      <td>14.0</td>\n",
       "      <td>0</td>\n",
       "      <td>0</td>\n",
       "      <td>0</td>\n",
       "      <td>0.0</td>\n",
       "    </tr>\n",
       "    <tr>\n",
       "      <th>11</th>\n",
       "      <td>7884573</td>\n",
       "      <td>18</td>\n",
       "      <td>F</td>\n",
       "      <td>BGD 1</td>\n",
       "      <td>Y</td>\n",
       "      <td>N</td>\n",
       "      <td>Undeclared</td>\n",
       "      <td>N</td>\n",
       "      <td>NaN</td>\n",
       "      <td>1050.0</td>\n",
       "      <td>...</td>\n",
       "      <td>B</td>\n",
       "      <td>Bachelors</td>\n",
       "      <td>16</td>\n",
       "      <td>16</td>\n",
       "      <td>16.0</td>\n",
       "      <td>16.0</td>\n",
       "      <td>0</td>\n",
       "      <td>1189920</td>\n",
       "      <td>5163240</td>\n",
       "      <td>-326880.0</td>\n",
       "    </tr>\n",
       "    <tr>\n",
       "      <th>17</th>\n",
       "      <td>8004193</td>\n",
       "      <td>17</td>\n",
       "      <td>M</td>\n",
       "      <td>BGD 1</td>\n",
       "      <td>N</td>\n",
       "      <td>N</td>\n",
       "      <td>Biology</td>\n",
       "      <td>N</td>\n",
       "      <td>NaN</td>\n",
       "      <td>1040.0</td>\n",
       "      <td>...</td>\n",
       "      <td>B</td>\n",
       "      <td>Bachelors</td>\n",
       "      <td>14</td>\n",
       "      <td>14</td>\n",
       "      <td>14.0</td>\n",
       "      <td>14.0</td>\n",
       "      <td>1083000</td>\n",
       "      <td>1324500</td>\n",
       "      <td>241500</td>\n",
       "      <td>476580.0</td>\n",
       "    </tr>\n",
       "    <tr>\n",
       "      <th>23</th>\n",
       "      <td>8007842</td>\n",
       "      <td>18</td>\n",
       "      <td>F</td>\n",
       "      <td>BGD 1</td>\n",
       "      <td>Y</td>\n",
       "      <td>N</td>\n",
       "      <td>Pre-Nursing</td>\n",
       "      <td>N</td>\n",
       "      <td>NaN</td>\n",
       "      <td>580.0</td>\n",
       "      <td>...</td>\n",
       "      <td>B</td>\n",
       "      <td>Bachelors</td>\n",
       "      <td>15</td>\n",
       "      <td>15</td>\n",
       "      <td>15.0</td>\n",
       "      <td>15.0</td>\n",
       "      <td>0</td>\n",
       "      <td>0</td>\n",
       "      <td>0</td>\n",
       "      <td>0.0</td>\n",
       "    </tr>\n",
       "    <tr>\n",
       "      <th>36</th>\n",
       "      <td>7799972</td>\n",
       "      <td>18</td>\n",
       "      <td>F</td>\n",
       "      <td>BGD 1</td>\n",
       "      <td>Y</td>\n",
       "      <td>N</td>\n",
       "      <td>Undeclared</td>\n",
       "      <td>N</td>\n",
       "      <td>NaN</td>\n",
       "      <td>620.0</td>\n",
       "      <td>...</td>\n",
       "      <td>B</td>\n",
       "      <td>Bachelors</td>\n",
       "      <td>18</td>\n",
       "      <td>18</td>\n",
       "      <td>14.0</td>\n",
       "      <td>14.0</td>\n",
       "      <td>0</td>\n",
       "      <td>0</td>\n",
       "      <td>0</td>\n",
       "      <td>0.0</td>\n",
       "    </tr>\n",
       "    <tr>\n",
       "      <th>45</th>\n",
       "      <td>7911769</td>\n",
       "      <td>18</td>\n",
       "      <td>F</td>\n",
       "      <td>BGD 1</td>\n",
       "      <td>Y</td>\n",
       "      <td>N</td>\n",
       "      <td>Psychology</td>\n",
       "      <td>N</td>\n",
       "      <td>NaN</td>\n",
       "      <td>1130.0</td>\n",
       "      <td>...</td>\n",
       "      <td>B</td>\n",
       "      <td>Bachelors</td>\n",
       "      <td>15</td>\n",
       "      <td>15</td>\n",
       "      <td>15.0</td>\n",
       "      <td>15.0</td>\n",
       "      <td>355200</td>\n",
       "      <td>1176420</td>\n",
       "      <td>821220</td>\n",
       "      <td>56040.0</td>\n",
       "    </tr>\n",
       "    <tr>\n",
       "      <th>56</th>\n",
       "      <td>7889645</td>\n",
       "      <td>18</td>\n",
       "      <td>F</td>\n",
       "      <td>BGD 1</td>\n",
       "      <td>Y</td>\n",
       "      <td>N</td>\n",
       "      <td>Early Childhood Education</td>\n",
       "      <td>N</td>\n",
       "      <td>26.0</td>\n",
       "      <td>NaN</td>\n",
       "      <td>...</td>\n",
       "      <td>B</td>\n",
       "      <td>Bachelors</td>\n",
       "      <td>14</td>\n",
       "      <td>10</td>\n",
       "      <td>12.0</td>\n",
       "      <td>12.0</td>\n",
       "      <td>0</td>\n",
       "      <td>0</td>\n",
       "      <td>0</td>\n",
       "      <td>0.0</td>\n",
       "    </tr>\n",
       "    <tr>\n",
       "      <th>73</th>\n",
       "      <td>7807583</td>\n",
       "      <td>18</td>\n",
       "      <td>F</td>\n",
       "      <td>BGD 6</td>\n",
       "      <td>Y</td>\n",
       "      <td>N</td>\n",
       "      <td>Undeclared</td>\n",
       "      <td>N</td>\n",
       "      <td>NaN</td>\n",
       "      <td>1360.0</td>\n",
       "      <td>...</td>\n",
       "      <td>B</td>\n",
       "      <td>Bachelors</td>\n",
       "      <td>16</td>\n",
       "      <td>16</td>\n",
       "      <td>15.0</td>\n",
       "      <td>15.0</td>\n",
       "      <td>0</td>\n",
       "      <td>0</td>\n",
       "      <td>0</td>\n",
       "      <td>0.0</td>\n",
       "    </tr>\n",
       "    <tr>\n",
       "      <th>84</th>\n",
       "      <td>7935064</td>\n",
       "      <td>18</td>\n",
       "      <td>F</td>\n",
       "      <td>BGD 1</td>\n",
       "      <td>Y</td>\n",
       "      <td>N</td>\n",
       "      <td>Undeclared</td>\n",
       "      <td>N</td>\n",
       "      <td>27.0</td>\n",
       "      <td>NaN</td>\n",
       "      <td>...</td>\n",
       "      <td>B</td>\n",
       "      <td>Bachelors</td>\n",
       "      <td>15</td>\n",
       "      <td>15</td>\n",
       "      <td>16.0</td>\n",
       "      <td>16.0</td>\n",
       "      <td>0</td>\n",
       "      <td>0</td>\n",
       "      <td>0</td>\n",
       "      <td>0.0</td>\n",
       "    </tr>\n",
       "    <tr>\n",
       "      <th>85</th>\n",
       "      <td>7805566</td>\n",
       "      <td>17</td>\n",
       "      <td>F</td>\n",
       "      <td>BGD 1</td>\n",
       "      <td>Y</td>\n",
       "      <td>N</td>\n",
       "      <td>Undeclared</td>\n",
       "      <td>N</td>\n",
       "      <td>NaN</td>\n",
       "      <td>1150.0</td>\n",
       "      <td>...</td>\n",
       "      <td>B</td>\n",
       "      <td>Bachelors</td>\n",
       "      <td>13</td>\n",
       "      <td>13</td>\n",
       "      <td>12.0</td>\n",
       "      <td>12.0</td>\n",
       "      <td>0</td>\n",
       "      <td>1264860</td>\n",
       "      <td>1471380</td>\n",
       "      <td>-347580.0</td>\n",
       "    </tr>\n",
       "  </tbody>\n",
       "</table>\n",
       "<p>10 rows × 56 columns</p>\n",
       "</div>"
      ],
      "text/plain": [
       "    STUDENT IDENTIFIER  STDNT_AGE STDNT_GENDER STDNT_BACKGROUND IN_STATE_FLAG  \\\n",
       "0              7808615         18            F            BGD 1             Y   \n",
       "11             7884573         18            F            BGD 1             Y   \n",
       "17             8004193         17            M            BGD 1             N   \n",
       "23             8007842         18            F            BGD 1             Y   \n",
       "36             7799972         18            F            BGD 1             Y   \n",
       "45             7911769         18            F            BGD 1             Y   \n",
       "56             7889645         18            F            BGD 1             Y   \n",
       "73             7807583         18            F            BGD 6             Y   \n",
       "84             7935064         18            F            BGD 1             Y   \n",
       "85             7805566         17            F            BGD 1             Y   \n",
       "\n",
       "   INTERNATIONAL_STS                STDNT_MAJOR STDNT_MINOR  \\\n",
       "0                  N                 Undeclared           N   \n",
       "11                 N                 Undeclared           N   \n",
       "17                 N                    Biology           N   \n",
       "23                 N                Pre-Nursing           N   \n",
       "36                 N                 Undeclared           N   \n",
       "45                 N                 Psychology           N   \n",
       "56                 N  Early Childhood Education           N   \n",
       "73                 N                 Undeclared           N   \n",
       "84                 N                 Undeclared           N   \n",
       "85                 N                 Undeclared           N   \n",
       "\n",
       "    STDNT_TEST_ENTRANCE1  STDNT_TEST_ENTRANCE2  ...  DEGREE_GROUP_CD  \\\n",
       "0                    NaN                1150.0  ...                B   \n",
       "11                   NaN                1050.0  ...                B   \n",
       "17                   NaN                1040.0  ...                B   \n",
       "23                   NaN                 580.0  ...                B   \n",
       "36                   NaN                 620.0  ...                B   \n",
       "45                   NaN                1130.0  ...                B   \n",
       "56                  26.0                   NaN  ...                B   \n",
       "73                   NaN                1360.0  ...                B   \n",
       "84                  27.0                   NaN  ...                B   \n",
       "85                   NaN                1150.0  ...                B   \n",
       "\n",
       "    DEGREE_GROUP_DESC FIRST_TERM_ATTEMPT_HRS FIRST_TERM_EARNED_HRS  \\\n",
       "0           Bachelors                     16                    16   \n",
       "11          Bachelors                     16                    16   \n",
       "17          Bachelors                     14                    14   \n",
       "23          Bachelors                     15                    15   \n",
       "36          Bachelors                     18                    18   \n",
       "45          Bachelors                     15                    15   \n",
       "56          Bachelors                     14                    10   \n",
       "73          Bachelors                     16                    16   \n",
       "84          Bachelors                     15                    15   \n",
       "85          Bachelors                     13                    13   \n",
       "\n",
       "   SECOND_TERM_ATTEMPT_HRS SECOND_TERM_EARNED_HRS GROSS_FIN_NEED  \\\n",
       "0                     14.0                   14.0              0   \n",
       "11                    16.0                   16.0              0   \n",
       "17                    14.0                   14.0        1083000   \n",
       "23                    15.0                   15.0              0   \n",
       "36                    14.0                   14.0              0   \n",
       "45                    15.0                   15.0         355200   \n",
       "56                    12.0                   12.0              0   \n",
       "73                    15.0                   15.0              0   \n",
       "84                    16.0                   16.0              0   \n",
       "85                    12.0                   12.0              0   \n",
       "\n",
       "   COST_OF_ATTEND EST_FAM_CONTRIBUTION UNMET_NEED  \n",
       "0               0                    0        0.0  \n",
       "11        1189920              5163240  -326880.0  \n",
       "17        1324500               241500   476580.0  \n",
       "23              0                    0        0.0  \n",
       "36              0                    0        0.0  \n",
       "45        1176420               821220    56040.0  \n",
       "56              0                    0        0.0  \n",
       "73              0                    0        0.0  \n",
       "84              0                    0        0.0  \n",
       "85        1264860              1471380  -347580.0  \n",
       "\n",
       "[10 rows x 56 columns]"
      ]
     },
     "execution_count": 22,
     "metadata": {},
     "output_type": "execute_result"
    }
   ],
   "source": [
    "# It shows first 10 left std data\n",
    "df1_new.head(10)"
   ]
  },
  {
   "cell_type": "code",
   "execution_count": 23,
   "metadata": {},
   "outputs": [
    {
     "data": {
      "text/plain": [
       "STUDENT IDENTIFIER            0\n",
       "STDNT_AGE                     0\n",
       "STDNT_GENDER                  0\n",
       "STDNT_BACKGROUND              0\n",
       "IN_STATE_FLAG                 0\n",
       "INTERNATIONAL_STS             0\n",
       "STDNT_MAJOR                   0\n",
       "STDNT_MINOR                   0\n",
       "STDNT_TEST_ENTRANCE1        483\n",
       "STDNT_TEST_ENTRANCE2        213\n",
       "STDNT_TEST_ENTRANCE_COMB    119\n",
       "FIRST_TERM                    0\n",
       "CORE_COURSE_NAME_1_F          0\n",
       "CORE_COURSE_GRADE_1_F         0\n",
       "CORE_COURSE_NAME_2_F         20\n",
       "CORE_COURSE_GRADE_2_F        20\n",
       "CORE_COURSE_NAME_3_F        116\n",
       "CORE_COURSE_GRADE_3_F       116\n",
       "CORE_COURSE_NAME_4_F        330\n",
       "CORE_COURSE_GRADE_4_F       330\n",
       "CORE_COURSE_NAME_5_F        594\n",
       "CORE_COURSE_GRADE_5_F       594\n",
       "CORE_COURSE_NAME_6_F        694\n",
       "CORE_COURSE_GRADE_6_F       694\n",
       "SECOND_TERM                   0\n",
       "CORE_COURSE_NAME_1_S        125\n",
       "CORE_COURSE_GRADE_1_S       189\n",
       "CORE_COURSE_NAME_2_S        221\n",
       "CORE_COURSE_GRADE_2_S       221\n",
       "CORE_COURSE_NAME_3_S        315\n",
       "CORE_COURSE_GRADE_3_S       315\n",
       "CORE_COURSE_NAME_4_S        489\n",
       "CORE_COURSE_GRADE_4_S       489\n",
       "CORE_COURSE_NAME_5_S        652\n",
       "CORE_COURSE_GRADE_5_S       652\n",
       "CORE_COURSE_NAME_6_S        710\n",
       "CORE_COURSE_GRADE_6_S       710\n",
       "HOUSING_STS                   0\n",
       "RETURNED_2ND_YR               0\n",
       "DISTANCE_FROM_HOME           10\n",
       "HIGH_SCHL_GPA                15\n",
       "HIGH_SCHL_NAME                0\n",
       "FATHER_HI_EDU_CD            103\n",
       "FATHER_HI_EDU_DESC            0\n",
       "MOTHER_HI_EDU_CD            123\n",
       "MOTHER_HI_EDU_DESC            0\n",
       "DEGREE_GROUP_CD               0\n",
       "DEGREE_GROUP_DESC             0\n",
       "FIRST_TERM_ATTEMPT_HRS        0\n",
       "FIRST_TERM_EARNED_HRS         0\n",
       "SECOND_TERM_ATTEMPT_HRS     179\n",
       "SECOND_TERM_EARNED_HRS      179\n",
       "GROSS_FIN_NEED                0\n",
       "COST_OF_ATTEND                0\n",
       "EST_FAM_CONTRIBUTION          0\n",
       "UNMET_NEED                    0\n",
       "dtype: int64"
      ]
     },
     "execution_count": 23,
     "metadata": {},
     "output_type": "execute_result"
    }
   ],
   "source": [
    "# It shows missing values for new data frame for left students\n",
    "df1_new.isnull().sum()"
   ]
  },
  {
   "cell_type": "code",
   "execution_count": 24,
   "metadata": {},
   "outputs": [
    {
     "name": "stdout",
     "output_type": "stream",
     "text": [
      "<class 'pandas.core.frame.DataFrame'>\n",
      "Int64Index: 723 entries, 0 to 3399\n",
      "Data columns (total 56 columns):\n",
      "STUDENT IDENTIFIER          723 non-null int64\n",
      "STDNT_AGE                   723 non-null int64\n",
      "STDNT_GENDER                723 non-null object\n",
      "STDNT_BACKGROUND            723 non-null object\n",
      "IN_STATE_FLAG               723 non-null object\n",
      "INTERNATIONAL_STS           723 non-null object\n",
      "STDNT_MAJOR                 723 non-null object\n",
      "STDNT_MINOR                 723 non-null object\n",
      "STDNT_TEST_ENTRANCE1        240 non-null float64\n",
      "STDNT_TEST_ENTRANCE2        510 non-null float64\n",
      "STDNT_TEST_ENTRANCE_COMB    604 non-null float64\n",
      "FIRST_TERM                  723 non-null int64\n",
      "CORE_COURSE_NAME_1_F        723 non-null object\n",
      "CORE_COURSE_GRADE_1_F       723 non-null object\n",
      "CORE_COURSE_NAME_2_F        703 non-null object\n",
      "CORE_COURSE_GRADE_2_F       703 non-null object\n",
      "CORE_COURSE_NAME_3_F        607 non-null object\n",
      "CORE_COURSE_GRADE_3_F       607 non-null object\n",
      "CORE_COURSE_NAME_4_F        393 non-null object\n",
      "CORE_COURSE_GRADE_4_F       393 non-null object\n",
      "CORE_COURSE_NAME_5_F        129 non-null object\n",
      "CORE_COURSE_GRADE_5_F       129 non-null object\n",
      "CORE_COURSE_NAME_6_F        29 non-null object\n",
      "CORE_COURSE_GRADE_6_F       29 non-null object\n",
      "SECOND_TERM                 723 non-null int64\n",
      "CORE_COURSE_NAME_1_S        598 non-null object\n",
      "CORE_COURSE_GRADE_1_S       534 non-null object\n",
      "CORE_COURSE_NAME_2_S        502 non-null object\n",
      "CORE_COURSE_GRADE_2_S       502 non-null object\n",
      "CORE_COURSE_NAME_3_S        408 non-null object\n",
      "CORE_COURSE_GRADE_3_S       408 non-null object\n",
      "CORE_COURSE_NAME_4_S        234 non-null object\n",
      "CORE_COURSE_GRADE_4_S       234 non-null object\n",
      "CORE_COURSE_NAME_5_S        71 non-null object\n",
      "CORE_COURSE_GRADE_5_S       71 non-null object\n",
      "CORE_COURSE_NAME_6_S        13 non-null object\n",
      "CORE_COURSE_GRADE_6_S       13 non-null object\n",
      "HOUSING_STS                 723 non-null object\n",
      "RETURNED_2ND_YR             723 non-null int64\n",
      "DISTANCE_FROM_HOME          713 non-null float64\n",
      "HIGH_SCHL_GPA               708 non-null float64\n",
      "HIGH_SCHL_NAME              723 non-null object\n",
      "FATHER_HI_EDU_CD            620 non-null float64\n",
      "FATHER_HI_EDU_DESC          723 non-null object\n",
      "MOTHER_HI_EDU_CD            600 non-null float64\n",
      "MOTHER_HI_EDU_DESC          723 non-null object\n",
      "DEGREE_GROUP_CD             723 non-null object\n",
      "DEGREE_GROUP_DESC           723 non-null object\n",
      "FIRST_TERM_ATTEMPT_HRS      723 non-null int64\n",
      "FIRST_TERM_EARNED_HRS       723 non-null int64\n",
      "SECOND_TERM_ATTEMPT_HRS     544 non-null float64\n",
      "SECOND_TERM_EARNED_HRS      544 non-null float64\n",
      "GROSS_FIN_NEED              723 non-null int64\n",
      "COST_OF_ATTEND              723 non-null int64\n",
      "EST_FAM_CONTRIBUTION        723 non-null int64\n",
      "UNMET_NEED                  723 non-null float64\n",
      "dtypes: float64(10), int64(10), object(36)\n",
      "memory usage: 322.0+ KB\n"
     ]
    }
   ],
   "source": [
    "# It gives information of what are data types..int , float object\n",
    "df1_new.info()"
   ]
  },
  {
   "cell_type": "code",
   "execution_count": 25,
   "metadata": {},
   "outputs": [],
   "source": [
    "# It will put the missing values in descending order with their percentage for each variable\n",
    "drp_col1=pd.DataFrame(round((df1_new.isnull().sum()/df1_new.shape[0])*100,2).sort_values(ascending=False)).reset_index()"
   ]
  },
  {
   "cell_type": "code",
   "execution_count": 26,
   "metadata": {},
   "outputs": [
    {
     "data": {
      "text/plain": [
       "(723, 56)"
      ]
     },
     "execution_count": 26,
     "metadata": {},
     "output_type": "execute_result"
    }
   ],
   "source": [
    "# It will show number of rows and columns for left std data frame\n",
    "df1_new.shape"
   ]
  },
  {
   "cell_type": "code",
   "execution_count": 27,
   "metadata": {
    "scrolled": true
   },
   "outputs": [
    {
     "data": {
      "text/html": [
       "<div>\n",
       "<style scoped>\n",
       "    .dataframe tbody tr th:only-of-type {\n",
       "        vertical-align: middle;\n",
       "    }\n",
       "\n",
       "    .dataframe tbody tr th {\n",
       "        vertical-align: top;\n",
       "    }\n",
       "\n",
       "    .dataframe thead th {\n",
       "        text-align: right;\n",
       "    }\n",
       "</style>\n",
       "<table border=\"1\" class=\"dataframe\">\n",
       "  <thead>\n",
       "    <tr style=\"text-align: right;\">\n",
       "      <th></th>\n",
       "      <th>index</th>\n",
       "      <th>0</th>\n",
       "    </tr>\n",
       "  </thead>\n",
       "  <tbody>\n",
       "    <tr>\n",
       "      <th>0</th>\n",
       "      <td>CORE_COURSE_NAME_6_S</td>\n",
       "      <td>98.20</td>\n",
       "    </tr>\n",
       "    <tr>\n",
       "      <th>1</th>\n",
       "      <td>CORE_COURSE_GRADE_6_S</td>\n",
       "      <td>98.20</td>\n",
       "    </tr>\n",
       "    <tr>\n",
       "      <th>2</th>\n",
       "      <td>CORE_COURSE_NAME_6_F</td>\n",
       "      <td>95.99</td>\n",
       "    </tr>\n",
       "    <tr>\n",
       "      <th>3</th>\n",
       "      <td>CORE_COURSE_GRADE_6_F</td>\n",
       "      <td>95.99</td>\n",
       "    </tr>\n",
       "    <tr>\n",
       "      <th>4</th>\n",
       "      <td>CORE_COURSE_NAME_5_S</td>\n",
       "      <td>90.18</td>\n",
       "    </tr>\n",
       "    <tr>\n",
       "      <th>5</th>\n",
       "      <td>CORE_COURSE_GRADE_5_S</td>\n",
       "      <td>90.18</td>\n",
       "    </tr>\n",
       "    <tr>\n",
       "      <th>6</th>\n",
       "      <td>CORE_COURSE_NAME_5_F</td>\n",
       "      <td>82.16</td>\n",
       "    </tr>\n",
       "    <tr>\n",
       "      <th>7</th>\n",
       "      <td>CORE_COURSE_GRADE_5_F</td>\n",
       "      <td>82.16</td>\n",
       "    </tr>\n",
       "    <tr>\n",
       "      <th>8</th>\n",
       "      <td>CORE_COURSE_NAME_4_S</td>\n",
       "      <td>67.63</td>\n",
       "    </tr>\n",
       "    <tr>\n",
       "      <th>9</th>\n",
       "      <td>CORE_COURSE_GRADE_4_S</td>\n",
       "      <td>67.63</td>\n",
       "    </tr>\n",
       "    <tr>\n",
       "      <th>10</th>\n",
       "      <td>STDNT_TEST_ENTRANCE1</td>\n",
       "      <td>66.80</td>\n",
       "    </tr>\n",
       "    <tr>\n",
       "      <th>11</th>\n",
       "      <td>CORE_COURSE_NAME_4_F</td>\n",
       "      <td>45.64</td>\n",
       "    </tr>\n",
       "    <tr>\n",
       "      <th>12</th>\n",
       "      <td>CORE_COURSE_GRADE_4_F</td>\n",
       "      <td>45.64</td>\n",
       "    </tr>\n",
       "    <tr>\n",
       "      <th>13</th>\n",
       "      <td>CORE_COURSE_NAME_3_S</td>\n",
       "      <td>43.57</td>\n",
       "    </tr>\n",
       "    <tr>\n",
       "      <th>14</th>\n",
       "      <td>CORE_COURSE_GRADE_3_S</td>\n",
       "      <td>43.57</td>\n",
       "    </tr>\n",
       "    <tr>\n",
       "      <th>15</th>\n",
       "      <td>CORE_COURSE_GRADE_2_S</td>\n",
       "      <td>30.57</td>\n",
       "    </tr>\n",
       "    <tr>\n",
       "      <th>16</th>\n",
       "      <td>CORE_COURSE_NAME_2_S</td>\n",
       "      <td>30.57</td>\n",
       "    </tr>\n",
       "    <tr>\n",
       "      <th>17</th>\n",
       "      <td>STDNT_TEST_ENTRANCE2</td>\n",
       "      <td>29.46</td>\n",
       "    </tr>\n",
       "    <tr>\n",
       "      <th>18</th>\n",
       "      <td>CORE_COURSE_GRADE_1_S</td>\n",
       "      <td>26.14</td>\n",
       "    </tr>\n",
       "    <tr>\n",
       "      <th>19</th>\n",
       "      <td>SECOND_TERM_EARNED_HRS</td>\n",
       "      <td>24.76</td>\n",
       "    </tr>\n",
       "    <tr>\n",
       "      <th>20</th>\n",
       "      <td>SECOND_TERM_ATTEMPT_HRS</td>\n",
       "      <td>24.76</td>\n",
       "    </tr>\n",
       "    <tr>\n",
       "      <th>21</th>\n",
       "      <td>CORE_COURSE_NAME_1_S</td>\n",
       "      <td>17.29</td>\n",
       "    </tr>\n",
       "    <tr>\n",
       "      <th>22</th>\n",
       "      <td>MOTHER_HI_EDU_CD</td>\n",
       "      <td>17.01</td>\n",
       "    </tr>\n",
       "    <tr>\n",
       "      <th>23</th>\n",
       "      <td>STDNT_TEST_ENTRANCE_COMB</td>\n",
       "      <td>16.46</td>\n",
       "    </tr>\n",
       "    <tr>\n",
       "      <th>24</th>\n",
       "      <td>CORE_COURSE_NAME_3_F</td>\n",
       "      <td>16.04</td>\n",
       "    </tr>\n",
       "    <tr>\n",
       "      <th>25</th>\n",
       "      <td>CORE_COURSE_GRADE_3_F</td>\n",
       "      <td>16.04</td>\n",
       "    </tr>\n",
       "    <tr>\n",
       "      <th>26</th>\n",
       "      <td>FATHER_HI_EDU_CD</td>\n",
       "      <td>14.25</td>\n",
       "    </tr>\n",
       "    <tr>\n",
       "      <th>27</th>\n",
       "      <td>CORE_COURSE_NAME_2_F</td>\n",
       "      <td>2.77</td>\n",
       "    </tr>\n",
       "    <tr>\n",
       "      <th>28</th>\n",
       "      <td>CORE_COURSE_GRADE_2_F</td>\n",
       "      <td>2.77</td>\n",
       "    </tr>\n",
       "    <tr>\n",
       "      <th>29</th>\n",
       "      <td>HIGH_SCHL_GPA</td>\n",
       "      <td>2.07</td>\n",
       "    </tr>\n",
       "    <tr>\n",
       "      <th>30</th>\n",
       "      <td>DISTANCE_FROM_HOME</td>\n",
       "      <td>1.38</td>\n",
       "    </tr>\n",
       "    <tr>\n",
       "      <th>31</th>\n",
       "      <td>FIRST_TERM</td>\n",
       "      <td>0.00</td>\n",
       "    </tr>\n",
       "    <tr>\n",
       "      <th>32</th>\n",
       "      <td>CORE_COURSE_GRADE_1_F</td>\n",
       "      <td>0.00</td>\n",
       "    </tr>\n",
       "    <tr>\n",
       "      <th>33</th>\n",
       "      <td>STDNT_MINOR</td>\n",
       "      <td>0.00</td>\n",
       "    </tr>\n",
       "    <tr>\n",
       "      <th>34</th>\n",
       "      <td>STDNT_BACKGROUND</td>\n",
       "      <td>0.00</td>\n",
       "    </tr>\n",
       "    <tr>\n",
       "      <th>35</th>\n",
       "      <td>CORE_COURSE_NAME_1_F</td>\n",
       "      <td>0.00</td>\n",
       "    </tr>\n",
       "    <tr>\n",
       "      <th>36</th>\n",
       "      <td>STDNT_GENDER</td>\n",
       "      <td>0.00</td>\n",
       "    </tr>\n",
       "    <tr>\n",
       "      <th>37</th>\n",
       "      <td>STDNT_AGE</td>\n",
       "      <td>0.00</td>\n",
       "    </tr>\n",
       "    <tr>\n",
       "      <th>38</th>\n",
       "      <td>INTERNATIONAL_STS</td>\n",
       "      <td>0.00</td>\n",
       "    </tr>\n",
       "    <tr>\n",
       "      <th>39</th>\n",
       "      <td>STDNT_MAJOR</td>\n",
       "      <td>0.00</td>\n",
       "    </tr>\n",
       "    <tr>\n",
       "      <th>40</th>\n",
       "      <td>IN_STATE_FLAG</td>\n",
       "      <td>0.00</td>\n",
       "    </tr>\n",
       "    <tr>\n",
       "      <th>41</th>\n",
       "      <td>UNMET_NEED</td>\n",
       "      <td>0.00</td>\n",
       "    </tr>\n",
       "    <tr>\n",
       "      <th>42</th>\n",
       "      <td>SECOND_TERM</td>\n",
       "      <td>0.00</td>\n",
       "    </tr>\n",
       "    <tr>\n",
       "      <th>43</th>\n",
       "      <td>EST_FAM_CONTRIBUTION</td>\n",
       "      <td>0.00</td>\n",
       "    </tr>\n",
       "    <tr>\n",
       "      <th>44</th>\n",
       "      <td>HOUSING_STS</td>\n",
       "      <td>0.00</td>\n",
       "    </tr>\n",
       "    <tr>\n",
       "      <th>45</th>\n",
       "      <td>RETURNED_2ND_YR</td>\n",
       "      <td>0.00</td>\n",
       "    </tr>\n",
       "    <tr>\n",
       "      <th>46</th>\n",
       "      <td>HIGH_SCHL_NAME</td>\n",
       "      <td>0.00</td>\n",
       "    </tr>\n",
       "    <tr>\n",
       "      <th>47</th>\n",
       "      <td>FATHER_HI_EDU_DESC</td>\n",
       "      <td>0.00</td>\n",
       "    </tr>\n",
       "    <tr>\n",
       "      <th>48</th>\n",
       "      <td>MOTHER_HI_EDU_DESC</td>\n",
       "      <td>0.00</td>\n",
       "    </tr>\n",
       "    <tr>\n",
       "      <th>49</th>\n",
       "      <td>DEGREE_GROUP_CD</td>\n",
       "      <td>0.00</td>\n",
       "    </tr>\n",
       "    <tr>\n",
       "      <th>50</th>\n",
       "      <td>DEGREE_GROUP_DESC</td>\n",
       "      <td>0.00</td>\n",
       "    </tr>\n",
       "    <tr>\n",
       "      <th>51</th>\n",
       "      <td>FIRST_TERM_ATTEMPT_HRS</td>\n",
       "      <td>0.00</td>\n",
       "    </tr>\n",
       "    <tr>\n",
       "      <th>52</th>\n",
       "      <td>FIRST_TERM_EARNED_HRS</td>\n",
       "      <td>0.00</td>\n",
       "    </tr>\n",
       "    <tr>\n",
       "      <th>53</th>\n",
       "      <td>GROSS_FIN_NEED</td>\n",
       "      <td>0.00</td>\n",
       "    </tr>\n",
       "    <tr>\n",
       "      <th>54</th>\n",
       "      <td>COST_OF_ATTEND</td>\n",
       "      <td>0.00</td>\n",
       "    </tr>\n",
       "    <tr>\n",
       "      <th>55</th>\n",
       "      <td>STUDENT IDENTIFIER</td>\n",
       "      <td>0.00</td>\n",
       "    </tr>\n",
       "  </tbody>\n",
       "</table>\n",
       "</div>"
      ],
      "text/plain": [
       "                       index      0\n",
       "0       CORE_COURSE_NAME_6_S  98.20\n",
       "1      CORE_COURSE_GRADE_6_S  98.20\n",
       "2       CORE_COURSE_NAME_6_F  95.99\n",
       "3      CORE_COURSE_GRADE_6_F  95.99\n",
       "4       CORE_COURSE_NAME_5_S  90.18\n",
       "5      CORE_COURSE_GRADE_5_S  90.18\n",
       "6       CORE_COURSE_NAME_5_F  82.16\n",
       "7      CORE_COURSE_GRADE_5_F  82.16\n",
       "8       CORE_COURSE_NAME_4_S  67.63\n",
       "9      CORE_COURSE_GRADE_4_S  67.63\n",
       "10      STDNT_TEST_ENTRANCE1  66.80\n",
       "11      CORE_COURSE_NAME_4_F  45.64\n",
       "12     CORE_COURSE_GRADE_4_F  45.64\n",
       "13      CORE_COURSE_NAME_3_S  43.57\n",
       "14     CORE_COURSE_GRADE_3_S  43.57\n",
       "15     CORE_COURSE_GRADE_2_S  30.57\n",
       "16      CORE_COURSE_NAME_2_S  30.57\n",
       "17      STDNT_TEST_ENTRANCE2  29.46\n",
       "18     CORE_COURSE_GRADE_1_S  26.14\n",
       "19    SECOND_TERM_EARNED_HRS  24.76\n",
       "20   SECOND_TERM_ATTEMPT_HRS  24.76\n",
       "21      CORE_COURSE_NAME_1_S  17.29\n",
       "22          MOTHER_HI_EDU_CD  17.01\n",
       "23  STDNT_TEST_ENTRANCE_COMB  16.46\n",
       "24      CORE_COURSE_NAME_3_F  16.04\n",
       "25     CORE_COURSE_GRADE_3_F  16.04\n",
       "26          FATHER_HI_EDU_CD  14.25\n",
       "27      CORE_COURSE_NAME_2_F   2.77\n",
       "28     CORE_COURSE_GRADE_2_F   2.77\n",
       "29             HIGH_SCHL_GPA   2.07\n",
       "30        DISTANCE_FROM_HOME   1.38\n",
       "31                FIRST_TERM   0.00\n",
       "32     CORE_COURSE_GRADE_1_F   0.00\n",
       "33               STDNT_MINOR   0.00\n",
       "34          STDNT_BACKGROUND   0.00\n",
       "35      CORE_COURSE_NAME_1_F   0.00\n",
       "36              STDNT_GENDER   0.00\n",
       "37                 STDNT_AGE   0.00\n",
       "38         INTERNATIONAL_STS   0.00\n",
       "39               STDNT_MAJOR   0.00\n",
       "40             IN_STATE_FLAG   0.00\n",
       "41                UNMET_NEED   0.00\n",
       "42               SECOND_TERM   0.00\n",
       "43      EST_FAM_CONTRIBUTION   0.00\n",
       "44               HOUSING_STS   0.00\n",
       "45           RETURNED_2ND_YR   0.00\n",
       "46            HIGH_SCHL_NAME   0.00\n",
       "47        FATHER_HI_EDU_DESC   0.00\n",
       "48        MOTHER_HI_EDU_DESC   0.00\n",
       "49           DEGREE_GROUP_CD   0.00\n",
       "50         DEGREE_GROUP_DESC   0.00\n",
       "51    FIRST_TERM_ATTEMPT_HRS   0.00\n",
       "52     FIRST_TERM_EARNED_HRS   0.00\n",
       "53            GROSS_FIN_NEED   0.00\n",
       "54            COST_OF_ATTEND   0.00\n",
       "55        STUDENT IDENTIFIER   0.00"
      ]
     },
     "execution_count": 27,
     "metadata": {},
     "output_type": "execute_result"
    }
   ],
   "source": [
    "# It shows the percentage of missing values in descending orders\n",
    "drp_col1"
   ]
  },
  {
   "cell_type": "code",
   "execution_count": 28,
   "metadata": {},
   "outputs": [],
   "source": [
    "# it will show the coloumns first 20 rows, as these are having high number of misssing values, which will bias our analysis.\n",
    "columns=drp_col1.nlargest(21,0)['index'].tolist()"
   ]
  },
  {
   "cell_type": "code",
   "execution_count": 29,
   "metadata": {},
   "outputs": [],
   "source": [
    "# It will create new data frame for selected data,dropping columns which are above 25%\n",
    "drop=drp_col1[0:18]"
   ]
  },
  {
   "cell_type": "code",
   "execution_count": 30,
   "metadata": {},
   "outputs": [
    {
     "data": {
      "text/html": [
       "<div>\n",
       "<style scoped>\n",
       "    .dataframe tbody tr th:only-of-type {\n",
       "        vertical-align: middle;\n",
       "    }\n",
       "\n",
       "    .dataframe tbody tr th {\n",
       "        vertical-align: top;\n",
       "    }\n",
       "\n",
       "    .dataframe thead th {\n",
       "        text-align: right;\n",
       "    }\n",
       "</style>\n",
       "<table border=\"1\" class=\"dataframe\">\n",
       "  <thead>\n",
       "    <tr style=\"text-align: right;\">\n",
       "      <th></th>\n",
       "      <th>index</th>\n",
       "      <th>0</th>\n",
       "    </tr>\n",
       "  </thead>\n",
       "  <tbody>\n",
       "    <tr>\n",
       "      <th>0</th>\n",
       "      <td>CORE_COURSE_NAME_6_S</td>\n",
       "      <td>98.20</td>\n",
       "    </tr>\n",
       "    <tr>\n",
       "      <th>1</th>\n",
       "      <td>CORE_COURSE_GRADE_6_S</td>\n",
       "      <td>98.20</td>\n",
       "    </tr>\n",
       "    <tr>\n",
       "      <th>2</th>\n",
       "      <td>CORE_COURSE_NAME_6_F</td>\n",
       "      <td>95.99</td>\n",
       "    </tr>\n",
       "    <tr>\n",
       "      <th>3</th>\n",
       "      <td>CORE_COURSE_GRADE_6_F</td>\n",
       "      <td>95.99</td>\n",
       "    </tr>\n",
       "    <tr>\n",
       "      <th>4</th>\n",
       "      <td>CORE_COURSE_NAME_5_S</td>\n",
       "      <td>90.18</td>\n",
       "    </tr>\n",
       "    <tr>\n",
       "      <th>5</th>\n",
       "      <td>CORE_COURSE_GRADE_5_S</td>\n",
       "      <td>90.18</td>\n",
       "    </tr>\n",
       "    <tr>\n",
       "      <th>6</th>\n",
       "      <td>CORE_COURSE_NAME_5_F</td>\n",
       "      <td>82.16</td>\n",
       "    </tr>\n",
       "    <tr>\n",
       "      <th>7</th>\n",
       "      <td>CORE_COURSE_GRADE_5_F</td>\n",
       "      <td>82.16</td>\n",
       "    </tr>\n",
       "    <tr>\n",
       "      <th>8</th>\n",
       "      <td>CORE_COURSE_NAME_4_S</td>\n",
       "      <td>67.63</td>\n",
       "    </tr>\n",
       "    <tr>\n",
       "      <th>9</th>\n",
       "      <td>CORE_COURSE_GRADE_4_S</td>\n",
       "      <td>67.63</td>\n",
       "    </tr>\n",
       "    <tr>\n",
       "      <th>10</th>\n",
       "      <td>STDNT_TEST_ENTRANCE1</td>\n",
       "      <td>66.80</td>\n",
       "    </tr>\n",
       "    <tr>\n",
       "      <th>11</th>\n",
       "      <td>CORE_COURSE_NAME_4_F</td>\n",
       "      <td>45.64</td>\n",
       "    </tr>\n",
       "    <tr>\n",
       "      <th>12</th>\n",
       "      <td>CORE_COURSE_GRADE_4_F</td>\n",
       "      <td>45.64</td>\n",
       "    </tr>\n",
       "    <tr>\n",
       "      <th>13</th>\n",
       "      <td>CORE_COURSE_NAME_3_S</td>\n",
       "      <td>43.57</td>\n",
       "    </tr>\n",
       "    <tr>\n",
       "      <th>14</th>\n",
       "      <td>CORE_COURSE_GRADE_3_S</td>\n",
       "      <td>43.57</td>\n",
       "    </tr>\n",
       "    <tr>\n",
       "      <th>15</th>\n",
       "      <td>CORE_COURSE_GRADE_2_S</td>\n",
       "      <td>30.57</td>\n",
       "    </tr>\n",
       "    <tr>\n",
       "      <th>16</th>\n",
       "      <td>CORE_COURSE_NAME_2_S</td>\n",
       "      <td>30.57</td>\n",
       "    </tr>\n",
       "    <tr>\n",
       "      <th>17</th>\n",
       "      <td>STDNT_TEST_ENTRANCE2</td>\n",
       "      <td>29.46</td>\n",
       "    </tr>\n",
       "  </tbody>\n",
       "</table>\n",
       "</div>"
      ],
      "text/plain": [
       "                    index      0\n",
       "0    CORE_COURSE_NAME_6_S  98.20\n",
       "1   CORE_COURSE_GRADE_6_S  98.20\n",
       "2    CORE_COURSE_NAME_6_F  95.99\n",
       "3   CORE_COURSE_GRADE_6_F  95.99\n",
       "4    CORE_COURSE_NAME_5_S  90.18\n",
       "5   CORE_COURSE_GRADE_5_S  90.18\n",
       "6    CORE_COURSE_NAME_5_F  82.16\n",
       "7   CORE_COURSE_GRADE_5_F  82.16\n",
       "8    CORE_COURSE_NAME_4_S  67.63\n",
       "9   CORE_COURSE_GRADE_4_S  67.63\n",
       "10   STDNT_TEST_ENTRANCE1  66.80\n",
       "11   CORE_COURSE_NAME_4_F  45.64\n",
       "12  CORE_COURSE_GRADE_4_F  45.64\n",
       "13   CORE_COURSE_NAME_3_S  43.57\n",
       "14  CORE_COURSE_GRADE_3_S  43.57\n",
       "15  CORE_COURSE_GRADE_2_S  30.57\n",
       "16   CORE_COURSE_NAME_2_S  30.57\n",
       "17   STDNT_TEST_ENTRANCE2  29.46"
      ]
     },
     "execution_count": 30,
     "metadata": {},
     "output_type": "execute_result"
    }
   ],
   "source": [
    "# It shows the data that we are not using for analysis...\n",
    "drop"
   ]
  },
  {
   "cell_type": "code",
   "execution_count": 31,
   "metadata": {},
   "outputs": [],
   "source": [
    "# new data frame created by name df_std for drop by Name...This will be used for further analysis..this data frame is only for the student who left college\n",
    "df_std=df1_new.drop(drop['index'], axis=1)"
   ]
  },
  {
   "cell_type": "code",
   "execution_count": 32,
   "metadata": {},
   "outputs": [
    {
     "data": {
      "text/plain": [
       "Index(['STUDENT IDENTIFIER', 'STDNT_AGE', 'STDNT_GENDER', 'STDNT_BACKGROUND',\n",
       "       'IN_STATE_FLAG', 'INTERNATIONAL_STS', 'STDNT_MAJOR', 'STDNT_MINOR',\n",
       "       'STDNT_TEST_ENTRANCE_COMB', 'FIRST_TERM', 'CORE_COURSE_NAME_1_F',\n",
       "       'CORE_COURSE_GRADE_1_F', 'CORE_COURSE_NAME_2_F',\n",
       "       'CORE_COURSE_GRADE_2_F', 'CORE_COURSE_NAME_3_F',\n",
       "       'CORE_COURSE_GRADE_3_F', 'SECOND_TERM', 'CORE_COURSE_NAME_1_S',\n",
       "       'CORE_COURSE_GRADE_1_S', 'HOUSING_STS', 'RETURNED_2ND_YR',\n",
       "       'DISTANCE_FROM_HOME', 'HIGH_SCHL_GPA', 'HIGH_SCHL_NAME',\n",
       "       'FATHER_HI_EDU_CD', 'FATHER_HI_EDU_DESC', 'MOTHER_HI_EDU_CD',\n",
       "       'MOTHER_HI_EDU_DESC', 'DEGREE_GROUP_CD', 'DEGREE_GROUP_DESC',\n",
       "       'FIRST_TERM_ATTEMPT_HRS', 'FIRST_TERM_EARNED_HRS',\n",
       "       'SECOND_TERM_ATTEMPT_HRS', 'SECOND_TERM_EARNED_HRS', 'GROSS_FIN_NEED',\n",
       "       'COST_OF_ATTEND', 'EST_FAM_CONTRIBUTION', 'UNMET_NEED'],\n",
       "      dtype='object')"
      ]
     },
     "execution_count": 32,
     "metadata": {},
     "output_type": "execute_result"
    }
   ],
   "source": [
    "# It shows the number of columns under data frame df_std\n",
    "df_std.columns"
   ]
  },
  {
   "cell_type": "code",
   "execution_count": 33,
   "metadata": {},
   "outputs": [
    {
     "data": {
      "text/plain": [
       "(723, 38)"
      ]
     },
     "execution_count": 33,
     "metadata": {},
     "output_type": "execute_result"
    }
   ],
   "source": [
    "df_std.shape"
   ]
  },
  {
   "cell_type": "code",
   "execution_count": 34,
   "metadata": {},
   "outputs": [
    {
     "data": {
      "text/plain": [
       "F    475\n",
       "M    248\n",
       "Name: STDNT_GENDER, dtype: int64"
      ]
     },
     "execution_count": 34,
     "metadata": {},
     "output_type": "execute_result"
    }
   ],
   "source": [
    "# It shows Gender of left students.... \n",
    "df_std['STDNT_GENDER'].value_counts()"
   ]
  },
  {
   "cell_type": "code",
   "execution_count": 35,
   "metadata": {},
   "outputs": [
    {
     "data": {
      "text/plain": [
       "STUDENT IDENTIFIER            0\n",
       "STDNT_AGE                     0\n",
       "STDNT_GENDER                  0\n",
       "STDNT_BACKGROUND              0\n",
       "IN_STATE_FLAG                 0\n",
       "INTERNATIONAL_STS             0\n",
       "STDNT_MAJOR                   0\n",
       "STDNT_MINOR                   0\n",
       "STDNT_TEST_ENTRANCE_COMB    119\n",
       "FIRST_TERM                    0\n",
       "CORE_COURSE_NAME_1_F          0\n",
       "CORE_COURSE_GRADE_1_F         0\n",
       "CORE_COURSE_NAME_2_F         20\n",
       "CORE_COURSE_GRADE_2_F        20\n",
       "CORE_COURSE_NAME_3_F        116\n",
       "CORE_COURSE_GRADE_3_F       116\n",
       "SECOND_TERM                   0\n",
       "CORE_COURSE_NAME_1_S        125\n",
       "CORE_COURSE_GRADE_1_S       189\n",
       "HOUSING_STS                   0\n",
       "RETURNED_2ND_YR               0\n",
       "DISTANCE_FROM_HOME           10\n",
       "HIGH_SCHL_GPA                15\n",
       "HIGH_SCHL_NAME                0\n",
       "FATHER_HI_EDU_CD            103\n",
       "FATHER_HI_EDU_DESC            0\n",
       "MOTHER_HI_EDU_CD            123\n",
       "MOTHER_HI_EDU_DESC            0\n",
       "DEGREE_GROUP_CD               0\n",
       "DEGREE_GROUP_DESC             0\n",
       "FIRST_TERM_ATTEMPT_HRS        0\n",
       "FIRST_TERM_EARNED_HRS         0\n",
       "SECOND_TERM_ATTEMPT_HRS     179\n",
       "SECOND_TERM_EARNED_HRS      179\n",
       "GROSS_FIN_NEED                0\n",
       "COST_OF_ATTEND                0\n",
       "EST_FAM_CONTRIBUTION          0\n",
       "UNMET_NEED                    0\n",
       "dtype: int64"
      ]
     },
     "execution_count": 35,
     "metadata": {},
     "output_type": "execute_result"
    }
   ],
   "source": [
    "# It will show null values for all columns in df_std data frame\n",
    "df_std.isnull().sum()"
   ]
  },
  {
   "cell_type": "markdown",
   "metadata": {},
   "source": [
    "# Imputing missing values "
   ]
  },
  {
   "cell_type": "code",
   "execution_count": 36,
   "metadata": {},
   "outputs": [],
   "source": [
    "# Replace the null values with mean value\n",
    "df_std['STDNT_TEST_ENTRANCE_COMB'].fillna(999,inplace=True)"
   ]
  },
  {
   "cell_type": "code",
   "execution_count": 37,
   "metadata": {},
   "outputs": [],
   "source": [
    "df_std['CORE_COURSE_NAME_2_F'].fillna(df_std['CORE_COURSE_NAME_2_F'].mode().iloc[0],inplace=True)\n"
   ]
  },
  {
   "cell_type": "code",
   "execution_count": 38,
   "metadata": {},
   "outputs": [],
   "source": [
    "df_std['CORE_COURSE_GRADE_2_F'].fillna(df_std['CORE_COURSE_GRADE_2_F'].mode().iloc[0],inplace=True)"
   ]
  },
  {
   "cell_type": "code",
   "execution_count": 39,
   "metadata": {},
   "outputs": [],
   "source": [
    "# Replace the null values with mode value\n",
    "df_std['CORE_COURSE_NAME_3_F'].fillna(df_std['CORE_COURSE_NAME_3_F'].mode().iloc[0],inplace=True)\n",
    "df_std['CORE_COURSE_GRADE_3_F'].fillna(df_std['CORE_COURSE_GRADE_3_F'].mode().iloc[0],inplace=True)\n"
   ]
  },
  {
   "cell_type": "code",
   "execution_count": 40,
   "metadata": {},
   "outputs": [],
   "source": [
    "# Replace the null values with mean value \n",
    "df_std['DISTANCE_FROM_HOME'].fillna(112,inplace=True)"
   ]
  },
  {
   "cell_type": "code",
   "execution_count": 41,
   "metadata": {},
   "outputs": [],
   "source": [
    "# Replace the null values with mean value\n",
    "df_std['HIGH_SCHL_GPA'].fillna(3,inplace=True)"
   ]
  },
  {
   "cell_type": "code",
   "execution_count": 42,
   "metadata": {},
   "outputs": [],
   "source": [
    "# It will fill the null values with mean\n",
    "# df_std drop --it will drop the coloumn which is not relevant for our analysis\n",
    "df_std['FATHER_HI_EDU_CD'].fillna(4,inplace=True)\n",
    "df_std.drop(columns=['FATHER_HI_EDU_DESC'],axis=1,inplace=True)"
   ]
  },
  {
   "cell_type": "code",
   "execution_count": 43,
   "metadata": {},
   "outputs": [],
   "source": [
    "# It will fill the null values with mean\n",
    "# df_std drop --it will drop the coloumn which is not relevant for our analysis\n",
    "df_std['MOTHER_HI_EDU_CD'].fillna(4,inplace=True)\n",
    "df_std.drop(columns=['MOTHER_HI_EDU_DESC'],axis=1,inplace=True)"
   ]
  },
  {
   "cell_type": "code",
   "execution_count": 44,
   "metadata": {},
   "outputs": [],
   "source": [
    "# df_std drop --it will drop the coloumn which is not relevant for our analysis\n",
    "df_std.drop(columns='DEGREE_GROUP_DESC',axis=1,inplace=True)"
   ]
  },
  {
   "cell_type": "code",
   "execution_count": 45,
   "metadata": {},
   "outputs": [],
   "source": [
    "# It will fill the null values with mean\n",
    "# df_std drop --it will drop the coloumn which is not relevant for our analysis\n",
    "\n",
    "df_std['DISTANCE_FROM_HOME'].fillna(112,inplace=True)\n",
    "df_std.drop(columns=['SECOND_TERM_ATTEMPT_HRS'],axis=1,inplace=True)"
   ]
  },
  {
   "cell_type": "code",
   "execution_count": 46,
   "metadata": {},
   "outputs": [
    {
     "data": {
      "text/plain": [
       "STUDENT IDENTIFIER            0\n",
       "STDNT_AGE                     0\n",
       "STDNT_GENDER                  0\n",
       "STDNT_BACKGROUND              0\n",
       "IN_STATE_FLAG                 0\n",
       "INTERNATIONAL_STS             0\n",
       "STDNT_MAJOR                   0\n",
       "STDNT_MINOR                   0\n",
       "STDNT_TEST_ENTRANCE_COMB      0\n",
       "FIRST_TERM                    0\n",
       "CORE_COURSE_NAME_1_F          0\n",
       "CORE_COURSE_GRADE_1_F         0\n",
       "CORE_COURSE_NAME_2_F          0\n",
       "CORE_COURSE_GRADE_2_F         0\n",
       "CORE_COURSE_NAME_3_F          0\n",
       "CORE_COURSE_GRADE_3_F         0\n",
       "SECOND_TERM                   0\n",
       "CORE_COURSE_NAME_1_S        125\n",
       "CORE_COURSE_GRADE_1_S       189\n",
       "HOUSING_STS                   0\n",
       "RETURNED_2ND_YR               0\n",
       "DISTANCE_FROM_HOME            0\n",
       "HIGH_SCHL_GPA                 0\n",
       "HIGH_SCHL_NAME                0\n",
       "FATHER_HI_EDU_CD              0\n",
       "MOTHER_HI_EDU_CD              0\n",
       "DEGREE_GROUP_CD               0\n",
       "FIRST_TERM_ATTEMPT_HRS        0\n",
       "FIRST_TERM_EARNED_HRS         0\n",
       "SECOND_TERM_EARNED_HRS      179\n",
       "GROSS_FIN_NEED                0\n",
       "COST_OF_ATTEND                0\n",
       "EST_FAM_CONTRIBUTION          0\n",
       "UNMET_NEED                    0\n",
       "dtype: int64"
      ]
     },
     "execution_count": 46,
     "metadata": {},
     "output_type": "execute_result"
    }
   ],
   "source": [
    "df_std.isnull().sum()"
   ]
  },
  {
   "cell_type": "code",
   "execution_count": 47,
   "metadata": {
    "scrolled": true
   },
   "outputs": [
    {
     "data": {
      "text/plain": [
       "(723, 34)"
      ]
     },
     "execution_count": 47,
     "metadata": {},
     "output_type": "execute_result"
    }
   ],
   "source": [
    "df_std.shape"
   ]
  },
  {
   "cell_type": "markdown",
   "metadata": {},
   "source": [
    "# Plotting the GRAPHS for all variables for further analysis for Students who left after first year"
   ]
  },
  {
   "cell_type": "code",
   "execution_count": 48,
   "metadata": {},
   "outputs": [
    {
     "data": {
      "image/png": "[encoded data removed]",
      "text/plain": [
       "<Figure size 432x288 with 1 Axes>"
      ]
     },
     "metadata": {},
     "output_type": "display_data"
    }
   ],
   "source": [
    " #It shows Bar graph for Number of students left w.r.t Distance from home\n",
    "import matplotlib.pyplot as plt\n",
    "plt.style.use('ggplot')\n",
    "plt.xlim(min(df_std['DISTANCE_FROM_HOME']),200)\n",
    "plt.hist(df_std['DISTANCE_FROM_HOME'],bins='auto')\n",
    "plt.title('DISTANCE_FROM_HOME')\n",
    "plt.xlabel('DISTANCE_FROM_HOME')\n",
    "plt.ylabel('No of student')\n",
    "\n",
    "plt.show()"
   ]
  },
  {
   "cell_type": "markdown",
   "metadata": {},
   "source": [
    "Above plot shows maximum number ofnstudents who left college are  staying between 60 to 80 Km  away from college "
   ]
  },
  {
   "cell_type": "code",
   "execution_count": 49,
   "metadata": {},
   "outputs": [
    {
     "data": {
      "text/plain": [
       "Text(0, 0.5, 'DISTANCE FROM HOME')"
      ]
     },
     "execution_count": 49,
     "metadata": {},
     "output_type": "execute_result"
    },
    {
     "data": {
      "image/png": "[encoded data removed]",
      "text/plain": [
       "<Figure size 432x288 with 1 Axes>"
      ]
     },
     "metadata": {},
     "output_type": "display_data"
    }
   ],
   "source": [
    "sns.boxplot(data=df_std['DISTANCE_FROM_HOME'])\n",
    "plt.title('DISTANCE_FROM_HOME')\n",
    "plt.ylabel('DISTANCE FROM HOME')"
   ]
  },
  {
   "cell_type": "code",
   "execution_count": 50,
   "metadata": {},
   "outputs": [
    {
     "data": {
      "image/png": "[encoded data removed]",
      "text/plain": [
       "<Figure size 432x288 with 1 Axes>"
      ]
     },
     "metadata": {},
     "output_type": "display_data"
    }
   ],
   "source": [
    "#It shows Bar graph for Number of students left w.r.t Age\n",
    "import matplotlib.pyplot as plt\n",
    "plt.style.use('ggplot')\n",
    "plt.xlim(min(df_std['STDNT_AGE']),25)\n",
    "plt.hist(df_std['STDNT_AGE'],bins='auto')\n",
    "plt.title('STDNT_AGE')\n",
    "plt.xlabel('STDNT_AGE')\n",
    "plt.ylabel('No of student')\n",
    "\n",
    "plt.show()"
   ]
  },
  {
   "cell_type": "raw",
   "metadata": {},
   "source": [
    "The above graph shows that Students with 18 years of Age have attrited most."
   ]
  },
  {
   "cell_type": "code",
   "execution_count": 51,
   "metadata": {},
   "outputs": [
    {
     "data": {
      "text/plain": [
       "<matplotlib.axes._subplots.AxesSubplot at 0x200745eb710>"
      ]
     },
     "execution_count": 51,
     "metadata": {},
     "output_type": "execute_result"
    },
    {
     "data": {
      "image/png": "[encoded data removed]",
      "text/plain": [
       "<Figure size 432x288 with 1 Axes>"
      ]
     },
     "metadata": {},
     "output_type": "display_data"
    }
   ],
   "source": [
    "pd.crosstab(df_std.STDNT_BACKGROUND, df_std.RETURNED_2ND_YR).apply(lambda r: (r/r.sum())*100, axis=0).plot(kind='bar')"
   ]
  },
  {
   "cell_type": "markdown",
   "metadata": {},
   "source": [
    "As can be infered from the above graph students with BGD1 have left the college after first year."
   ]
  },
  {
   "cell_type": "code",
   "execution_count": 52,
   "metadata": {},
   "outputs": [
    {
     "data": {
      "image/png": "[encoded data removed]",
      "text/plain": [
       "<Figure size 432x288 with 1 Axes>"
      ]
     },
     "metadata": {},
     "output_type": "display_data"
    }
   ],
   "source": [
    "#It shows Bar graph for Number of students left w.r.t High School GPA\n",
    "import matplotlib.pyplot as plt\n",
    "plt.style.use('ggplot')\n",
    "plt.xlim(min(df_std['HIGH_SCHL_GPA']),10)\n",
    "plt.hist(df_std['HIGH_SCHL_GPA'],bins='auto')\n",
    "plt.title('HIGH_SCHL_GPA')\n",
    "plt.xlabel('HIGH_SCHL_GPA')\n",
    "plt.ylabel('No of student')\n",
    "\n",
    "plt.show()"
   ]
  },
  {
   "cell_type": "raw",
   "metadata": {},
   "source": [
    "# As can be infered from the above graph,students with HIGH SCHOOL GPA between 2.5 to 4.0 have attrited most"
   ]
  },
  {
   "cell_type": "code",
   "execution_count": 53,
   "metadata": {},
   "outputs": [
    {
     "data": {
      "image/png": "[encoded data removed]",
      "text/plain": [
       "<Figure size 432x288 with 1 Axes>"
      ]
     },
     "metadata": {},
     "output_type": "display_data"
    }
   ],
   "source": [
    "import matplotlib.pyplot as plt\n",
    "plt.style.use('ggplot')\n",
    "plt.xlim(min(df_std['UNMET_NEED']),900000)\n",
    "plt.hist(df_std['UNMET_NEED'],bins=10)\n",
    "plt.title('UNMET_NEED')\n",
    "plt.xlabel('UNMET_NEED')\n",
    "plt.ylabel('No of student')\n",
    "plt.show()"
   ]
  },
  {
   "cell_type": "markdown",
   "metadata": {},
   "source": [
    "Above plot shows maximum number of students who left college are  having financial needs are near to zero"
   ]
  },
  {
   "cell_type": "code",
   "execution_count": 54,
   "metadata": {},
   "outputs": [
    {
     "data": {
      "text/plain": [
       "Text(0, 0.5, 'UNMET_NEED')"
      ]
     },
     "execution_count": 54,
     "metadata": {},
     "output_type": "execute_result"
    },
    {
     "data": {
      "image/png": "[encoded data removed]",
      "text/plain": [
       "<Figure size 432x288 with 1 Axes>"
      ]
     },
     "metadata": {},
     "output_type": "display_data"
    }
   ],
   "source": [
    "sns.boxplot(data=df_std['UNMET_NEED'])\n",
    "plt.title('UNMET_NEED')\n",
    "plt.ylabel('UNMET_NEED')"
   ]
  },
  {
   "cell_type": "code",
   "execution_count": 55,
   "metadata": {},
   "outputs": [
    {
     "data": {
      "image/png": "[encoded data removed]",
      "text/plain": [
       "<Figure size 432x288 with 1 Axes>"
      ]
     },
     "metadata": {},
     "output_type": "display_data"
    }
   ],
   "source": [
    "plt.style.use('ggplot')\n",
    "plt.xlim(min(df_std['EST_FAM_CONTRIBUTION']),800000)\n",
    "plt.hist(df_std['EST_FAM_CONTRIBUTION'],bins='auto')\n",
    "plt.title('EST_FAM_CONTRIBUTION')\n",
    "plt.xlabel('EST_FAM_CONTRIBUTION')\n",
    "plt.ylabel('No of student')\n",
    "plt.show()"
   ]
  },
  {
   "cell_type": "markdown",
   "metadata": {},
   "source": [
    "Above plot shows Maximum students who left are because of low Family Contribution"
   ]
  },
  {
   "cell_type": "code",
   "execution_count": 56,
   "metadata": {},
   "outputs": [
    {
     "data": {
      "text/plain": [
       "Text(0, 0.5, 'EST_FAM_CONTRIBUTION')"
      ]
     },
     "execution_count": 56,
     "metadata": {},
     "output_type": "execute_result"
    },
    {
     "data": {
      "image/png": "[encoded data removed]",
      "text/plain": [
       "<Figure size 432x288 with 1 Axes>"
      ]
     },
     "metadata": {},
     "output_type": "display_data"
    }
   ],
   "source": [
    "sns.boxplot(data=df_std['EST_FAM_CONTRIBUTION'])\n",
    "plt.title('EST_FAM_CONTRIBUTION')\n",
    "plt.ylabel('EST_FAM_CONTRIBUTION')\n"
   ]
  },
  {
   "cell_type": "code",
   "execution_count": 57,
   "metadata": {},
   "outputs": [
    {
     "data": {
      "image/png": "[encoded data removed]",
      "text/plain": [
       "<Figure size 432x288 with 1 Axes>"
      ]
     },
     "metadata": {},
     "output_type": "display_data"
    }
   ],
   "source": [
    "plt.style.use('ggplot')\n",
    "plt.xlim(min(df_std['COST_OF_ATTEND']),900000)\n",
    "plt.hist(df_std['COST_OF_ATTEND'],bins='auto')\n",
    "plt.title('COST_OF_ATTEND')\n",
    "plt.xlabel('COST_OF_ATTEND')\n",
    "plt.ylabel('No of student')\n",
    "plt.show()"
   ]
  },
  {
   "cell_type": "code",
   "execution_count": 58,
   "metadata": {},
   "outputs": [
    {
     "data": {
      "text/plain": [
       "Text(0, 0.5, 'No of student')"
      ]
     },
     "execution_count": 58,
     "metadata": {},
     "output_type": "execute_result"
    },
    {
     "data": {
      "image/png": "[encoded data removed]",
      "text/plain": [
       "<Figure size 432x288 with 1 Axes>"
      ]
     },
     "metadata": {},
     "output_type": "display_data"
    }
   ],
   "source": [
    "sns.boxplot(data=df_std['COST_OF_ATTEND'])\n",
    "plt.title('COST_OF_ATTEND')\n",
    "plt.xlabel('COST_OF_ATTEND')\n",
    "plt.ylabel('No of student')"
   ]
  },
  {
   "cell_type": "code",
   "execution_count": 59,
   "metadata": {},
   "outputs": [
    {
     "data": {
      "image/png": "[encoded data removed]",
      "text/plain": [
       "<Figure size 432x288 with 1 Axes>"
      ]
     },
     "metadata": {},
     "output_type": "display_data"
    }
   ],
   "source": [
    "plt.style.use('ggplot')\n",
    "plt.xlim(min(df_std['GROSS_FIN_NEED']),900000)\n",
    "plt.hist(df_std['GROSS_FIN_NEED'],bins='auto')\n",
    "plt.title('GROSS_FIN_NEED')\n",
    "plt.xlabel('GROSS_FIN_NEED')\n",
    "plt.ylabel('No of student')\n",
    "plt.show()"
   ]
  },
  {
   "cell_type": "raw",
   "metadata": {},
   "source": [
    "The Gross Financial need ranges from 0 to 1,00,000"
   ]
  },
  {
   "cell_type": "code",
   "execution_count": 60,
   "metadata": {},
   "outputs": [
    {
     "data": {
      "text/plain": [
       "Text(0, 0.5, 'No of student')"
      ]
     },
     "execution_count": 60,
     "metadata": {},
     "output_type": "execute_result"
    },
    {
     "data": {
      "image/png": "[encoded data removed]",
      "text/plain": [
       "<Figure size 432x288 with 1 Axes>"
      ]
     },
     "metadata": {},
     "output_type": "display_data"
    }
   ],
   "source": [
    "sns.boxplot(data=df_std['GROSS_FIN_NEED'])\n",
    "plt.title('GROSS_FIN_NEED')\n",
    "plt.xlabel('GROSS_FIN_NEED')\n",
    "plt.ylabel('No of student')"
   ]
  },
  {
   "cell_type": "code",
   "execution_count": 61,
   "metadata": {},
   "outputs": [
    {
     "data": {
      "image/png": "[encoded data removed]",
      "text/plain": [
       "<Figure size 432x288 with 1 Axes>"
      ]
     },
     "metadata": {},
     "output_type": "display_data"
    }
   ],
   "source": [
    "plt.hist(df_std['FATHER_HI_EDU_CD'])\n",
    "plt.title('FATHER_HI_EDU_CD')\n",
    "plt.xlabel('FATHER_HI_EDU_CD')\n",
    "plt.ylabel('No of student')\n",
    "plt.show()"
   ]
  },
  {
   "cell_type": "raw",
   "metadata": {},
   "source": [
    "Maximum number of students who left had fathers education at High School Level"
   ]
  },
  {
   "cell_type": "code",
   "execution_count": 62,
   "metadata": {},
   "outputs": [
    {
     "data": {
      "text/plain": [
       "Text(0, 0.5, 'No of student')"
      ]
     },
     "execution_count": 62,
     "metadata": {},
     "output_type": "execute_result"
    },
    {
     "data": {
      "image/png": "[encoded data removed]",
      "text/plain": [
       "<Figure size 432x288 with 1 Axes>"
      ]
     },
     "metadata": {},
     "output_type": "display_data"
    }
   ],
   "source": [
    "sns.boxplot(data=df_std['FATHER_HI_EDU_CD'])\n",
    "plt.title('FATHER_HI_EDU_CD')\n",
    "plt.xlabel('FATHER_HI_EDU_CD')\n",
    "plt.ylabel('No of student')"
   ]
  },
  {
   "cell_type": "code",
   "execution_count": 63,
   "metadata": {},
   "outputs": [
    {
     "data": {
      "image/png": "[encoded data removed]",
      "text/plain": [
       "<Figure size 432x288 with 2 Axes>"
      ]
     },
     "metadata": {},
     "output_type": "display_data"
    }
   ],
   "source": [
    "import numpy as np\n",
    "import seaborn as sns\n",
    "import matplotlib.pyplot as plt\n",
    "\n",
    "sns.set(style=\"ticks\")\n",
    "\n",
    "x = np.random.randn(100)\n",
    "\n",
    "f, (ax_box, ax_hist) = plt.subplots(2, sharex=True, \n",
    "                                    gridspec_kw={\"height_ratios\": (.15, .85)})\n",
    "\n",
    "sns.boxplot(data=df_std['FATHER_HI_EDU_CD'])\n",
    "sns.distplot(df_std['FATHER_HI_EDU_CD'])\n",
    "\n",
    "ax_box.set(yticks=[])\n",
    "sns.despine(ax=ax_hist)\n",
    "sns.despine(ax=ax_box, left=True)"
   ]
  },
  {
   "cell_type": "code",
   "execution_count": 64,
   "metadata": {},
   "outputs": [
    {
     "data": {
      "image/png": "[encoded data removed]",
      "text/plain": [
       "<Figure size 432x288 with 1 Axes>"
      ]
     },
     "metadata": {},
     "output_type": "display_data"
    }
   ],
   "source": [
    "plt.hist(df_std['MOTHER_HI_EDU_CD'])\n",
    "plt.title('MOTHER_HI_EDU_CD')\n",
    "plt.xlabel('MOTHER_HI_EDU_CD')\n",
    "plt.ylabel('No of student')\n",
    "\n",
    "plt.show()"
   ]
  },
  {
   "cell_type": "raw",
   "metadata": {},
   "source": [
    "Maximum students who left had Mother Education at College and Beyond"
   ]
  },
  {
   "cell_type": "code",
   "execution_count": 65,
   "metadata": {},
   "outputs": [
    {
     "data": {
      "text/plain": [
       "Text(0, 0.5, 'No of student')"
      ]
     },
     "execution_count": 65,
     "metadata": {},
     "output_type": "execute_result"
    },
    {
     "data": {
      "image/png": "[encoded data removed]",
      "text/plain": [
       "<Figure size 432x288 with 1 Axes>"
      ]
     },
     "metadata": {},
     "output_type": "display_data"
    }
   ],
   "source": [
    "sns.boxplot(data=df_std['MOTHER_HI_EDU_CD'])\n",
    "plt.title('MOTHER_HI_EDU_CD')\n",
    "plt.xlabel('MOTHER_HI_EDU_CD')\n",
    "plt.ylabel('No of student')\n"
   ]
  },
  {
   "cell_type": "code",
   "execution_count": 66,
   "metadata": {},
   "outputs": [
    {
     "data": {
      "image/png": "[encoded data removed]",
      "text/plain": [
       "<Figure size 1440x1440 with 20 Axes>"
      ]
     },
     "metadata": {},
     "output_type": "display_data"
    }
   ],
   "source": [
    "df1.hist(figsize=(20,20))\n",
    "plt.show()"
   ]
  },
  {
   "cell_type": "code",
   "execution_count": 67,
   "metadata": {},
   "outputs": [],
   "source": [
    "#Pandas Profiling is python package which does exactly that. It is a simple and fast way to perform exploratory data analysis of a Pandas Dataframe.\n",
    "import pandas as pd,os,numpy as np,pandas_profiling as pf"
   ]
  },
  {
   "cell_type": "code",
   "execution_count": 68,
   "metadata": {
    "scrolled": false
   },
   "outputs": [
    {
     "data": {
      "application/vnd.jupyter.widget-view+json": {
       "model_id": "51a316e581d94a7fb0bcb257c346147c",
       "version_major": 2,
       "version_minor": 0
      },
      "text/plain": [
       "Tab(children=(HTML(value='<div id=\"overview-content\" class=\"row variable spacing\">\\n    <div class=\"row\">\\n   …"
      ]
     },
     "metadata": {},
     "output_type": "display_data"
    },
    {
     "data": {
      "text/html": [
       "Report generated with <a href=\"https://github.com/pandas-profiling/pandas-profiling\">pandas-profiling</a>."
      ],
      "text/plain": [
       "<IPython.core.display.HTML object>"
      ]
     },
     "metadata": {},
     "output_type": "display_data"
    },
    {
     "data": {
      "text/plain": []
     },
     "execution_count": 68,
     "metadata": {},
     "output_type": "execute_result"
    }
   ],
   "source": [
    "pf.ProfileReport(df_std)"
   ]
  },
  {
   "cell_type": "raw",
   "metadata": {},
   "source": [
    "CORRELATION MATRIX OBSERVATIONS:\n",
    "a.Second  term Attempt hours and Second Term Earned hours are highly positively corelated.\n",
    "b.Cost of Attendance and Gross Financial needs are highly positively corelated.\n",
    "c.We observe low negative Corelation between Unmet Needs and Est.Family Contribution.\n",
    "d.There is Strong positive corelation between Gross Financial Needs and Unmet Needs."
   ]
  },
  {
   "cell_type": "markdown",
   "metadata": {},
   "source": [
    "# CORRELATIONS BETWEEN VARIABLES"
   ]
  },
  {
   "cell_type": "code",
   "execution_count": 69,
   "metadata": {},
   "outputs": [],
   "source": [
    "# Required to read the csv, xlsx file\n",
    "df1=pd.read_excel(\"G:\\\\Project\\\\Student Applications & Performance.xlsx\")"
   ]
  },
  {
   "cell_type": "code",
   "execution_count": 70,
   "metadata": {},
   "outputs": [
    {
     "data": {
      "text/plain": [
       "STUDENT IDENTIFIER             0\n",
       "STDNT_AGE                      0\n",
       "STDNT_GENDER                   0\n",
       "STDNT_BACKGROUND               0\n",
       "IN_STATE_FLAG                  0\n",
       "INTERNATIONAL_STS              0\n",
       "STDNT_MAJOR                    0\n",
       "STDNT_MINOR                    0\n",
       "STDNT_TEST_ENTRANCE1        2294\n",
       "STDNT_TEST_ENTRANCE2         908\n",
       "STDNT_TEST_ENTRANCE_COMB     518\n",
       "FIRST_TERM                     0\n",
       "CORE_COURSE_NAME_1_F           0\n",
       "CORE_COURSE_GRADE_1_F          0\n",
       "CORE_COURSE_NAME_2_F          99\n",
       "CORE_COURSE_GRADE_2_F         99\n",
       "CORE_COURSE_NAME_3_F         565\n",
       "CORE_COURSE_GRADE_3_F        565\n",
       "CORE_COURSE_NAME_4_F        1597\n",
       "CORE_COURSE_GRADE_4_F       1597\n",
       "CORE_COURSE_NAME_5_F        2755\n",
       "CORE_COURSE_GRADE_5_F       2755\n",
       "CORE_COURSE_NAME_6_F        3272\n",
       "CORE_COURSE_GRADE_6_F       3272\n",
       "SECOND_TERM                    0\n",
       "CORE_COURSE_NAME_1_S         157\n",
       "CORE_COURSE_GRADE_1_S        232\n",
       "CORE_COURSE_NAME_2_S         439\n",
       "CORE_COURSE_GRADE_2_S        439\n",
       "CORE_COURSE_NAME_3_S        1038\n",
       "CORE_COURSE_GRADE_3_S       1038\n",
       "CORE_COURSE_NAME_4_S        2045\n",
       "CORE_COURSE_GRADE_4_S       2045\n",
       "CORE_COURSE_NAME_5_S        2950\n",
       "CORE_COURSE_GRADE_5_S       2950\n",
       "CORE_COURSE_NAME_6_S        3319\n",
       "CORE_COURSE_GRADE_6_S       3319\n",
       "HOUSING_STS                    0\n",
       "RETURNED_2ND_YR                0\n",
       "DISTANCE_FROM_HOME            25\n",
       "HIGH_SCHL_GPA                 53\n",
       "HIGH_SCHL_NAME                 1\n",
       "FATHER_HI_EDU_CD             432\n",
       "FATHER_HI_EDU_DESC             0\n",
       "MOTHER_HI_EDU_CD             489\n",
       "MOTHER_HI_EDU_DESC             0\n",
       "DEGREE_GROUP_CD                0\n",
       "DEGREE_GROUP_DESC              0\n",
       "FIRST_TERM_ATTEMPT_HRS         0\n",
       "FIRST_TERM_EARNED_HRS          0\n",
       "SECOND_TERM_ATTEMPT_HRS      206\n",
       "SECOND_TERM_EARNED_HRS       209\n",
       "GROSS_FIN_NEED                 0\n",
       "COST_OF_ATTEND                 0\n",
       "EST_FAM_CONTRIBUTION           0\n",
       "UNMET_NEED                     0\n",
       "dtype: int64"
      ]
     },
     "execution_count": 70,
     "metadata": {},
     "output_type": "execute_result"
    }
   ],
   "source": [
    "df1.isnull().sum()"
   ]
  },
  {
   "cell_type": "code",
   "execution_count": 71,
   "metadata": {},
   "outputs": [
    {
     "data": {
      "text/html": [
       "<div>\n",
       "<style scoped>\n",
       "    .dataframe tbody tr th:only-of-type {\n",
       "        vertical-align: middle;\n",
       "    }\n",
       "\n",
       "    .dataframe tbody tr th {\n",
       "        vertical-align: top;\n",
       "    }\n",
       "\n",
       "    .dataframe thead th {\n",
       "        text-align: right;\n",
       "    }\n",
       "</style>\n",
       "<table border=\"1\" class=\"dataframe\">\n",
       "  <thead>\n",
       "    <tr style=\"text-align: right;\">\n",
       "      <th></th>\n",
       "      <th>STUDENT IDENTIFIER</th>\n",
       "      <th>STDNT_AGE</th>\n",
       "      <th>STDNT_TEST_ENTRANCE1</th>\n",
       "      <th>STDNT_TEST_ENTRANCE2</th>\n",
       "      <th>STDNT_TEST_ENTRANCE_COMB</th>\n",
       "      <th>FIRST_TERM</th>\n",
       "      <th>SECOND_TERM</th>\n",
       "      <th>RETURNED_2ND_YR</th>\n",
       "      <th>DISTANCE_FROM_HOME</th>\n",
       "      <th>HIGH_SCHL_GPA</th>\n",
       "      <th>FATHER_HI_EDU_CD</th>\n",
       "      <th>MOTHER_HI_EDU_CD</th>\n",
       "      <th>FIRST_TERM_ATTEMPT_HRS</th>\n",
       "      <th>FIRST_TERM_EARNED_HRS</th>\n",
       "      <th>SECOND_TERM_ATTEMPT_HRS</th>\n",
       "      <th>SECOND_TERM_EARNED_HRS</th>\n",
       "      <th>GROSS_FIN_NEED</th>\n",
       "      <th>COST_OF_ATTEND</th>\n",
       "      <th>EST_FAM_CONTRIBUTION</th>\n",
       "      <th>UNMET_NEED</th>\n",
       "    </tr>\n",
       "  </thead>\n",
       "  <tbody>\n",
       "    <tr>\n",
       "      <th>count</th>\n",
       "      <td>3.400000e+03</td>\n",
       "      <td>3400.000000</td>\n",
       "      <td>1106.000000</td>\n",
       "      <td>2492.000000</td>\n",
       "      <td>2882.000000</td>\n",
       "      <td>3400.000000</td>\n",
       "      <td>3400.000000</td>\n",
       "      <td>3400.000000</td>\n",
       "      <td>3375.000000</td>\n",
       "      <td>3347.000000</td>\n",
       "      <td>2968.000000</td>\n",
       "      <td>2911.000000</td>\n",
       "      <td>3400.000000</td>\n",
       "      <td>3400.000000</td>\n",
       "      <td>3194.000000</td>\n",
       "      <td>3191.000000</td>\n",
       "      <td>3.400000e+03</td>\n",
       "      <td>3.400000e+03</td>\n",
       "      <td>3.400000e+03</td>\n",
       "      <td>3.400000e+03</td>\n",
       "    </tr>\n",
       "    <tr>\n",
       "      <th>mean</th>\n",
       "      <td>7.897155e+06</td>\n",
       "      <td>17.994118</td>\n",
       "      <td>20.660036</td>\n",
       "      <td>965.092295</td>\n",
       "      <td>997.758501</td>\n",
       "      <td>200777.000000</td>\n",
       "      <td>200871.000000</td>\n",
       "      <td>0.787353</td>\n",
       "      <td>99.825185</td>\n",
       "      <td>3.202738</td>\n",
       "      <td>2.560647</td>\n",
       "      <td>2.571281</td>\n",
       "      <td>13.985882</td>\n",
       "      <td>12.205000</td>\n",
       "      <td>14.285848</td>\n",
       "      <td>12.511125</td>\n",
       "      <td>3.034025e+05</td>\n",
       "      <td>5.515335e+05</td>\n",
       "      <td>3.446899e+05</td>\n",
       "      <td>7.222052e+04</td>\n",
       "    </tr>\n",
       "    <tr>\n",
       "      <th>std</th>\n",
       "      <td>8.083421e+04</td>\n",
       "      <td>0.552052</td>\n",
       "      <td>3.234734</td>\n",
       "      <td>209.088633</td>\n",
       "      <td>156.268221</td>\n",
       "      <td>170.001298</td>\n",
       "      <td>170.001298</td>\n",
       "      <td>0.409240</td>\n",
       "      <td>235.196984</td>\n",
       "      <td>0.455337</td>\n",
       "      <td>0.681273</td>\n",
       "      <td>0.611729</td>\n",
       "      <td>1.554286</td>\n",
       "      <td>2.986294</td>\n",
       "      <td>2.104387</td>\n",
       "      <td>3.470492</td>\n",
       "      <td>4.836255e+05</td>\n",
       "      <td>6.064403e+05</td>\n",
       "      <td>7.871878e+05</td>\n",
       "      <td>2.795679e+05</td>\n",
       "    </tr>\n",
       "    <tr>\n",
       "      <th>min</th>\n",
       "      <td>7.755837e+06</td>\n",
       "      <td>16.000000</td>\n",
       "      <td>8.000000</td>\n",
       "      <td>350.000000</td>\n",
       "      <td>530.000000</td>\n",
       "      <td>200508.000000</td>\n",
       "      <td>200602.000000</td>\n",
       "      <td>0.000000</td>\n",
       "      <td>0.000000</td>\n",
       "      <td>0.000000</td>\n",
       "      <td>1.000000</td>\n",
       "      <td>1.000000</td>\n",
       "      <td>9.000000</td>\n",
       "      <td>0.000000</td>\n",
       "      <td>2.000000</td>\n",
       "      <td>0.000000</td>\n",
       "      <td>0.000000e+00</td>\n",
       "      <td>0.000000e+00</td>\n",
       "      <td>0.000000e+00</td>\n",
       "      <td>-1.212072e+06</td>\n",
       "    </tr>\n",
       "    <tr>\n",
       "      <th>25%</th>\n",
       "      <td>7.827039e+06</td>\n",
       "      <td>18.000000</td>\n",
       "      <td>18.000000</td>\n",
       "      <td>900.000000</td>\n",
       "      <td>910.000000</td>\n",
       "      <td>200608.000000</td>\n",
       "      <td>200702.000000</td>\n",
       "      <td>1.000000</td>\n",
       "      <td>69.000000</td>\n",
       "      <td>2.870000</td>\n",
       "      <td>2.000000</td>\n",
       "      <td>2.000000</td>\n",
       "      <td>13.000000</td>\n",
       "      <td>11.000000</td>\n",
       "      <td>13.000000</td>\n",
       "      <td>11.000000</td>\n",
       "      <td>0.000000e+00</td>\n",
       "      <td>0.000000e+00</td>\n",
       "      <td>0.000000e+00</td>\n",
       "      <td>0.000000e+00</td>\n",
       "    </tr>\n",
       "    <tr>\n",
       "      <th>50%</th>\n",
       "      <td>7.899052e+06</td>\n",
       "      <td>18.000000</td>\n",
       "      <td>20.000000</td>\n",
       "      <td>990.000000</td>\n",
       "      <td>990.000000</td>\n",
       "      <td>200808.000000</td>\n",
       "      <td>200902.000000</td>\n",
       "      <td>1.000000</td>\n",
       "      <td>69.000000</td>\n",
       "      <td>3.200000</td>\n",
       "      <td>3.000000</td>\n",
       "      <td>3.000000</td>\n",
       "      <td>14.000000</td>\n",
       "      <td>13.000000</td>\n",
       "      <td>14.000000</td>\n",
       "      <td>13.000000</td>\n",
       "      <td>0.000000e+00</td>\n",
       "      <td>1.505400e+05</td>\n",
       "      <td>0.000000e+00</td>\n",
       "      <td>0.000000e+00</td>\n",
       "    </tr>\n",
       "    <tr>\n",
       "      <th>75%</th>\n",
       "      <td>7.964008e+06</td>\n",
       "      <td>18.000000</td>\n",
       "      <td>22.000000</td>\n",
       "      <td>1100.000000</td>\n",
       "      <td>1110.000000</td>\n",
       "      <td>200908.000000</td>\n",
       "      <td>201002.000000</td>\n",
       "      <td>1.000000</td>\n",
       "      <td>138.000000</td>\n",
       "      <td>3.560000</td>\n",
       "      <td>3.000000</td>\n",
       "      <td>3.000000</td>\n",
       "      <td>15.000000</td>\n",
       "      <td>15.000000</td>\n",
       "      <td>16.000000</td>\n",
       "      <td>15.000000</td>\n",
       "      <td>5.995800e+05</td>\n",
       "      <td>1.192815e+06</td>\n",
       "      <td>3.241800e+05</td>\n",
       "      <td>1.876155e+05</td>\n",
       "    </tr>\n",
       "    <tr>\n",
       "      <th>max</th>\n",
       "      <td>8.037098e+06</td>\n",
       "      <td>26.000000</td>\n",
       "      <td>32.000000</td>\n",
       "      <td>1490.000000</td>\n",
       "      <td>1510.000000</td>\n",
       "      <td>201008.000000</td>\n",
       "      <td>201102.000000</td>\n",
       "      <td>1.000000</td>\n",
       "      <td>5932.000000</td>\n",
       "      <td>4.000000</td>\n",
       "      <td>4.000000</td>\n",
       "      <td>4.000000</td>\n",
       "      <td>21.000000</td>\n",
       "      <td>21.000000</td>\n",
       "      <td>23.000000</td>\n",
       "      <td>23.000000</td>\n",
       "      <td>2.124900e+06</td>\n",
       "      <td>2.124900e+06</td>\n",
       "      <td>5.999940e+06</td>\n",
       "      <td>1.632660e+06</td>\n",
       "    </tr>\n",
       "  </tbody>\n",
       "</table>\n",
       "</div>"
      ],
      "text/plain": [
       "       STUDENT IDENTIFIER    STDNT_AGE  STDNT_TEST_ENTRANCE1  \\\n",
       "count        3.400000e+03  3400.000000           1106.000000   \n",
       "mean         7.897155e+06    17.994118             20.660036   \n",
       "std          8.083421e+04     0.552052              3.234734   \n",
       "min          7.755837e+06    16.000000              8.000000   \n",
       "25%          7.827039e+06    18.000000             18.000000   \n",
       "50%          7.899052e+06    18.000000             20.000000   \n",
       "75%          7.964008e+06    18.000000             22.000000   \n",
       "max          8.037098e+06    26.000000             32.000000   \n",
       "\n",
       "       STDNT_TEST_ENTRANCE2  STDNT_TEST_ENTRANCE_COMB     FIRST_TERM  \\\n",
       "count           2492.000000               2882.000000    3400.000000   \n",
       "mean             965.092295                997.758501  200777.000000   \n",
       "std              209.088633                156.268221     170.001298   \n",
       "min              350.000000                530.000000  200508.000000   \n",
       "25%              900.000000                910.000000  200608.000000   \n",
       "50%              990.000000                990.000000  200808.000000   \n",
       "75%             1100.000000               1110.000000  200908.000000   \n",
       "max             1490.000000               1510.000000  201008.000000   \n",
       "\n",
       "         SECOND_TERM  RETURNED_2ND_YR  DISTANCE_FROM_HOME  HIGH_SCHL_GPA  \\\n",
       "count    3400.000000      3400.000000         3375.000000    3347.000000   \n",
       "mean   200871.000000         0.787353           99.825185       3.202738   \n",
       "std       170.001298         0.409240          235.196984       0.455337   \n",
       "min    200602.000000         0.000000            0.000000       0.000000   \n",
       "25%    200702.000000         1.000000           69.000000       2.870000   \n",
       "50%    200902.000000         1.000000           69.000000       3.200000   \n",
       "75%    201002.000000         1.000000          138.000000       3.560000   \n",
       "max    201102.000000         1.000000         5932.000000       4.000000   \n",
       "\n",
       "       FATHER_HI_EDU_CD  MOTHER_HI_EDU_CD  FIRST_TERM_ATTEMPT_HRS  \\\n",
       "count       2968.000000       2911.000000             3400.000000   \n",
       "mean           2.560647          2.571281               13.985882   \n",
       "std            0.681273          0.611729                1.554286   \n",
       "min            1.000000          1.000000                9.000000   \n",
       "25%            2.000000          2.000000               13.000000   \n",
       "50%            3.000000          3.000000               14.000000   \n",
       "75%            3.000000          3.000000               15.000000   \n",
       "max            4.000000          4.000000               21.000000   \n",
       "\n",
       "       FIRST_TERM_EARNED_HRS  SECOND_TERM_ATTEMPT_HRS  SECOND_TERM_EARNED_HRS  \\\n",
       "count            3400.000000              3194.000000             3191.000000   \n",
       "mean               12.205000                14.285848               12.511125   \n",
       "std                 2.986294                 2.104387                3.470492   \n",
       "min                 0.000000                 2.000000                0.000000   \n",
       "25%                11.000000                13.000000               11.000000   \n",
       "50%                13.000000                14.000000               13.000000   \n",
       "75%                15.000000                16.000000               15.000000   \n",
       "max                21.000000                23.000000               23.000000   \n",
       "\n",
       "       GROSS_FIN_NEED  COST_OF_ATTEND  EST_FAM_CONTRIBUTION    UNMET_NEED  \n",
       "count    3.400000e+03    3.400000e+03          3.400000e+03  3.400000e+03  \n",
       "mean     3.034025e+05    5.515335e+05          3.446899e+05  7.222052e+04  \n",
       "std      4.836255e+05    6.064403e+05          7.871878e+05  2.795679e+05  \n",
       "min      0.000000e+00    0.000000e+00          0.000000e+00 -1.212072e+06  \n",
       "25%      0.000000e+00    0.000000e+00          0.000000e+00  0.000000e+00  \n",
       "50%      0.000000e+00    1.505400e+05          0.000000e+00  0.000000e+00  \n",
       "75%      5.995800e+05    1.192815e+06          3.241800e+05  1.876155e+05  \n",
       "max      2.124900e+06    2.124900e+06          5.999940e+06  1.632660e+06  "
      ]
     },
     "execution_count": 71,
     "metadata": {},
     "output_type": "execute_result"
    }
   ],
   "source": [
    "df1.describe()"
   ]
  },
  {
   "cell_type": "code",
   "execution_count": 72,
   "metadata": {},
   "outputs": [
    {
     "name": "stdout",
     "output_type": "stream",
     "text": [
      "<class 'pandas.core.frame.DataFrame'>\n",
      "RangeIndex: 3400 entries, 0 to 3399\n",
      "Data columns (total 56 columns):\n",
      "STUDENT IDENTIFIER          3400 non-null int64\n",
      "STDNT_AGE                   3400 non-null int64\n",
      "STDNT_GENDER                3400 non-null object\n",
      "STDNT_BACKGROUND            3400 non-null object\n",
      "IN_STATE_FLAG               3400 non-null object\n",
      "INTERNATIONAL_STS           3400 non-null object\n",
      "STDNT_MAJOR                 3400 non-null object\n",
      "STDNT_MINOR                 3400 non-null object\n",
      "STDNT_TEST_ENTRANCE1        1106 non-null float64\n",
      "STDNT_TEST_ENTRANCE2        2492 non-null float64\n",
      "STDNT_TEST_ENTRANCE_COMB    2882 non-null float64\n",
      "FIRST_TERM                  3400 non-null int64\n",
      "CORE_COURSE_NAME_1_F        3400 non-null object\n",
      "CORE_COURSE_GRADE_1_F       3400 non-null object\n",
      "CORE_COURSE_NAME_2_F        3301 non-null object\n",
      "CORE_COURSE_GRADE_2_F       3301 non-null object\n",
      "CORE_COURSE_NAME_3_F        2835 non-null object\n",
      "CORE_COURSE_GRADE_3_F       2835 non-null object\n",
      "CORE_COURSE_NAME_4_F        1803 non-null object\n",
      "CORE_COURSE_GRADE_4_F       1803 non-null object\n",
      "CORE_COURSE_NAME_5_F        645 non-null object\n",
      "CORE_COURSE_GRADE_5_F       645 non-null object\n",
      "CORE_COURSE_NAME_6_F        128 non-null object\n",
      "CORE_COURSE_GRADE_6_F       128 non-null object\n",
      "SECOND_TERM                 3400 non-null int64\n",
      "CORE_COURSE_NAME_1_S        3243 non-null object\n",
      "CORE_COURSE_GRADE_1_S       3168 non-null object\n",
      "CORE_COURSE_NAME_2_S        2961 non-null object\n",
      "CORE_COURSE_GRADE_2_S       2961 non-null object\n",
      "CORE_COURSE_NAME_3_S        2362 non-null object\n",
      "CORE_COURSE_GRADE_3_S       2362 non-null object\n",
      "CORE_COURSE_NAME_4_S        1355 non-null object\n",
      "CORE_COURSE_GRADE_4_S       1355 non-null object\n",
      "CORE_COURSE_NAME_5_S        450 non-null object\n",
      "CORE_COURSE_GRADE_5_S       450 non-null object\n",
      "CORE_COURSE_NAME_6_S        81 non-null object\n",
      "CORE_COURSE_GRADE_6_S       81 non-null object\n",
      "HOUSING_STS                 3400 non-null object\n",
      "RETURNED_2ND_YR             3400 non-null int64\n",
      "DISTANCE_FROM_HOME          3375 non-null float64\n",
      "HIGH_SCHL_GPA               3347 non-null float64\n",
      "HIGH_SCHL_NAME              3399 non-null object\n",
      "FATHER_HI_EDU_CD            2968 non-null float64\n",
      "FATHER_HI_EDU_DESC          3400 non-null object\n",
      "MOTHER_HI_EDU_CD            2911 non-null float64\n",
      "MOTHER_HI_EDU_DESC          3400 non-null object\n",
      "DEGREE_GROUP_CD             3400 non-null object\n",
      "DEGREE_GROUP_DESC           3400 non-null object\n",
      "FIRST_TERM_ATTEMPT_HRS      3400 non-null int64\n",
      "FIRST_TERM_EARNED_HRS       3400 non-null int64\n",
      "SECOND_TERM_ATTEMPT_HRS     3194 non-null float64\n",
      "SECOND_TERM_EARNED_HRS      3191 non-null float64\n",
      "GROSS_FIN_NEED              3400 non-null int64\n",
      "COST_OF_ATTEND              3400 non-null int64\n",
      "EST_FAM_CONTRIBUTION        3400 non-null int64\n",
      "UNMET_NEED                  3400 non-null float64\n",
      "dtypes: float64(10), int64(10), object(36)\n",
      "memory usage: 1.5+ MB\n"
     ]
    }
   ],
   "source": [
    "df1.info()\n"
   ]
  },
  {
   "cell_type": "code",
   "execution_count": 73,
   "metadata": {},
   "outputs": [
    {
     "data": {
      "text/plain": [
       "{dtype('int64'): Index(['STUDENT IDENTIFIER', 'STDNT_AGE', 'FIRST_TERM', 'SECOND_TERM',\n",
       "        'RETURNED_2ND_YR', 'FIRST_TERM_ATTEMPT_HRS', 'FIRST_TERM_EARNED_HRS',\n",
       "        'GROSS_FIN_NEED', 'COST_OF_ATTEND', 'EST_FAM_CONTRIBUTION'],\n",
       "       dtype='object'),\n",
       " dtype('float64'): Index(['STDNT_TEST_ENTRANCE1', 'STDNT_TEST_ENTRANCE2',\n",
       "        'STDNT_TEST_ENTRANCE_COMB', 'DISTANCE_FROM_HOME', 'HIGH_SCHL_GPA',\n",
       "        'FATHER_HI_EDU_CD', 'MOTHER_HI_EDU_CD', 'SECOND_TERM_ATTEMPT_HRS',\n",
       "        'SECOND_TERM_EARNED_HRS', 'UNMET_NEED'],\n",
       "       dtype='object'),\n",
       " dtype('O'): Index(['STDNT_GENDER', 'STDNT_BACKGROUND', 'IN_STATE_FLAG',\n",
       "        'INTERNATIONAL_STS', 'STDNT_MAJOR', 'STDNT_MINOR',\n",
       "        'CORE_COURSE_NAME_1_F', 'CORE_COURSE_GRADE_1_F', 'CORE_COURSE_NAME_2_F',\n",
       "        'CORE_COURSE_GRADE_2_F', 'CORE_COURSE_NAME_3_F',\n",
       "        'CORE_COURSE_GRADE_3_F', 'CORE_COURSE_NAME_4_F',\n",
       "        'CORE_COURSE_GRADE_4_F', 'CORE_COURSE_NAME_5_F',\n",
       "        'CORE_COURSE_GRADE_5_F', 'CORE_COURSE_NAME_6_F',\n",
       "        'CORE_COURSE_GRADE_6_F', 'CORE_COURSE_NAME_1_S',\n",
       "        'CORE_COURSE_GRADE_1_S', 'CORE_COURSE_NAME_2_S',\n",
       "        'CORE_COURSE_GRADE_2_S', 'CORE_COURSE_NAME_3_S',\n",
       "        'CORE_COURSE_GRADE_3_S', 'CORE_COURSE_NAME_4_S',\n",
       "        'CORE_COURSE_GRADE_4_S', 'CORE_COURSE_NAME_5_S',\n",
       "        'CORE_COURSE_GRADE_5_S', 'CORE_COURSE_NAME_6_S',\n",
       "        'CORE_COURSE_GRADE_6_S', 'HOUSING_STS', 'HIGH_SCHL_NAME',\n",
       "        'FATHER_HI_EDU_DESC', 'MOTHER_HI_EDU_DESC', 'DEGREE_GROUP_CD',\n",
       "        'DEGREE_GROUP_DESC'],\n",
       "       dtype='object')}"
      ]
     },
     "execution_count": 73,
     "metadata": {},
     "output_type": "execute_result"
    }
   ],
   "source": [
    "df1.columns.to_series().groupby(df1.dtypes).groups"
   ]
  },
  {
   "cell_type": "code",
   "execution_count": 74,
   "metadata": {},
   "outputs": [],
   "source": [
    "std_new1 = df1[['RETURNED_2ND_YR','GROSS_FIN_NEED','COST_OF_ATTEND','EST_FAM_CONTRIBUTION',\n",
    "         'DISTANCE_FROM_HOME','UNMET_NEED','STDNT_GENDER','HOUSING_STS','HIGH_SCHL_GPA','STDNT_MAJOR','STDNT_MINOR','FATHER_HI_EDU_CD', 'MOTHER_HI_EDU_CD','IN_STATE_FLAG','FIRST_TERM_EARNED_HRS','SECOND_TERM_EARNED_HRS',]].copy()"
   ]
  },
  {
   "cell_type": "markdown",
   "metadata": {},
   "source": [
    "New data frame created with critical factors which are significant for the student who left..this critical factors are taken from histogram analysis, box plot and pandas profiling.."
   ]
  },
  {
   "cell_type": "code",
   "execution_count": 75,
   "metadata": {
    "scrolled": true
   },
   "outputs": [
    {
     "data": {
      "text/html": [
       "<div>\n",
       "<style scoped>\n",
       "    .dataframe tbody tr th:only-of-type {\n",
       "        vertical-align: middle;\n",
       "    }\n",
       "\n",
       "    .dataframe tbody tr th {\n",
       "        vertical-align: top;\n",
       "    }\n",
       "\n",
       "    .dataframe thead th {\n",
       "        text-align: right;\n",
       "    }\n",
       "</style>\n",
       "<table border=\"1\" class=\"dataframe\">\n",
       "  <thead>\n",
       "    <tr style=\"text-align: right;\">\n",
       "      <th></th>\n",
       "      <th>RETURNED_2ND_YR</th>\n",
       "      <th>GROSS_FIN_NEED</th>\n",
       "      <th>COST_OF_ATTEND</th>\n",
       "      <th>EST_FAM_CONTRIBUTION</th>\n",
       "      <th>DISTANCE_FROM_HOME</th>\n",
       "      <th>UNMET_NEED</th>\n",
       "      <th>STDNT_GENDER</th>\n",
       "      <th>HOUSING_STS</th>\n",
       "      <th>HIGH_SCHL_GPA</th>\n",
       "      <th>STDNT_MAJOR</th>\n",
       "      <th>STDNT_MINOR</th>\n",
       "      <th>FATHER_HI_EDU_CD</th>\n",
       "      <th>MOTHER_HI_EDU_CD</th>\n",
       "      <th>IN_STATE_FLAG</th>\n",
       "      <th>FIRST_TERM_EARNED_HRS</th>\n",
       "      <th>SECOND_TERM_EARNED_HRS</th>\n",
       "    </tr>\n",
       "  </thead>\n",
       "  <tbody>\n",
       "    <tr>\n",
       "      <th>0</th>\n",
       "      <td>0</td>\n",
       "      <td>0</td>\n",
       "      <td>0</td>\n",
       "      <td>0</td>\n",
       "      <td>150.0</td>\n",
       "      <td>0.0</td>\n",
       "      <td>F</td>\n",
       "      <td>On Campus</td>\n",
       "      <td>4.00</td>\n",
       "      <td>Undeclared</td>\n",
       "      <td>N</td>\n",
       "      <td>NaN</td>\n",
       "      <td>NaN</td>\n",
       "      <td>Y</td>\n",
       "      <td>16</td>\n",
       "      <td>14.0</td>\n",
       "    </tr>\n",
       "    <tr>\n",
       "      <th>1</th>\n",
       "      <td>1</td>\n",
       "      <td>570000</td>\n",
       "      <td>1355760</td>\n",
       "      <td>785760</td>\n",
       "      <td>69.0</td>\n",
       "      <td>459300.0</td>\n",
       "      <td>F</td>\n",
       "      <td>Off Campus</td>\n",
       "      <td>2.89</td>\n",
       "      <td>Undeclared</td>\n",
       "      <td>N</td>\n",
       "      <td>3.0</td>\n",
       "      <td>3.0</td>\n",
       "      <td>N</td>\n",
       "      <td>18</td>\n",
       "      <td>18.0</td>\n",
       "    </tr>\n",
       "    <tr>\n",
       "      <th>2</th>\n",
       "      <td>1</td>\n",
       "      <td>0</td>\n",
       "      <td>0</td>\n",
       "      <td>0</td>\n",
       "      <td>150.0</td>\n",
       "      <td>0.0</td>\n",
       "      <td>M</td>\n",
       "      <td>On Campus</td>\n",
       "      <td>3.39</td>\n",
       "      <td>Mathematics</td>\n",
       "      <td>N</td>\n",
       "      <td>2.0</td>\n",
       "      <td>4.0</td>\n",
       "      <td>Y</td>\n",
       "      <td>15</td>\n",
       "      <td>14.0</td>\n",
       "    </tr>\n",
       "    <tr>\n",
       "      <th>3</th>\n",
       "      <td>1</td>\n",
       "      <td>0</td>\n",
       "      <td>0</td>\n",
       "      <td>0</td>\n",
       "      <td>150.0</td>\n",
       "      <td>0.0</td>\n",
       "      <td>M</td>\n",
       "      <td>On Campus</td>\n",
       "      <td>2.93</td>\n",
       "      <td>Undeclared</td>\n",
       "      <td>N</td>\n",
       "      <td>3.0</td>\n",
       "      <td>3.0</td>\n",
       "      <td>Y</td>\n",
       "      <td>13</td>\n",
       "      <td>14.0</td>\n",
       "    </tr>\n",
       "    <tr>\n",
       "      <th>4</th>\n",
       "      <td>1</td>\n",
       "      <td>835920</td>\n",
       "      <td>1355760</td>\n",
       "      <td>519840</td>\n",
       "      <td>69.0</td>\n",
       "      <td>278340.0</td>\n",
       "      <td>F</td>\n",
       "      <td>Off Campus</td>\n",
       "      <td>3.86</td>\n",
       "      <td>Art</td>\n",
       "      <td>N</td>\n",
       "      <td>3.0</td>\n",
       "      <td>2.0</td>\n",
       "      <td>Y</td>\n",
       "      <td>12</td>\n",
       "      <td>12.0</td>\n",
       "    </tr>\n",
       "  </tbody>\n",
       "</table>\n",
       "</div>"
      ],
      "text/plain": [
       "   RETURNED_2ND_YR  GROSS_FIN_NEED  COST_OF_ATTEND  EST_FAM_CONTRIBUTION  \\\n",
       "0                0               0               0                     0   \n",
       "1                1          570000         1355760                785760   \n",
       "2                1               0               0                     0   \n",
       "3                1               0               0                     0   \n",
       "4                1          835920         1355760                519840   \n",
       "\n",
       "   DISTANCE_FROM_HOME  UNMET_NEED STDNT_GENDER HOUSING_STS  HIGH_SCHL_GPA  \\\n",
       "0               150.0         0.0            F   On Campus           4.00   \n",
       "1                69.0    459300.0            F  Off Campus           2.89   \n",
       "2               150.0         0.0            M   On Campus           3.39   \n",
       "3               150.0         0.0            M   On Campus           2.93   \n",
       "4                69.0    278340.0            F  Off Campus           3.86   \n",
       "\n",
       "   STDNT_MAJOR STDNT_MINOR  FATHER_HI_EDU_CD  MOTHER_HI_EDU_CD IN_STATE_FLAG  \\\n",
       "0   Undeclared           N               NaN               NaN             Y   \n",
       "1   Undeclared           N               3.0               3.0             N   \n",
       "2  Mathematics           N               2.0               4.0             Y   \n",
       "3   Undeclared           N               3.0               3.0             Y   \n",
       "4          Art           N               3.0               2.0             Y   \n",
       "\n",
       "   FIRST_TERM_EARNED_HRS  SECOND_TERM_EARNED_HRS  \n",
       "0                     16                    14.0  \n",
       "1                     18                    18.0  \n",
       "2                     15                    14.0  \n",
       "3                     13                    14.0  \n",
       "4                     12                    12.0  "
      ]
     },
     "execution_count": 75,
     "metadata": {},
     "output_type": "execute_result"
    }
   ],
   "source": [
    "std_new1.head()"
   ]
  },
  {
   "cell_type": "code",
   "execution_count": 76,
   "metadata": {},
   "outputs": [],
   "source": [
    "std_new1['RETURNED_2ND_YR']=std_new1['RETURNED_2ND_YR'].map(lambda x: 1 if x== 0 else 0)"
   ]
  },
  {
   "cell_type": "markdown",
   "metadata": {},
   "source": [
    "This function used to convert 0 to 1 and 1 to 0 in returned second year column, As we are trying to predict model for students who didnot return to second year."
   ]
  },
  {
   "cell_type": "code",
   "execution_count": 77,
   "metadata": {
    "scrolled": true
   },
   "outputs": [
    {
     "data": {
      "text/html": [
       "<div>\n",
       "<style scoped>\n",
       "    .dataframe tbody tr th:only-of-type {\n",
       "        vertical-align: middle;\n",
       "    }\n",
       "\n",
       "    .dataframe tbody tr th {\n",
       "        vertical-align: top;\n",
       "    }\n",
       "\n",
       "    .dataframe thead th {\n",
       "        text-align: right;\n",
       "    }\n",
       "</style>\n",
       "<table border=\"1\" class=\"dataframe\">\n",
       "  <thead>\n",
       "    <tr style=\"text-align: right;\">\n",
       "      <th></th>\n",
       "      <th>RETURNED_2ND_YR</th>\n",
       "      <th>GROSS_FIN_NEED</th>\n",
       "      <th>COST_OF_ATTEND</th>\n",
       "      <th>EST_FAM_CONTRIBUTION</th>\n",
       "      <th>DISTANCE_FROM_HOME</th>\n",
       "      <th>UNMET_NEED</th>\n",
       "      <th>STDNT_GENDER</th>\n",
       "      <th>HOUSING_STS</th>\n",
       "      <th>HIGH_SCHL_GPA</th>\n",
       "      <th>STDNT_MAJOR</th>\n",
       "      <th>STDNT_MINOR</th>\n",
       "      <th>FATHER_HI_EDU_CD</th>\n",
       "      <th>MOTHER_HI_EDU_CD</th>\n",
       "      <th>IN_STATE_FLAG</th>\n",
       "      <th>FIRST_TERM_EARNED_HRS</th>\n",
       "      <th>SECOND_TERM_EARNED_HRS</th>\n",
       "    </tr>\n",
       "  </thead>\n",
       "  <tbody>\n",
       "    <tr>\n",
       "      <th>0</th>\n",
       "      <td>1</td>\n",
       "      <td>0</td>\n",
       "      <td>0</td>\n",
       "      <td>0</td>\n",
       "      <td>150.0</td>\n",
       "      <td>0.0</td>\n",
       "      <td>F</td>\n",
       "      <td>On Campus</td>\n",
       "      <td>4.00</td>\n",
       "      <td>Undeclared</td>\n",
       "      <td>N</td>\n",
       "      <td>NaN</td>\n",
       "      <td>NaN</td>\n",
       "      <td>Y</td>\n",
       "      <td>16</td>\n",
       "      <td>14.0</td>\n",
       "    </tr>\n",
       "    <tr>\n",
       "      <th>1</th>\n",
       "      <td>0</td>\n",
       "      <td>570000</td>\n",
       "      <td>1355760</td>\n",
       "      <td>785760</td>\n",
       "      <td>69.0</td>\n",
       "      <td>459300.0</td>\n",
       "      <td>F</td>\n",
       "      <td>Off Campus</td>\n",
       "      <td>2.89</td>\n",
       "      <td>Undeclared</td>\n",
       "      <td>N</td>\n",
       "      <td>3.0</td>\n",
       "      <td>3.0</td>\n",
       "      <td>N</td>\n",
       "      <td>18</td>\n",
       "      <td>18.0</td>\n",
       "    </tr>\n",
       "    <tr>\n",
       "      <th>2</th>\n",
       "      <td>0</td>\n",
       "      <td>0</td>\n",
       "      <td>0</td>\n",
       "      <td>0</td>\n",
       "      <td>150.0</td>\n",
       "      <td>0.0</td>\n",
       "      <td>M</td>\n",
       "      <td>On Campus</td>\n",
       "      <td>3.39</td>\n",
       "      <td>Mathematics</td>\n",
       "      <td>N</td>\n",
       "      <td>2.0</td>\n",
       "      <td>4.0</td>\n",
       "      <td>Y</td>\n",
       "      <td>15</td>\n",
       "      <td>14.0</td>\n",
       "    </tr>\n",
       "    <tr>\n",
       "      <th>3</th>\n",
       "      <td>0</td>\n",
       "      <td>0</td>\n",
       "      <td>0</td>\n",
       "      <td>0</td>\n",
       "      <td>150.0</td>\n",
       "      <td>0.0</td>\n",
       "      <td>M</td>\n",
       "      <td>On Campus</td>\n",
       "      <td>2.93</td>\n",
       "      <td>Undeclared</td>\n",
       "      <td>N</td>\n",
       "      <td>3.0</td>\n",
       "      <td>3.0</td>\n",
       "      <td>Y</td>\n",
       "      <td>13</td>\n",
       "      <td>14.0</td>\n",
       "    </tr>\n",
       "    <tr>\n",
       "      <th>4</th>\n",
       "      <td>0</td>\n",
       "      <td>835920</td>\n",
       "      <td>1355760</td>\n",
       "      <td>519840</td>\n",
       "      <td>69.0</td>\n",
       "      <td>278340.0</td>\n",
       "      <td>F</td>\n",
       "      <td>Off Campus</td>\n",
       "      <td>3.86</td>\n",
       "      <td>Art</td>\n",
       "      <td>N</td>\n",
       "      <td>3.0</td>\n",
       "      <td>2.0</td>\n",
       "      <td>Y</td>\n",
       "      <td>12</td>\n",
       "      <td>12.0</td>\n",
       "    </tr>\n",
       "  </tbody>\n",
       "</table>\n",
       "</div>"
      ],
      "text/plain": [
       "   RETURNED_2ND_YR  GROSS_FIN_NEED  COST_OF_ATTEND  EST_FAM_CONTRIBUTION  \\\n",
       "0                1               0               0                     0   \n",
       "1                0          570000         1355760                785760   \n",
       "2                0               0               0                     0   \n",
       "3                0               0               0                     0   \n",
       "4                0          835920         1355760                519840   \n",
       "\n",
       "   DISTANCE_FROM_HOME  UNMET_NEED STDNT_GENDER HOUSING_STS  HIGH_SCHL_GPA  \\\n",
       "0               150.0         0.0            F   On Campus           4.00   \n",
       "1                69.0    459300.0            F  Off Campus           2.89   \n",
       "2               150.0         0.0            M   On Campus           3.39   \n",
       "3               150.0         0.0            M   On Campus           2.93   \n",
       "4                69.0    278340.0            F  Off Campus           3.86   \n",
       "\n",
       "   STDNT_MAJOR STDNT_MINOR  FATHER_HI_EDU_CD  MOTHER_HI_EDU_CD IN_STATE_FLAG  \\\n",
       "0   Undeclared           N               NaN               NaN             Y   \n",
       "1   Undeclared           N               3.0               3.0             N   \n",
       "2  Mathematics           N               2.0               4.0             Y   \n",
       "3   Undeclared           N               3.0               3.0             Y   \n",
       "4          Art           N               3.0               2.0             Y   \n",
       "\n",
       "   FIRST_TERM_EARNED_HRS  SECOND_TERM_EARNED_HRS  \n",
       "0                     16                    14.0  \n",
       "1                     18                    18.0  \n",
       "2                     15                    14.0  \n",
       "3                     13                    14.0  \n",
       "4                     12                    12.0  "
      ]
     },
     "execution_count": 77,
     "metadata": {},
     "output_type": "execute_result"
    }
   ],
   "source": [
    "std_new1.head()"
   ]
  },
  {
   "cell_type": "markdown",
   "metadata": {},
   "source": [
    "Machine Learning algorithms can typically only have numerical values as their predictor variables. Hence Label Encoding becomes necessary as they encode categorical labels with numerical values. To avoid introducing feature importance for categorical features with large numbers of unique values, we will use both Lable Encoding and One-Hot Encoding as shown below."
   ]
  },
  {
   "cell_type": "code",
   "execution_count": 78,
   "metadata": {},
   "outputs": [],
   "source": [
    "from sklearn.preprocessing import LabelEncoder, OneHotEncoder\n",
    "# Create a label encoder object--to avoid duplicate\n",
    "le = LabelEncoder()"
   ]
  },
  {
   "cell_type": "code",
   "execution_count": 79,
   "metadata": {},
   "outputs": [
    {
     "name": "stdout",
     "output_type": "stream",
     "text": [
      "3 columns were label encoded.\n"
     ]
    }
   ],
   "source": [
    "# Label Encoding will be used for columns with 2 or less unique values\n",
    "le_count = 0\n",
    "for col in std_new1.columns[1:]:\n",
    "    if std_new1[col].dtype == 'object':\n",
    "        if len(list(std_new1[col].unique())) <= 5:\n",
    "            le.fit(std_new1[col])\n",
    "            std_new1[col] = le.transform(std_new1[col])\n",
    "            le_count += 1\n",
    "print('{} columns were label encoded.'.format(le_count))"
   ]
  },
  {
   "cell_type": "code",
   "execution_count": 80,
   "metadata": {},
   "outputs": [],
   "source": [
    "# convert rest of categorical variable into dummy...to covert categorical into numerical\n",
    "std_new1 = pd.get_dummies(std_new1, drop_first=True)"
   ]
  },
  {
   "cell_type": "code",
   "execution_count": 81,
   "metadata": {
    "scrolled": false
   },
   "outputs": [
    {
     "data": {
      "text/html": [
       "<div>\n",
       "<style scoped>\n",
       "    .dataframe tbody tr th:only-of-type {\n",
       "        vertical-align: middle;\n",
       "    }\n",
       "\n",
       "    .dataframe tbody tr th {\n",
       "        vertical-align: top;\n",
       "    }\n",
       "\n",
       "    .dataframe thead th {\n",
       "        text-align: right;\n",
       "    }\n",
       "</style>\n",
       "<table border=\"1\" class=\"dataframe\">\n",
       "  <thead>\n",
       "    <tr style=\"text-align: right;\">\n",
       "      <th></th>\n",
       "      <th>RETURNED_2ND_YR</th>\n",
       "      <th>GROSS_FIN_NEED</th>\n",
       "      <th>COST_OF_ATTEND</th>\n",
       "      <th>EST_FAM_CONTRIBUTION</th>\n",
       "      <th>DISTANCE_FROM_HOME</th>\n",
       "      <th>UNMET_NEED</th>\n",
       "      <th>STDNT_GENDER</th>\n",
       "      <th>HOUSING_STS</th>\n",
       "      <th>HIGH_SCHL_GPA</th>\n",
       "      <th>FATHER_HI_EDU_CD</th>\n",
       "      <th>...</th>\n",
       "      <th>STDNT_MINOR_Music</th>\n",
       "      <th>STDNT_MINOR_N</th>\n",
       "      <th>STDNT_MINOR_Philosophy</th>\n",
       "      <th>STDNT_MINOR_Political Science</th>\n",
       "      <th>STDNT_MINOR_Professional Writing</th>\n",
       "      <th>STDNT_MINOR_Psychology</th>\n",
       "      <th>STDNT_MINOR_Sociology</th>\n",
       "      <th>STDNT_MINOR_Spanish</th>\n",
       "      <th>STDNT_MINOR_Theatre Arts</th>\n",
       "      <th>STDNT_MINOR_Women's Studies</th>\n",
       "    </tr>\n",
       "  </thead>\n",
       "  <tbody>\n",
       "    <tr>\n",
       "      <th>0</th>\n",
       "      <td>1</td>\n",
       "      <td>0</td>\n",
       "      <td>0</td>\n",
       "      <td>0</td>\n",
       "      <td>150.0</td>\n",
       "      <td>0.0</td>\n",
       "      <td>0</td>\n",
       "      <td>1</td>\n",
       "      <td>4.00</td>\n",
       "      <td>NaN</td>\n",
       "      <td>...</td>\n",
       "      <td>0</td>\n",
       "      <td>1</td>\n",
       "      <td>0</td>\n",
       "      <td>0</td>\n",
       "      <td>0</td>\n",
       "      <td>0</td>\n",
       "      <td>0</td>\n",
       "      <td>0</td>\n",
       "      <td>0</td>\n",
       "      <td>0</td>\n",
       "    </tr>\n",
       "    <tr>\n",
       "      <th>1</th>\n",
       "      <td>0</td>\n",
       "      <td>570000</td>\n",
       "      <td>1355760</td>\n",
       "      <td>785760</td>\n",
       "      <td>69.0</td>\n",
       "      <td>459300.0</td>\n",
       "      <td>0</td>\n",
       "      <td>0</td>\n",
       "      <td>2.89</td>\n",
       "      <td>3.0</td>\n",
       "      <td>...</td>\n",
       "      <td>0</td>\n",
       "      <td>1</td>\n",
       "      <td>0</td>\n",
       "      <td>0</td>\n",
       "      <td>0</td>\n",
       "      <td>0</td>\n",
       "      <td>0</td>\n",
       "      <td>0</td>\n",
       "      <td>0</td>\n",
       "      <td>0</td>\n",
       "    </tr>\n",
       "    <tr>\n",
       "      <th>2</th>\n",
       "      <td>0</td>\n",
       "      <td>0</td>\n",
       "      <td>0</td>\n",
       "      <td>0</td>\n",
       "      <td>150.0</td>\n",
       "      <td>0.0</td>\n",
       "      <td>1</td>\n",
       "      <td>1</td>\n",
       "      <td>3.39</td>\n",
       "      <td>2.0</td>\n",
       "      <td>...</td>\n",
       "      <td>0</td>\n",
       "      <td>1</td>\n",
       "      <td>0</td>\n",
       "      <td>0</td>\n",
       "      <td>0</td>\n",
       "      <td>0</td>\n",
       "      <td>0</td>\n",
       "      <td>0</td>\n",
       "      <td>0</td>\n",
       "      <td>0</td>\n",
       "    </tr>\n",
       "    <tr>\n",
       "      <th>3</th>\n",
       "      <td>0</td>\n",
       "      <td>0</td>\n",
       "      <td>0</td>\n",
       "      <td>0</td>\n",
       "      <td>150.0</td>\n",
       "      <td>0.0</td>\n",
       "      <td>1</td>\n",
       "      <td>1</td>\n",
       "      <td>2.93</td>\n",
       "      <td>3.0</td>\n",
       "      <td>...</td>\n",
       "      <td>0</td>\n",
       "      <td>1</td>\n",
       "      <td>0</td>\n",
       "      <td>0</td>\n",
       "      <td>0</td>\n",
       "      <td>0</td>\n",
       "      <td>0</td>\n",
       "      <td>0</td>\n",
       "      <td>0</td>\n",
       "      <td>0</td>\n",
       "    </tr>\n",
       "    <tr>\n",
       "      <th>4</th>\n",
       "      <td>0</td>\n",
       "      <td>835920</td>\n",
       "      <td>1355760</td>\n",
       "      <td>519840</td>\n",
       "      <td>69.0</td>\n",
       "      <td>278340.0</td>\n",
       "      <td>0</td>\n",
       "      <td>0</td>\n",
       "      <td>3.86</td>\n",
       "      <td>3.0</td>\n",
       "      <td>...</td>\n",
       "      <td>0</td>\n",
       "      <td>1</td>\n",
       "      <td>0</td>\n",
       "      <td>0</td>\n",
       "      <td>0</td>\n",
       "      <td>0</td>\n",
       "      <td>0</td>\n",
       "      <td>0</td>\n",
       "      <td>0</td>\n",
       "      <td>0</td>\n",
       "    </tr>\n",
       "  </tbody>\n",
       "</table>\n",
       "<p>5 rows × 103 columns</p>\n",
       "</div>"
      ],
      "text/plain": [
       "   RETURNED_2ND_YR  GROSS_FIN_NEED  COST_OF_ATTEND  EST_FAM_CONTRIBUTION  \\\n",
       "0                1               0               0                     0   \n",
       "1                0          570000         1355760                785760   \n",
       "2                0               0               0                     0   \n",
       "3                0               0               0                     0   \n",
       "4                0          835920         1355760                519840   \n",
       "\n",
       "   DISTANCE_FROM_HOME  UNMET_NEED  STDNT_GENDER  HOUSING_STS  HIGH_SCHL_GPA  \\\n",
       "0               150.0         0.0             0            1           4.00   \n",
       "1                69.0    459300.0             0            0           2.89   \n",
       "2               150.0         0.0             1            1           3.39   \n",
       "3               150.0         0.0             1            1           2.93   \n",
       "4                69.0    278340.0             0            0           3.86   \n",
       "\n",
       "   FATHER_HI_EDU_CD  ...  STDNT_MINOR_Music  STDNT_MINOR_N  \\\n",
       "0               NaN  ...                  0              1   \n",
       "1               3.0  ...                  0              1   \n",
       "2               2.0  ...                  0              1   \n",
       "3               3.0  ...                  0              1   \n",
       "4               3.0  ...                  0              1   \n",
       "\n",
       "   STDNT_MINOR_Philosophy  STDNT_MINOR_Political Science  \\\n",
       "0                       0                              0   \n",
       "1                       0                              0   \n",
       "2                       0                              0   \n",
       "3                       0                              0   \n",
       "4                       0                              0   \n",
       "\n",
       "   STDNT_MINOR_Professional Writing  STDNT_MINOR_Psychology  \\\n",
       "0                                 0                       0   \n",
       "1                                 0                       0   \n",
       "2                                 0                       0   \n",
       "3                                 0                       0   \n",
       "4                                 0                       0   \n",
       "\n",
       "   STDNT_MINOR_Sociology  STDNT_MINOR_Spanish  STDNT_MINOR_Theatre Arts  \\\n",
       "0                      0                    0                         0   \n",
       "1                      0                    0                         0   \n",
       "2                      0                    0                         0   \n",
       "3                      0                    0                         0   \n",
       "4                      0                    0                         0   \n",
       "\n",
       "   STDNT_MINOR_Women's Studies  \n",
       "0                            0  \n",
       "1                            0  \n",
       "2                            0  \n",
       "3                            0  \n",
       "4                            0  \n",
       "\n",
       "[5 rows x 103 columns]"
      ]
     },
     "execution_count": 81,
     "metadata": {},
     "output_type": "execute_result"
    }
   ],
   "source": [
    "std_new1.head()"
   ]
  },
  {
   "cell_type": "code",
   "execution_count": 82,
   "metadata": {},
   "outputs": [
    {
     "data": {
      "text/plain": [
       "RETURNED_2ND_YR                                0\n",
       "GROSS_FIN_NEED                                 0\n",
       "COST_OF_ATTEND                                 0\n",
       "EST_FAM_CONTRIBUTION                           0\n",
       "DISTANCE_FROM_HOME                            25\n",
       "UNMET_NEED                                     0\n",
       "STDNT_GENDER                                   0\n",
       "HOUSING_STS                                    0\n",
       "HIGH_SCHL_GPA                                 53\n",
       "FATHER_HI_EDU_CD                             432\n",
       "MOTHER_HI_EDU_CD                             489\n",
       "IN_STATE_FLAG                                  0\n",
       "FIRST_TERM_EARNED_HRS                          0\n",
       "SECOND_TERM_EARNED_HRS                       209\n",
       "STDNT_MAJOR_Applied Computer Science           0\n",
       "STDNT_MAJOR_Art                                0\n",
       "STDNT_MAJOR_Art Education                      0\n",
       "STDNT_MAJOR_Biology                            0\n",
       "STDNT_MAJOR_Biology and Secondary Ed           0\n",
       "STDNT_MAJOR_Chemistry                          0\n",
       "STDNT_MAJOR_Chemistry and Secondary Ed         0\n",
       "STDNT_MAJOR_Communication                      0\n",
       "STDNT_MAJOR_Computer Science - Games           0\n",
       "STDNT_MAJOR_Computer Science - Systems         0\n",
       "STDNT_MAJOR_Criminal Justice                   0\n",
       "STDNT_MAJOR_Early Admission - Accel            0\n",
       "STDNT_MAJOR_Early Childhood Education          0\n",
       "STDNT_MAJOR_Earth and Space Science            0\n",
       "STDNT_MAJOR_Engineering Studies                0\n",
       "STDNT_MAJOR_English Language/Literature        0\n",
       "                                            ... \n",
       "STDNT_MINOR_Chemistry                          0\n",
       "STDNT_MINOR_Communication                      0\n",
       "STDNT_MINOR_Computer Info. Management          0\n",
       "STDNT_MINOR_Computer Science - Systems         0\n",
       "STDNT_MINOR_Creative Writing                   0\n",
       "STDNT_MINOR_Criminal Justice                   0\n",
       "STDNT_MINOR_Early Childhood Education          0\n",
       "STDNT_MINOR_Economics                          0\n",
       "STDNT_MINOR_English Language/Literature        0\n",
       "STDNT_MINOR_Exercise Science                   0\n",
       "STDNT_MINOR_Finance                            0\n",
       "STDNT_MINOR_Foundations of Business            0\n",
       "STDNT_MINOR_French                             0\n",
       "STDNT_MINOR_Health Science                     0\n",
       "STDNT_MINOR_History                            0\n",
       "STDNT_MINOR_International Business             0\n",
       "STDNT_MINOR_Management                         0\n",
       "STDNT_MINOR_Marketing                          0\n",
       "STDNT_MINOR_Mathematics                        0\n",
       "STDNT_MINOR_Military Sci & Adv Leadership      0\n",
       "STDNT_MINOR_Music                              0\n",
       "STDNT_MINOR_N                                  0\n",
       "STDNT_MINOR_Philosophy                         0\n",
       "STDNT_MINOR_Political Science                  0\n",
       "STDNT_MINOR_Professional Writing               0\n",
       "STDNT_MINOR_Psychology                         0\n",
       "STDNT_MINOR_Sociology                          0\n",
       "STDNT_MINOR_Spanish                            0\n",
       "STDNT_MINOR_Theatre Arts                       0\n",
       "STDNT_MINOR_Women's Studies                    0\n",
       "Length: 103, dtype: int64"
      ]
     },
     "execution_count": 82,
     "metadata": {},
     "output_type": "execute_result"
    }
   ],
   "source": [
    "std_new1.isnull().sum()"
   ]
  },
  {
   "cell_type": "markdown",
   "metadata": {},
   "source": [
    "Data cleaning by imputing missing values--Treating null values with their mean and mode respectively"
   ]
  },
  {
   "cell_type": "code",
   "execution_count": 83,
   "metadata": {},
   "outputs": [
    {
     "data": {
      "text/plain": [
       "53"
      ]
     },
     "execution_count": 83,
     "metadata": {},
     "output_type": "execute_result"
    }
   ],
   "source": [
    "std_new1['HIGH_SCHL_GPA'].isnull().sum()"
   ]
  },
  {
   "cell_type": "code",
   "execution_count": 84,
   "metadata": {},
   "outputs": [
    {
     "data": {
      "text/plain": [
       "0"
      ]
     },
     "execution_count": 84,
     "metadata": {},
     "output_type": "execute_result"
    }
   ],
   "source": [
    "std_new1['STDNT_MAJOR_Applied Computer Science'].isnull().sum()"
   ]
  },
  {
   "cell_type": "code",
   "execution_count": 85,
   "metadata": {},
   "outputs": [
    {
     "data": {
      "text/plain": [
       "432"
      ]
     },
     "execution_count": 85,
     "metadata": {},
     "output_type": "execute_result"
    }
   ],
   "source": [
    "std_new1['FATHER_HI_EDU_CD'].isnull().sum()"
   ]
  },
  {
   "cell_type": "code",
   "execution_count": 86,
   "metadata": {},
   "outputs": [
    {
     "data": {
      "text/plain": [
       "489"
      ]
     },
     "execution_count": 86,
     "metadata": {},
     "output_type": "execute_result"
    }
   ],
   "source": [
    "std_new1['MOTHER_HI_EDU_CD'].isnull().sum()"
   ]
  },
  {
   "cell_type": "code",
   "execution_count": 87,
   "metadata": {},
   "outputs": [
    {
     "data": {
      "text/plain": [
       "0"
      ]
     },
     "execution_count": 87,
     "metadata": {},
     "output_type": "execute_result"
    }
   ],
   "source": [
    "std_new1['COST_OF_ATTEND'].isnull().sum()"
   ]
  },
  {
   "cell_type": "code",
   "execution_count": 88,
   "metadata": {},
   "outputs": [],
   "source": [
    "std_new1['DISTANCE_FROM_HOME'].fillna(112,inplace=True)"
   ]
  },
  {
   "cell_type": "code",
   "execution_count": 89,
   "metadata": {},
   "outputs": [],
   "source": [
    "std_new1['HIGH_SCHL_GPA'].fillna(3.2,inplace=True)"
   ]
  },
  {
   "cell_type": "code",
   "execution_count": 90,
   "metadata": {},
   "outputs": [],
   "source": [
    "std_new1['FATHER_HI_EDU_CD'].fillna(2.56,inplace=True)"
   ]
  },
  {
   "cell_type": "code",
   "execution_count": 91,
   "metadata": {},
   "outputs": [
    {
     "data": {
      "text/plain": [
       "0"
      ]
     },
     "execution_count": 91,
     "metadata": {},
     "output_type": "execute_result"
    }
   ],
   "source": [
    "std_new1['FATHER_HI_EDU_CD'].isnull().sum()"
   ]
  },
  {
   "cell_type": "code",
   "execution_count": 92,
   "metadata": {},
   "outputs": [],
   "source": [
    "std_new1['MOTHER_HI_EDU_CD'].fillna(2.57,inplace=True)"
   ]
  },
  {
   "cell_type": "code",
   "execution_count": 93,
   "metadata": {},
   "outputs": [
    {
     "data": {
      "text/plain": [
       "0"
      ]
     },
     "execution_count": 93,
     "metadata": {},
     "output_type": "execute_result"
    }
   ],
   "source": [
    "std_new1['FIRST_TERM_EARNED_HRS'].isnull().sum()"
   ]
  },
  {
   "cell_type": "code",
   "execution_count": 94,
   "metadata": {},
   "outputs": [
    {
     "data": {
      "text/plain": [
       "209"
      ]
     },
     "execution_count": 94,
     "metadata": {},
     "output_type": "execute_result"
    }
   ],
   "source": [
    "std_new1['SECOND_TERM_EARNED_HRS'].isnull().sum()"
   ]
  },
  {
   "cell_type": "code",
   "execution_count": 95,
   "metadata": {},
   "outputs": [],
   "source": [
    "std_new1['SECOND_TERM_EARNED_HRS'].fillna(std_new1['SECOND_TERM_EARNED_HRS'].mean(),inplace=True)"
   ]
  },
  {
   "cell_type": "code",
   "execution_count": 96,
   "metadata": {},
   "outputs": [
    {
     "data": {
      "text/plain": [
       "0"
      ]
     },
     "execution_count": 96,
     "metadata": {},
     "output_type": "execute_result"
    }
   ],
   "source": [
    "std_new1['HIGH_SCHL_GPA'].isnull().sum()"
   ]
  },
  {
   "cell_type": "code",
   "execution_count": 97,
   "metadata": {},
   "outputs": [
    {
     "data": {
      "text/plain": [
       "RETURNED_2ND_YR                              0\n",
       "GROSS_FIN_NEED                               0\n",
       "COST_OF_ATTEND                               0\n",
       "EST_FAM_CONTRIBUTION                         0\n",
       "DISTANCE_FROM_HOME                           0\n",
       "UNMET_NEED                                   0\n",
       "STDNT_GENDER                                 0\n",
       "HOUSING_STS                                  0\n",
       "HIGH_SCHL_GPA                                0\n",
       "FATHER_HI_EDU_CD                             0\n",
       "MOTHER_HI_EDU_CD                             0\n",
       "IN_STATE_FLAG                                0\n",
       "FIRST_TERM_EARNED_HRS                        0\n",
       "SECOND_TERM_EARNED_HRS                       0\n",
       "STDNT_MAJOR_Applied Computer Science         0\n",
       "STDNT_MAJOR_Art                              0\n",
       "STDNT_MAJOR_Art Education                    0\n",
       "STDNT_MAJOR_Biology                          0\n",
       "STDNT_MAJOR_Biology and Secondary Ed         0\n",
       "STDNT_MAJOR_Chemistry                        0\n",
       "STDNT_MAJOR_Chemistry and Secondary Ed       0\n",
       "STDNT_MAJOR_Communication                    0\n",
       "STDNT_MAJOR_Computer Science - Games         0\n",
       "STDNT_MAJOR_Computer Science - Systems       0\n",
       "STDNT_MAJOR_Criminal Justice                 0\n",
       "STDNT_MAJOR_Early Admission - Accel          0\n",
       "STDNT_MAJOR_Early Childhood Education        0\n",
       "STDNT_MAJOR_Earth and Space Science          0\n",
       "STDNT_MAJOR_Engineering Studies              0\n",
       "STDNT_MAJOR_English Language/Literature      0\n",
       "                                            ..\n",
       "STDNT_MINOR_Chemistry                        0\n",
       "STDNT_MINOR_Communication                    0\n",
       "STDNT_MINOR_Computer Info. Management        0\n",
       "STDNT_MINOR_Computer Science - Systems       0\n",
       "STDNT_MINOR_Creative Writing                 0\n",
       "STDNT_MINOR_Criminal Justice                 0\n",
       "STDNT_MINOR_Early Childhood Education        0\n",
       "STDNT_MINOR_Economics                        0\n",
       "STDNT_MINOR_English Language/Literature      0\n",
       "STDNT_MINOR_Exercise Science                 0\n",
       "STDNT_MINOR_Finance                          0\n",
       "STDNT_MINOR_Foundations of Business          0\n",
       "STDNT_MINOR_French                           0\n",
       "STDNT_MINOR_Health Science                   0\n",
       "STDNT_MINOR_History                          0\n",
       "STDNT_MINOR_International Business           0\n",
       "STDNT_MINOR_Management                       0\n",
       "STDNT_MINOR_Marketing                        0\n",
       "STDNT_MINOR_Mathematics                      0\n",
       "STDNT_MINOR_Military Sci & Adv Leadership    0\n",
       "STDNT_MINOR_Music                            0\n",
       "STDNT_MINOR_N                                0\n",
       "STDNT_MINOR_Philosophy                       0\n",
       "STDNT_MINOR_Political Science                0\n",
       "STDNT_MINOR_Professional Writing             0\n",
       "STDNT_MINOR_Psychology                       0\n",
       "STDNT_MINOR_Sociology                        0\n",
       "STDNT_MINOR_Spanish                          0\n",
       "STDNT_MINOR_Theatre Arts                     0\n",
       "STDNT_MINOR_Women's Studies                  0\n",
       "Length: 103, dtype: int64"
      ]
     },
     "execution_count": 97,
     "metadata": {},
     "output_type": "execute_result"
    }
   ],
   "source": [
    "std_new1.isnull().sum()"
   ]
  },
  {
   "cell_type": "code",
   "execution_count": 98,
   "metadata": {},
   "outputs": [
    {
     "data": {
      "text/plain": [
       "(3400, 103)"
      ]
     },
     "execution_count": 98,
     "metadata": {},
     "output_type": "execute_result"
    }
   ],
   "source": [
    "std_new1.shape"
   ]
  },
  {
   "cell_type": "markdown",
   "metadata": {},
   "source": [
    "# Splitting data into training and testing sets\n",
    "Prior to implementating or applying any Machine Learning algorithms, we must decouple training and testing datasets from our master dataframe."
   ]
  },
  {
   "cell_type": "markdown",
   "metadata": {},
   "source": [
    "The data we use is usually split into training data and test data. \n",
    "The training set contains a known output and the model learns on this data in order to be generalized to other data later on.\n",
    "We have the test dataset (or subset) in order to test our model's prediction on this subset .\n",
    "Train/test is used to measure the accuracy of model\n"
   ]
  },
  {
   "cell_type": "code",
   "execution_count": 99,
   "metadata": {},
   "outputs": [],
   "source": [
    "X=std_new1.drop(\"RETURNED_2ND_YR\",axis=1)"
   ]
  },
  {
   "cell_type": "code",
   "execution_count": 100,
   "metadata": {},
   "outputs": [],
   "source": [
    "y=std_new1['RETURNED_2ND_YR']"
   ]
  },
  {
   "cell_type": "code",
   "execution_count": 101,
   "metadata": {},
   "outputs": [
    {
     "data": {
      "text/html": [
       "<div>\n",
       "<style scoped>\n",
       "    .dataframe tbody tr th:only-of-type {\n",
       "        vertical-align: middle;\n",
       "    }\n",
       "\n",
       "    .dataframe tbody tr th {\n",
       "        vertical-align: top;\n",
       "    }\n",
       "\n",
       "    .dataframe thead th {\n",
       "        text-align: right;\n",
       "    }\n",
       "</style>\n",
       "<table border=\"1\" class=\"dataframe\">\n",
       "  <thead>\n",
       "    <tr style=\"text-align: right;\">\n",
       "      <th></th>\n",
       "      <th>GROSS_FIN_NEED</th>\n",
       "      <th>COST_OF_ATTEND</th>\n",
       "      <th>EST_FAM_CONTRIBUTION</th>\n",
       "      <th>DISTANCE_FROM_HOME</th>\n",
       "      <th>UNMET_NEED</th>\n",
       "      <th>STDNT_GENDER</th>\n",
       "      <th>HOUSING_STS</th>\n",
       "      <th>HIGH_SCHL_GPA</th>\n",
       "      <th>FATHER_HI_EDU_CD</th>\n",
       "      <th>MOTHER_HI_EDU_CD</th>\n",
       "      <th>...</th>\n",
       "      <th>STDNT_MINOR_Music</th>\n",
       "      <th>STDNT_MINOR_N</th>\n",
       "      <th>STDNT_MINOR_Philosophy</th>\n",
       "      <th>STDNT_MINOR_Political Science</th>\n",
       "      <th>STDNT_MINOR_Professional Writing</th>\n",
       "      <th>STDNT_MINOR_Psychology</th>\n",
       "      <th>STDNT_MINOR_Sociology</th>\n",
       "      <th>STDNT_MINOR_Spanish</th>\n",
       "      <th>STDNT_MINOR_Theatre Arts</th>\n",
       "      <th>STDNT_MINOR_Women's Studies</th>\n",
       "    </tr>\n",
       "  </thead>\n",
       "  <tbody>\n",
       "    <tr>\n",
       "      <th>0</th>\n",
       "      <td>0</td>\n",
       "      <td>0</td>\n",
       "      <td>0</td>\n",
       "      <td>150.0</td>\n",
       "      <td>0.0</td>\n",
       "      <td>0</td>\n",
       "      <td>1</td>\n",
       "      <td>4.00</td>\n",
       "      <td>2.56</td>\n",
       "      <td>2.57</td>\n",
       "      <td>...</td>\n",
       "      <td>0</td>\n",
       "      <td>1</td>\n",
       "      <td>0</td>\n",
       "      <td>0</td>\n",
       "      <td>0</td>\n",
       "      <td>0</td>\n",
       "      <td>0</td>\n",
       "      <td>0</td>\n",
       "      <td>0</td>\n",
       "      <td>0</td>\n",
       "    </tr>\n",
       "    <tr>\n",
       "      <th>1</th>\n",
       "      <td>570000</td>\n",
       "      <td>1355760</td>\n",
       "      <td>785760</td>\n",
       "      <td>69.0</td>\n",
       "      <td>459300.0</td>\n",
       "      <td>0</td>\n",
       "      <td>0</td>\n",
       "      <td>2.89</td>\n",
       "      <td>3.00</td>\n",
       "      <td>3.00</td>\n",
       "      <td>...</td>\n",
       "      <td>0</td>\n",
       "      <td>1</td>\n",
       "      <td>0</td>\n",
       "      <td>0</td>\n",
       "      <td>0</td>\n",
       "      <td>0</td>\n",
       "      <td>0</td>\n",
       "      <td>0</td>\n",
       "      <td>0</td>\n",
       "      <td>0</td>\n",
       "    </tr>\n",
       "    <tr>\n",
       "      <th>2</th>\n",
       "      <td>0</td>\n",
       "      <td>0</td>\n",
       "      <td>0</td>\n",
       "      <td>150.0</td>\n",
       "      <td>0.0</td>\n",
       "      <td>1</td>\n",
       "      <td>1</td>\n",
       "      <td>3.39</td>\n",
       "      <td>2.00</td>\n",
       "      <td>4.00</td>\n",
       "      <td>...</td>\n",
       "      <td>0</td>\n",
       "      <td>1</td>\n",
       "      <td>0</td>\n",
       "      <td>0</td>\n",
       "      <td>0</td>\n",
       "      <td>0</td>\n",
       "      <td>0</td>\n",
       "      <td>0</td>\n",
       "      <td>0</td>\n",
       "      <td>0</td>\n",
       "    </tr>\n",
       "    <tr>\n",
       "      <th>3</th>\n",
       "      <td>0</td>\n",
       "      <td>0</td>\n",
       "      <td>0</td>\n",
       "      <td>150.0</td>\n",
       "      <td>0.0</td>\n",
       "      <td>1</td>\n",
       "      <td>1</td>\n",
       "      <td>2.93</td>\n",
       "      <td>3.00</td>\n",
       "      <td>3.00</td>\n",
       "      <td>...</td>\n",
       "      <td>0</td>\n",
       "      <td>1</td>\n",
       "      <td>0</td>\n",
       "      <td>0</td>\n",
       "      <td>0</td>\n",
       "      <td>0</td>\n",
       "      <td>0</td>\n",
       "      <td>0</td>\n",
       "      <td>0</td>\n",
       "      <td>0</td>\n",
       "    </tr>\n",
       "    <tr>\n",
       "      <th>4</th>\n",
       "      <td>835920</td>\n",
       "      <td>1355760</td>\n",
       "      <td>519840</td>\n",
       "      <td>69.0</td>\n",
       "      <td>278340.0</td>\n",
       "      <td>0</td>\n",
       "      <td>0</td>\n",
       "      <td>3.86</td>\n",
       "      <td>3.00</td>\n",
       "      <td>2.00</td>\n",
       "      <td>...</td>\n",
       "      <td>0</td>\n",
       "      <td>1</td>\n",
       "      <td>0</td>\n",
       "      <td>0</td>\n",
       "      <td>0</td>\n",
       "      <td>0</td>\n",
       "      <td>0</td>\n",
       "      <td>0</td>\n",
       "      <td>0</td>\n",
       "      <td>0</td>\n",
       "    </tr>\n",
       "  </tbody>\n",
       "</table>\n",
       "<p>5 rows × 102 columns</p>\n",
       "</div>"
      ],
      "text/plain": [
       "   GROSS_FIN_NEED  COST_OF_ATTEND  EST_FAM_CONTRIBUTION  DISTANCE_FROM_HOME  \\\n",
       "0               0               0                     0               150.0   \n",
       "1          570000         1355760                785760                69.0   \n",
       "2               0               0                     0               150.0   \n",
       "3               0               0                     0               150.0   \n",
       "4          835920         1355760                519840                69.0   \n",
       "\n",
       "   UNMET_NEED  STDNT_GENDER  HOUSING_STS  HIGH_SCHL_GPA  FATHER_HI_EDU_CD  \\\n",
       "0         0.0             0            1           4.00              2.56   \n",
       "1    459300.0             0            0           2.89              3.00   \n",
       "2         0.0             1            1           3.39              2.00   \n",
       "3         0.0             1            1           2.93              3.00   \n",
       "4    278340.0             0            0           3.86              3.00   \n",
       "\n",
       "   MOTHER_HI_EDU_CD  ...  STDNT_MINOR_Music  STDNT_MINOR_N  \\\n",
       "0              2.57  ...                  0              1   \n",
       "1              3.00  ...                  0              1   \n",
       "2              4.00  ...                  0              1   \n",
       "3              3.00  ...                  0              1   \n",
       "4              2.00  ...                  0              1   \n",
       "\n",
       "   STDNT_MINOR_Philosophy  STDNT_MINOR_Political Science  \\\n",
       "0                       0                              0   \n",
       "1                       0                              0   \n",
       "2                       0                              0   \n",
       "3                       0                              0   \n",
       "4                       0                              0   \n",
       "\n",
       "   STDNT_MINOR_Professional Writing  STDNT_MINOR_Psychology  \\\n",
       "0                                 0                       0   \n",
       "1                                 0                       0   \n",
       "2                                 0                       0   \n",
       "3                                 0                       0   \n",
       "4                                 0                       0   \n",
       "\n",
       "   STDNT_MINOR_Sociology  STDNT_MINOR_Spanish  STDNT_MINOR_Theatre Arts  \\\n",
       "0                      0                    0                         0   \n",
       "1                      0                    0                         0   \n",
       "2                      0                    0                         0   \n",
       "3                      0                    0                         0   \n",
       "4                      0                    0                         0   \n",
       "\n",
       "   STDNT_MINOR_Women's Studies  \n",
       "0                            0  \n",
       "1                            0  \n",
       "2                            0  \n",
       "3                            0  \n",
       "4                            0  \n",
       "\n",
       "[5 rows x 102 columns]"
      ]
     },
     "execution_count": 101,
     "metadata": {},
     "output_type": "execute_result"
    }
   ],
   "source": [
    "X.head()"
   ]
  },
  {
   "cell_type": "code",
   "execution_count": 102,
   "metadata": {},
   "outputs": [
    {
     "data": {
      "text/plain": [
       "0    1\n",
       "1    0\n",
       "2    0\n",
       "3    0\n",
       "4    0\n",
       "Name: RETURNED_2ND_YR, dtype: int64"
      ]
     },
     "execution_count": 102,
     "metadata": {},
     "output_type": "execute_result"
    }
   ],
   "source": [
    "y.head()"
   ]
  },
  {
   "cell_type": "code",
   "execution_count": 103,
   "metadata": {},
   "outputs": [],
   "source": [
    "from sklearn.model_selection import train_test_split"
   ]
  },
  {
   "cell_type": "code",
   "execution_count": 104,
   "metadata": {},
   "outputs": [],
   "source": [
    "# train and test are used to simulate the entire data..which will be used for building model for prediction\n",
    "X_train,X_test,y_train,y_test=train_test_split(X,y,test_size=0.30,random_state=7)"
   ]
  },
  {
   "cell_type": "code",
   "execution_count": 105,
   "metadata": {},
   "outputs": [
    {
     "data": {
      "text/html": [
       "<div>\n",
       "<style scoped>\n",
       "    .dataframe tbody tr th:only-of-type {\n",
       "        vertical-align: middle;\n",
       "    }\n",
       "\n",
       "    .dataframe tbody tr th {\n",
       "        vertical-align: top;\n",
       "    }\n",
       "\n",
       "    .dataframe thead th {\n",
       "        text-align: right;\n",
       "    }\n",
       "</style>\n",
       "<table border=\"1\" class=\"dataframe\">\n",
       "  <thead>\n",
       "    <tr style=\"text-align: right;\">\n",
       "      <th></th>\n",
       "      <th>GROSS_FIN_NEED</th>\n",
       "      <th>COST_OF_ATTEND</th>\n",
       "      <th>EST_FAM_CONTRIBUTION</th>\n",
       "      <th>DISTANCE_FROM_HOME</th>\n",
       "      <th>UNMET_NEED</th>\n",
       "      <th>STDNT_GENDER</th>\n",
       "      <th>HOUSING_STS</th>\n",
       "      <th>HIGH_SCHL_GPA</th>\n",
       "      <th>FATHER_HI_EDU_CD</th>\n",
       "      <th>MOTHER_HI_EDU_CD</th>\n",
       "      <th>...</th>\n",
       "      <th>STDNT_MINOR_Music</th>\n",
       "      <th>STDNT_MINOR_N</th>\n",
       "      <th>STDNT_MINOR_Philosophy</th>\n",
       "      <th>STDNT_MINOR_Political Science</th>\n",
       "      <th>STDNT_MINOR_Professional Writing</th>\n",
       "      <th>STDNT_MINOR_Psychology</th>\n",
       "      <th>STDNT_MINOR_Sociology</th>\n",
       "      <th>STDNT_MINOR_Spanish</th>\n",
       "      <th>STDNT_MINOR_Theatre Arts</th>\n",
       "      <th>STDNT_MINOR_Women's Studies</th>\n",
       "    </tr>\n",
       "  </thead>\n",
       "  <tbody>\n",
       "    <tr>\n",
       "      <th>2837</th>\n",
       "      <td>0</td>\n",
       "      <td>269100</td>\n",
       "      <td>0</td>\n",
       "      <td>0.0</td>\n",
       "      <td>-231720.0</td>\n",
       "      <td>0</td>\n",
       "      <td>1</td>\n",
       "      <td>3.64</td>\n",
       "      <td>4.00</td>\n",
       "      <td>2.00</td>\n",
       "      <td>...</td>\n",
       "      <td>0</td>\n",
       "      <td>1</td>\n",
       "      <td>0</td>\n",
       "      <td>0</td>\n",
       "      <td>0</td>\n",
       "      <td>0</td>\n",
       "      <td>0</td>\n",
       "      <td>0</td>\n",
       "      <td>0</td>\n",
       "      <td>0</td>\n",
       "    </tr>\n",
       "    <tr>\n",
       "      <th>2337</th>\n",
       "      <td>1409460</td>\n",
       "      <td>1409460</td>\n",
       "      <td>0</td>\n",
       "      <td>0.0</td>\n",
       "      <td>461760.0</td>\n",
       "      <td>0</td>\n",
       "      <td>0</td>\n",
       "      <td>3.13</td>\n",
       "      <td>2.00</td>\n",
       "      <td>2.00</td>\n",
       "      <td>...</td>\n",
       "      <td>0</td>\n",
       "      <td>1</td>\n",
       "      <td>0</td>\n",
       "      <td>0</td>\n",
       "      <td>0</td>\n",
       "      <td>0</td>\n",
       "      <td>0</td>\n",
       "      <td>0</td>\n",
       "      <td>0</td>\n",
       "      <td>0</td>\n",
       "    </tr>\n",
       "    <tr>\n",
       "      <th>262</th>\n",
       "      <td>0</td>\n",
       "      <td>326880</td>\n",
       "      <td>0</td>\n",
       "      <td>0.0</td>\n",
       "      <td>-356880.0</td>\n",
       "      <td>1</td>\n",
       "      <td>0</td>\n",
       "      <td>3.73</td>\n",
       "      <td>2.56</td>\n",
       "      <td>2.57</td>\n",
       "      <td>...</td>\n",
       "      <td>0</td>\n",
       "      <td>1</td>\n",
       "      <td>0</td>\n",
       "      <td>0</td>\n",
       "      <td>0</td>\n",
       "      <td>0</td>\n",
       "      <td>0</td>\n",
       "      <td>0</td>\n",
       "      <td>0</td>\n",
       "      <td>0</td>\n",
       "    </tr>\n",
       "    <tr>\n",
       "      <th>524</th>\n",
       "      <td>0</td>\n",
       "      <td>0</td>\n",
       "      <td>0</td>\n",
       "      <td>0.0</td>\n",
       "      <td>0.0</td>\n",
       "      <td>0</td>\n",
       "      <td>1</td>\n",
       "      <td>2.61</td>\n",
       "      <td>3.00</td>\n",
       "      <td>2.57</td>\n",
       "      <td>...</td>\n",
       "      <td>0</td>\n",
       "      <td>1</td>\n",
       "      <td>0</td>\n",
       "      <td>0</td>\n",
       "      <td>0</td>\n",
       "      <td>0</td>\n",
       "      <td>0</td>\n",
       "      <td>0</td>\n",
       "      <td>0</td>\n",
       "      <td>0</td>\n",
       "    </tr>\n",
       "    <tr>\n",
       "      <th>864</th>\n",
       "      <td>0</td>\n",
       "      <td>0</td>\n",
       "      <td>0</td>\n",
       "      <td>69.0</td>\n",
       "      <td>0.0</td>\n",
       "      <td>0</td>\n",
       "      <td>0</td>\n",
       "      <td>3.30</td>\n",
       "      <td>2.00</td>\n",
       "      <td>2.00</td>\n",
       "      <td>...</td>\n",
       "      <td>0</td>\n",
       "      <td>1</td>\n",
       "      <td>0</td>\n",
       "      <td>0</td>\n",
       "      <td>0</td>\n",
       "      <td>0</td>\n",
       "      <td>0</td>\n",
       "      <td>0</td>\n",
       "      <td>0</td>\n",
       "      <td>0</td>\n",
       "    </tr>\n",
       "  </tbody>\n",
       "</table>\n",
       "<p>5 rows × 102 columns</p>\n",
       "</div>"
      ],
      "text/plain": [
       "      GROSS_FIN_NEED  COST_OF_ATTEND  EST_FAM_CONTRIBUTION  \\\n",
       "2837               0          269100                     0   \n",
       "2337         1409460         1409460                     0   \n",
       "262                0          326880                     0   \n",
       "524                0               0                     0   \n",
       "864                0               0                     0   \n",
       "\n",
       "      DISTANCE_FROM_HOME  UNMET_NEED  STDNT_GENDER  HOUSING_STS  \\\n",
       "2837                 0.0   -231720.0             0            1   \n",
       "2337                 0.0    461760.0             0            0   \n",
       "262                  0.0   -356880.0             1            0   \n",
       "524                  0.0         0.0             0            1   \n",
       "864                 69.0         0.0             0            0   \n",
       "\n",
       "      HIGH_SCHL_GPA  FATHER_HI_EDU_CD  MOTHER_HI_EDU_CD  ...  \\\n",
       "2837           3.64              4.00              2.00  ...   \n",
       "2337           3.13              2.00              2.00  ...   \n",
       "262            3.73              2.56              2.57  ...   \n",
       "524            2.61              3.00              2.57  ...   \n",
       "864            3.30              2.00              2.00  ...   \n",
       "\n",
       "      STDNT_MINOR_Music  STDNT_MINOR_N  STDNT_MINOR_Philosophy  \\\n",
       "2837                  0              1                       0   \n",
       "2337                  0              1                       0   \n",
       "262                   0              1                       0   \n",
       "524                   0              1                       0   \n",
       "864                   0              1                       0   \n",
       "\n",
       "      STDNT_MINOR_Political Science  STDNT_MINOR_Professional Writing  \\\n",
       "2837                              0                                 0   \n",
       "2337                              0                                 0   \n",
       "262                               0                                 0   \n",
       "524                               0                                 0   \n",
       "864                               0                                 0   \n",
       "\n",
       "      STDNT_MINOR_Psychology  STDNT_MINOR_Sociology  STDNT_MINOR_Spanish  \\\n",
       "2837                       0                      0                    0   \n",
       "2337                       0                      0                    0   \n",
       "262                        0                      0                    0   \n",
       "524                        0                      0                    0   \n",
       "864                        0                      0                    0   \n",
       "\n",
       "      STDNT_MINOR_Theatre Arts  STDNT_MINOR_Women's Studies  \n",
       "2837                         0                            0  \n",
       "2337                         0                            0  \n",
       "262                          0                            0  \n",
       "524                          0                            0  \n",
       "864                          0                            0  \n",
       "\n",
       "[5 rows x 102 columns]"
      ]
     },
     "execution_count": 105,
     "metadata": {},
     "output_type": "execute_result"
    }
   ],
   "source": [
    "X_train.head()"
   ]
  },
  {
   "cell_type": "markdown",
   "metadata": {},
   "source": [
    "# Building Machine Learning Models\n",
    "Baseline Algorithms\n",
    "Let's first use a range of baseline algorithms (using out-of-the-box hyper-parameters) before we move on to more sophisticated solutions. The algorithms considered in this section are: Logistic Regression, Random Forest, Decision Tree Classifier, XGboost"
   ]
  },
  {
   "cell_type": "code",
   "execution_count": 106,
   "metadata": {},
   "outputs": [],
   "source": [
    "from sklearn.preprocessing import OneHotEncoder, LabelEncoder\n",
    "# from imblearn.over_sampling import SMOTE  # SMOTE\n",
    "# sklearn modules for ML model selection\n",
    "from sklearn.model_selection import train_test_split  # import 'train_test_split'\n",
    "from sklearn.model_selection import GridSearchCV\n",
    "from sklearn.model_selection import RandomizedSearchCV\n",
    "from sklearn.model_selection import ShuffleSplit\n",
    "from sklearn.model_selection import KFold\n",
    "from sklearn.model_selection import cross_val_score\n",
    "import xgboost as XG\n",
    "\n",
    "# Libraries for data modelling\n",
    "from sklearn import svm, tree, linear_model, neighbors\n",
    "from sklearn import naive_bayes, ensemble, discriminant_analysis, gaussian_process\n",
    "from sklearn.linear_model import LogisticRegression\n",
    "from sklearn.tree import DecisionTreeClassifier\n",
    "#from sklearn.neighbors import KNeighborsClassifier\n",
    "#from sklearn.discriminant_analysis import LinearDiscriminantAnalysis\n",
    "#from sklearn.naive_bayes import GaussianNB\n",
    "#from sklearn.svm import SVC\n",
    "from xgboost import XGBClassifier\n",
    "from sklearn.ensemble import RandomForestClassifier\n",
    "\n",
    "# Common sklearn Model Helpers\n",
    "from sklearn import feature_selection\n",
    "from sklearn import model_selection\n",
    "from sklearn import metrics\n",
    "# from sklearn.datasets import make_classification\n",
    "\n",
    "# sklearn modules for performance metrics\n",
    "from sklearn.metrics import confusion_matrix, classification_report, precision_recall_curve\n",
    "from sklearn.metrics import auc, roc_auc_score, roc_curve, recall_score, log_loss\n",
    "from sklearn.metrics import f1_score, accuracy_score, roc_auc_score, make_scorer\n",
    "from sklearn.metrics import average_precision_score"
   ]
  },
  {
   "cell_type": "code",
   "execution_count": 107,
   "metadata": {},
   "outputs": [
    {
     "name": "stdout",
     "output_type": "stream",
     "text": [
      "Requirement already satisfied: xgboost in c:\\users\\acer\\anaconda3\\lib\\site-packages (1.0.2)\n",
      "Requirement already satisfied: scipy in c:\\users\\acer\\anaconda3\\lib\\site-packages (from xgboost) (1.2.1)\n",
      "Requirement already satisfied: numpy in c:\\users\\acer\\anaconda3\\lib\\site-packages (from xgboost) (1.16.4)\n"
     ]
    }
   ],
   "source": [
    "!pip install xgboost"
   ]
  },
  {
   "cell_type": "code",
   "execution_count": 108,
   "metadata": {},
   "outputs": [],
   "source": [
    "import xgboost as XG"
   ]
  },
  {
   "cell_type": "code",
   "execution_count": 109,
   "metadata": {},
   "outputs": [],
   "source": [
    "# selection of algorithms to consider and set performance measure\n",
    "models = []\n",
    "models.append(('Logistic Regression', LogisticRegression(solver='liblinear', random_state=7,\n",
    "                                                         class_weight='balanced')))\n",
    "models.append(('Random Forest', RandomForestClassifier(\n",
    "    n_estimators=100, random_state=7)))\n",
    "models.append(('Decision Tree Classifier',\n",
    "               DecisionTreeClassifier(random_state=7)))\n",
    "models.append(('xgboost',\n",
    "               XGBClassifier(random_state=7)))"
   ]
  },
  {
   "cell_type": "code",
   "execution_count": 110,
   "metadata": {},
   "outputs": [],
   "source": [
    "import pandas as pd"
   ]
  },
  {
   "cell_type": "code",
   "execution_count": 111,
   "metadata": {},
   "outputs": [
    {
     "data": {
      "text/html": [
       "<div>\n",
       "<style scoped>\n",
       "    .dataframe tbody tr th:only-of-type {\n",
       "        vertical-align: middle;\n",
       "    }\n",
       "\n",
       "    .dataframe tbody tr th {\n",
       "        vertical-align: top;\n",
       "    }\n",
       "\n",
       "    .dataframe thead th {\n",
       "        text-align: right;\n",
       "    }\n",
       "</style>\n",
       "<table border=\"1\" class=\"dataframe\">\n",
       "  <thead>\n",
       "    <tr style=\"text-align: right;\">\n",
       "      <th></th>\n",
       "      <th>Algorithm</th>\n",
       "      <th>ROC AUC Mean</th>\n",
       "      <th>ROC AUC STD</th>\n",
       "      <th>Accuracy Mean</th>\n",
       "      <th>Accuracy STD</th>\n",
       "    </tr>\n",
       "  </thead>\n",
       "  <tbody>\n",
       "    <tr>\n",
       "      <th>3</th>\n",
       "      <td>xgboost</td>\n",
       "      <td>68.95</td>\n",
       "      <td>5.30</td>\n",
       "      <td>80.84</td>\n",
       "      <td>1.85</td>\n",
       "    </tr>\n",
       "    <tr>\n",
       "      <th>1</th>\n",
       "      <td>Random Forest</td>\n",
       "      <td>68.43</td>\n",
       "      <td>4.14</td>\n",
       "      <td>81.30</td>\n",
       "      <td>1.76</td>\n",
       "    </tr>\n",
       "    <tr>\n",
       "      <th>2</th>\n",
       "      <td>Decision Tree Classifier</td>\n",
       "      <td>61.77</td>\n",
       "      <td>3.26</td>\n",
       "      <td>73.07</td>\n",
       "      <td>2.45</td>\n",
       "    </tr>\n",
       "    <tr>\n",
       "      <th>0</th>\n",
       "      <td>Logistic Regression</td>\n",
       "      <td>55.23</td>\n",
       "      <td>4.75</td>\n",
       "      <td>59.79</td>\n",
       "      <td>7.82</td>\n",
       "    </tr>\n",
       "  </tbody>\n",
       "</table>\n",
       "</div>"
      ],
      "text/plain": [
       "                  Algorithm  ROC AUC Mean  ROC AUC STD  Accuracy Mean  \\\n",
       "3                   xgboost         68.95         5.30          80.84   \n",
       "1             Random Forest         68.43         4.14          81.30   \n",
       "2  Decision Tree Classifier         61.77         3.26          73.07   \n",
       "0       Logistic Regression         55.23         4.75          59.79   \n",
       "\n",
       "   Accuracy STD  \n",
       "3          1.85  \n",
       "1          1.76  \n",
       "2          2.45  \n",
       "0          7.82  "
      ]
     },
     "execution_count": 111,
     "metadata": {},
     "output_type": "execute_result"
    }
   ],
   "source": [
    "acc_results = []\n",
    "auc_results = []\n",
    "names = []\n",
    "# set table to table to populate with performance results\n",
    "col = ['Algorithm', 'ROC AUC Mean', 'ROC AUC STD', \n",
    "       'Accuracy Mean', 'Accuracy STD']\n",
    "df_results = pd.DataFrame(columns=col)\n",
    "i = 0\n",
    "# evaluate each model using cross-validation\n",
    "for name, model in models:\n",
    "    kfold = model_selection.KFold(\n",
    "        n_splits=10, random_state=7)  # 10-fold cross-validation\n",
    "\n",
    "    cv_acc_results = model_selection.cross_val_score(  # accuracy scoring\n",
    "        model, X_train, y_train, cv=kfold, scoring='accuracy')\n",
    "\n",
    "    cv_auc_results = model_selection.cross_val_score(  # roc_auc scoring\n",
    "        model, X_train, y_train, cv=kfold, scoring='roc_auc')\n",
    "\n",
    "    acc_results.append(cv_acc_results)\n",
    "    auc_results.append(cv_auc_results)\n",
    "    names.append(name)\n",
    "    df_results.loc[i] = [name,\n",
    "                         round(cv_auc_results.mean()*100, 2),\n",
    "                         round(cv_auc_results.std()*100, 2),\n",
    "                         round(cv_acc_results.mean()*100, 2),\n",
    "                         round(cv_acc_results.std()*100, 2)\n",
    "                         ]\n",
    "    i += 1\n",
    "df_results.sort_values(by=['ROC AUC Mean'], ascending=False)"
   ]
  },
  {
   "cell_type": "markdown",
   "metadata": {},
   "source": [
    "Classification Accuracy is the number of correct predictions made as a ratio of all predictions made.\n",
    "It is the most common evaluation metric for classification problems. However, it is often misused as it is only really suitable when there are an equal number of observations in each class and all predictions and prediction errors are equally important. It is not the case in this project, so a different scoring metric may be more suitable.\n",
    "\n",
    "Using Scikit-Learn’s RandomizedSearchCV method, we can define a grid of hyperparameter ranges, and randomly sample from the grid, performing K-Fold CV with each combination of values.\n"
   ]
  },
  {
   "cell_type": "code",
   "execution_count": 112,
   "metadata": {},
   "outputs": [
    {
     "data": {
      "image/png": "[encoded data removed]",
      "text/plain": [
       "<Figure size 1080x504 with 1 Axes>"
      ]
     },
     "metadata": {},
     "output_type": "display_data"
    }
   ],
   "source": [
    "fig = plt.figure(figsize=(15,7))\n",
    "fig.suptitle('Algorithm Accuracy Comparison')\n",
    "ax = fig.add_subplot(111)\n",
    "plt.boxplot(acc_results)\n",
    "ax.set_xticklabels(names)\n",
    "plt.show()"
   ]
  },
  {
   "cell_type": "markdown",
   "metadata": {},
   "source": [
    "Above box plot for all modes shows the Accuracy comparison between each of them, Random forest and XGBOOST are at higher level, so selecting this 2 model for this case study for further analysis"
   ]
  },
  {
   "cell_type": "code",
   "execution_count": 113,
   "metadata": {
    "scrolled": true
   },
   "outputs": [
    {
     "data": {
      "image/png": "[encoded data removed]",
      "text/plain": [
       "<Figure size 1080x504 with 1 Axes>"
      ]
     },
     "metadata": {},
     "output_type": "display_data"
    }
   ],
   "source": [
    "fig = plt.figure(figsize=(15, 7))\n",
    "fig.suptitle('Algorithm ROC AUC Comparison')\n",
    "ax = fig.add_subplot(111)\n",
    "plt.boxplot(auc_results)\n",
    "ax.set_xticklabels(names)\n",
    "plt.show()"
   ]
  },
  {
   "cell_type": "raw",
   "metadata": {},
   "source": [
    "SMOTE for dealing with class imbalance"
   ]
  },
  {
   "cell_type": "code",
   "execution_count": 114,
   "metadata": {},
   "outputs": [],
   "source": [
    "from imblearn.over_sampling import SMOTE\n",
    "from collections import Counter"
   ]
  },
  {
   "cell_type": "code",
   "execution_count": 115,
   "metadata": {},
   "outputs": [],
   "source": [
    "SS = SMOTE()\n",
    "X, y = SS.fit_resample(X, y)"
   ]
  },
  {
   "cell_type": "code",
   "execution_count": 116,
   "metadata": {},
   "outputs": [
    {
     "name": "stdout",
     "output_type": "stream",
     "text": [
      "(5354, 102)\n",
      "(5354,)\n",
      "(3747, 102)\n",
      "(3747,)\n",
      "(1607, 102)\n",
      "(1607,)\n"
     ]
    }
   ],
   "source": [
    "X_train, X_test, y_train, y_test = train_test_split(X, y, test_size=0.3, random_state=7)\n",
    "print(X.shape)\n",
    "print(y.shape)\n",
    "print(X_train.shape)\n",
    "print(y_train.shape)\n",
    "print(X_test.shape)\n",
    "print(y_test.shape)"
   ]
  },
  {
   "cell_type": "code",
   "execution_count": 117,
   "metadata": {},
   "outputs": [],
   "source": [
    "## AUC score after SMOT"
   ]
  },
  {
   "cell_type": "code",
   "execution_count": 118,
   "metadata": {},
   "outputs": [
    {
     "data": {
      "text/html": [
       "<div>\n",
       "<style scoped>\n",
       "    .dataframe tbody tr th:only-of-type {\n",
       "        vertical-align: middle;\n",
       "    }\n",
       "\n",
       "    .dataframe tbody tr th {\n",
       "        vertical-align: top;\n",
       "    }\n",
       "\n",
       "    .dataframe thead th {\n",
       "        text-align: right;\n",
       "    }\n",
       "</style>\n",
       "<table border=\"1\" class=\"dataframe\">\n",
       "  <thead>\n",
       "    <tr style=\"text-align: right;\">\n",
       "      <th></th>\n",
       "      <th>Algorithm</th>\n",
       "      <th>ROC AUC Mean</th>\n",
       "      <th>ROC AUC STD</th>\n",
       "      <th>Accuracy Mean</th>\n",
       "      <th>Accuracy STD</th>\n",
       "    </tr>\n",
       "  </thead>\n",
       "  <tbody>\n",
       "    <tr>\n",
       "      <th>1</th>\n",
       "      <td>Random Forest</td>\n",
       "      <td>92.95</td>\n",
       "      <td>0.68</td>\n",
       "      <td>86.66</td>\n",
       "      <td>1.26</td>\n",
       "    </tr>\n",
       "    <tr>\n",
       "      <th>3</th>\n",
       "      <td>xgboost</td>\n",
       "      <td>92.38</td>\n",
       "      <td>1.29</td>\n",
       "      <td>87.32</td>\n",
       "      <td>1.25</td>\n",
       "    </tr>\n",
       "    <tr>\n",
       "      <th>2</th>\n",
       "      <td>Decision Tree Classifier</td>\n",
       "      <td>78.31</td>\n",
       "      <td>1.59</td>\n",
       "      <td>78.33</td>\n",
       "      <td>1.58</td>\n",
       "    </tr>\n",
       "    <tr>\n",
       "      <th>0</th>\n",
       "      <td>Logistic Regression</td>\n",
       "      <td>56.39</td>\n",
       "      <td>2.66</td>\n",
       "      <td>52.92</td>\n",
       "      <td>2.33</td>\n",
       "    </tr>\n",
       "  </tbody>\n",
       "</table>\n",
       "</div>"
      ],
      "text/plain": [
       "                  Algorithm  ROC AUC Mean  ROC AUC STD  Accuracy Mean  \\\n",
       "1             Random Forest         92.95         0.68          86.66   \n",
       "3                   xgboost         92.38         1.29          87.32   \n",
       "2  Decision Tree Classifier         78.31         1.59          78.33   \n",
       "0       Logistic Regression         56.39         2.66          52.92   \n",
       "\n",
       "   Accuracy STD  \n",
       "1          1.26  \n",
       "3          1.25  \n",
       "2          1.58  \n",
       "0          2.33  "
      ]
     },
     "execution_count": 118,
     "metadata": {},
     "output_type": "execute_result"
    }
   ],
   "source": [
    "acc_results = []\n",
    "auc_results = []\n",
    "names = []\n",
    "# set table to table to populate with performance results\n",
    "col = ['Algorithm', 'ROC AUC Mean', 'ROC AUC STD', \n",
    "       'Accuracy Mean', 'Accuracy STD']\n",
    "df_results = pd.DataFrame(columns=col)\n",
    "i = 0\n",
    "# evaluate each model using cross-validation\n",
    "for name, model in models:\n",
    "    kfold = model_selection.KFold(\n",
    "        n_splits=10, random_state=7)  # 10-fold cross-validation\n",
    "\n",
    "    cv_acc_results = model_selection.cross_val_score(  # accuracy scoring\n",
    "        model, X_train, y_train, cv=kfold, scoring='accuracy')\n",
    "\n",
    "    cv_auc_results = model_selection.cross_val_score(  # roc_auc scoring\n",
    "        model, X_train, y_train, cv=kfold, scoring='roc_auc')\n",
    "\n",
    "    acc_results.append(cv_acc_results)\n",
    "    auc_results.append(cv_auc_results)\n",
    "    names.append(name)\n",
    "    df_results.loc[i] = [name,\n",
    "                         round(cv_auc_results.mean()*100, 2),\n",
    "                         round(cv_auc_results.std()*100, 2),\n",
    "                         round(cv_acc_results.mean()*100, 2),\n",
    "                         round(cv_acc_results.std()*100, 2)\n",
    "                         ]\n",
    "    i += 1\n",
    "df_results.sort_values(by=['ROC AUC Mean'], ascending=False)"
   ]
  },
  {
   "cell_type": "markdown",
   "metadata": {},
   "source": [
    "Based on our ROC AUC comparison analysis, XGBoost and Random Forest show the highest mean AUC scores. We will shortlist these two algorithms for further analysis. See below for more details on these two algos."
   ]
  },
  {
   "cell_type": "markdown",
   "metadata": {},
   "source": [
    "Random Forest is a popular and versatile machine learning method that is capable of solving both regression and classification. Random Forest is a brand of Ensemble learning, as it relies on an ensemble of decision trees. It aggregates Classification (or Regression) Trees. A decision tree is composed of a series of decisions that can be used to classify an observation in a dataset.\n",
    "\n",
    "Random Forest fits a number of decision tree classifiers on various sub-samples of the dataset and use averaging to improve the predictive accuracy and control over-fitting. Random Forest can handle a large number of features, and is helpful for estimating which of your variables are important in the underlying data being modeled."
   ]
  },
  {
   "cell_type": "markdown",
   "metadata": {},
   "source": [
    "XGBoost is an implementation of gradient boosted decision trees designed for speed and performance that is dominative competitive machine learning.\n",
    "\n",
    "The two reasons to use XGBoost are also the two goals of the project:\n",
    "Execution Speed.\n",
    "Model Performance.\n",
    "1. XGBoost Execution Speed\n",
    "Generally, XGBoost is fast. Really fast when compared to other implementations of gradient boosting.\n",
    "2. XGBoost Model Performance\n",
    "XGBoost dominates structured or tabular datasets on classification and regression predictive modeling problems.\n",
    "\n",
    "The evidence is that it is the go-to algorithm for competition winners on the Kaggle competitive data science platform."
   ]
  },
  {
   "cell_type": "markdown",
   "metadata": {},
   "source": [
    "# Random Forest Classifier\n",
    "Let's take a closer look at using the Random Forest algorithm. I'll fine-tune the Random Forest algorithm's hyper-parameters by cross-validation against the AUC score."
   ]
  },
  {
   "cell_type": "code",
   "execution_count": 119,
   "metadata": {},
   "outputs": [
    {
     "name": "stdout",
     "output_type": "stream",
     "text": [
      "====================\n",
      "best params: RandomForestClassifier(class_weight='balanced', max_depth=25, n_estimators=125,\n",
      "                       random_state=7)\n",
      "best params: {'max_depth': 25, 'min_samples_leaf': 1, 'min_samples_split': 2, 'n_estimators': 125}\n",
      "best score: 0.9320845154145087\n",
      "====================\n"
     ]
    }
   ],
   "source": [
    "rf_classifier = RandomForestClassifier(class_weight = \"balanced\",\n",
    "                                       random_state=7)\n",
    "param_grid = {'n_estimators': [50, 75, 100, 125, 150, 175],\n",
    "              'min_samples_split':[2,4,6,8,10],\n",
    "              'min_samples_leaf': [1, 2, 3, 4],\n",
    "              'max_depth': [5, 10, 15, 20, 25]}\n",
    "\n",
    "grid_obj = GridSearchCV(rf_classifier,\n",
    "                        iid=True,\n",
    "                        return_train_score=True,\n",
    "                        param_grid=param_grid,\n",
    "                        scoring='roc_auc',\n",
    "                        cv=10)\n",
    "\n",
    "grid_fit = grid_obj.fit(X_train, y_train)\n",
    "rf_opt = grid_fit.best_estimator_\n",
    "\n",
    "print('='*20)\n",
    "print(\"best params: \" + str(grid_obj.best_estimator_))\n",
    "print(\"best params: \" + str(grid_obj.best_params_))\n",
    "print('best score:', grid_obj.best_score_)\n",
    "print('='*20)"
   ]
  },
  {
   "cell_type": "markdown",
   "metadata": {},
   "source": [
    "As shown above, the results from GridSearchCV provided us with fine-tuned hyper-parameter using ROC_AUC as the scoring metric\n",
    "\n",
    "Best score --0.93 shows the prediction accuracy for this model.\n",
    "It is achieved by performing Grid Search based on the estimators."
   ]
  },
  {
   "cell_type": "code",
   "execution_count": 121,
   "metadata": {},
   "outputs": [
    {
     "data": {
      "text/plain": [
       "(3747, 102)"
      ]
     },
     "execution_count": 121,
     "metadata": {},
     "output_type": "execute_result"
    }
   ],
   "source": [
    "X_train.shape"
   ]
  },
  {
   "cell_type": "code",
   "execution_count": 122,
   "metadata": {},
   "outputs": [
    {
     "data": {
      "text/plain": [
       "4966    11.378218\n",
       "652     14.000000\n",
       "4052    14.648473\n",
       "3145     7.000000\n",
       "3818    14.479254\n",
       "590     15.000000\n",
       "1458    12.000000\n",
       "3317    12.511125\n",
       "3825    12.511125\n",
       "2978    13.000000\n",
       "895     14.000000\n",
       "4251    11.000000\n",
       "3126    10.000000\n",
       "4630    12.511125\n",
       "4919    13.142833\n",
       "5099    11.119185\n",
       "127     12.000000\n",
       "117     14.000000\n",
       "2806    10.000000\n",
       "2936     3.000000\n",
       "4847     9.968759\n",
       "819     14.000000\n",
       "514     13.000000\n",
       "4237    12.887229\n",
       "4238    11.988040\n",
       "2026    15.000000\n",
       "4400     3.976926\n",
       "2883     3.000000\n",
       "5307     9.931836\n",
       "2790     6.000000\n",
       "          ...    \n",
       "4859    14.500468\n",
       "2997    12.000000\n",
       "4279    13.704048\n",
       "1176    12.000000\n",
       "3896    12.492119\n",
       "1349    14.000000\n",
       "3775     6.680290\n",
       "3116    13.000000\n",
       "3516    12.511125\n",
       "2298    13.000000\n",
       "2871     4.000000\n",
       "5195    12.529334\n",
       "391     14.000000\n",
       "1456    12.000000\n",
       "1092    12.000000\n",
       "3239    12.511125\n",
       "5000    19.963468\n",
       "2778     7.000000\n",
       "4462    13.117885\n",
       "4441    13.257795\n",
       "3656    12.511125\n",
       "2583    15.000000\n",
       "3257    12.511125\n",
       "1372    15.000000\n",
       "919     12.000000\n",
       "4307     9.515413\n",
       "2550    13.000000\n",
       "537     15.000000\n",
       "1220    14.000000\n",
       "4271    14.967262\n",
       "Name: SECOND_TERM_EARNED_HRS, Length: 3747, dtype: float64"
      ]
     },
     "execution_count": 122,
     "metadata": {},
     "output_type": "execute_result"
    }
   ],
   "source": [
    "X_train['SECOND_TERM_EARNED_HRS']"
   ]
  },
  {
   "cell_type": "code",
   "execution_count": 123,
   "metadata": {},
   "outputs": [
    {
     "data": {
      "image/png": "[encoded data removed]",
      "text/plain": [
       "<Figure size 2880x504 with 1 Axes>"
      ]
     },
     "metadata": {},
     "output_type": "display_data"
    }
   ],
   "source": [
    "importances = rf_opt.feature_importances_\n",
    "indices = np.argsort(importances)[::-1] # Sort feature importances in descending order\n",
    "names = [X_train.columns[i] for i in indices] # Rearrange feature names so they match the sorted feature importances\n",
    "#plt.figure(figsize=(10, 7))# Create plot\n",
    "plt.figure(figsize=(40, 7))\n",
    "plt.title(\"Feature Importance\") # Create plot title\n",
    "plt.bar(range(X_train.shape[1]), importances[indices]) # Add bars\n",
    "plt.xticks(range(X_train.shape[1]), names, rotation=90) # Add feature names as x-axis labels\n",
    "plt.show() # Show plot"
   ]
  },
  {
   "cell_type": "markdown",
   "metadata": {},
   "source": [
    "This feature improtance command shows-- Top 10 most important indicators (ranked in the table below) as:\n",
    "Second term earned hours, \n",
    "first term earned hours, \n",
    "Distance from home,\n",
    "Family contribution,\n",
    "cost of attend,\n",
    "Gross Financial needs\n",
    "Mother high edu CD\n",
    "Father High edu CD\n",
    "Students Gender\n",
    "Housing sts"
   ]
  },
  {
   "cell_type": "markdown",
   "metadata": {},
   "source": [
    "# EVALUATION"
   ]
  },
  {
   "cell_type": "code",
   "execution_count": 124,
   "metadata": {},
   "outputs": [
    {
     "data": {
      "text/plain": [
       "Text(0.5, 352.48, 'Predicted label')"
      ]
     },
     "execution_count": 124,
     "metadata": {},
     "output_type": "execute_result"
    },
    {
     "data": {
      "image/png": "[encoded data removed]",
      "text/plain": [
       "<Figure size 576x396 with 2 Axes>"
      ]
     },
     "metadata": {},
     "output_type": "display_data"
    }
   ],
   "source": [
    "## Confusion Matrix\n",
    "cnf_matrix = metrics.confusion_matrix(y_test, rf_opt.predict(X_test))\n",
    "class_names=[0,1] # name  of classes\n",
    "fig, ax = plt.subplots()\n",
    "tick_marks = np.arange(len(class_names))\n",
    "plt.xticks(tick_marks, class_names)\n",
    "plt.yticks(tick_marks, class_names)\n",
    "# create heatmap\n",
    "sns.heatmap(pd.DataFrame(cnf_matrix), annot=True, cmap=\"YlGnBu\" ,fmt='g')\n",
    "ax.xaxis.set_label_position(\"top\")\n",
    "plt.tight_layout()\n",
    "plt.title('Confusion matrix', y=1.1)\n",
    "plt.ylabel('Actual label')\n",
    "plt.xlabel('Predicted label')"
   ]
  },
  {
   "cell_type": "markdown",
   "metadata": {},
   "source": [
    "Confusion Matrix:\n",
    "A confusion matrix is a summary of prediction results on a classification problem. The number of correct and incorrect predictions are summarized with count values and broken down by each class. This is the key to the confusion matrix. The confusion matrix shows the ways in which your classification model is confused when it makes predictions. It gives us insight not only into the errors being made by a classifier but more importantly the types of errors that are being made.\n",
    "\n",
    "The confusion matrix is useful for giving you false positives and false negatives. The classification report tells you the accuracy of your model.\n",
    "Classification Rate/Accuracy:\n",
    "Accuracy = (TP + TN) / (TP + TN + FP + FN) = (669 + 737) /(669 + 737 + 68 + 143) = 0.87\n",
    "Recall: Recall gives us an idea about when it’s actually yes, how often does it predict yes.\n",
    "Recall = TP / (TP + FN) = 669 / (669 + 143) =0.82\n",
    "\n",
    "Precision: Precsion tells us about when it predicts yes, how often is it correct.\n",
    "Precision = TP / (TP + FP)=669/ (669+68) = 0.90\n",
    "\n",
    "F-measure:\n",
    "Fmeasure = (2 * Recall * Precision) / (Recall + Presision) = 2 *( 0.82 * 0.90) / (0.82 + 0.90) = 0.86"
   ]
  },
  {
   "cell_type": "code",
   "execution_count": 125,
   "metadata": {},
   "outputs": [
    {
     "name": "stdout",
     "output_type": "stream",
     "text": [
      "Accuracy of RandomForest Regression Classifier on test set: 86.87\n"
     ]
    }
   ],
   "source": [
    "print('Accuracy of RandomForest Regression Classifier on test set: {:.2f}'.format(rf_opt.score(X_test, y_test)*100))"
   ]
  },
  {
   "cell_type": "code",
   "execution_count": 126,
   "metadata": {},
   "outputs": [
    {
     "name": "stdout",
     "output_type": "stream",
     "text": [
      "              precision    recall  f1-score   support\n",
      "\n",
      "           0       0.84      0.92      0.87       805\n",
      "           1       0.91      0.82      0.86       802\n",
      "\n",
      "    accuracy                           0.87      1607\n",
      "   macro avg       0.87      0.87      0.87      1607\n",
      "weighted avg       0.87      0.87      0.87      1607\n",
      "\n"
     ]
    }
   ],
   "source": [
    "# Classification report for the optimised RF Regression\n",
    "rf_opt.fit(X_train, y_train)\n",
    "print(classification_report(y_test, rf_opt.predict(X_test)))"
   ]
  },
  {
   "cell_type": "code",
   "execution_count": 127,
   "metadata": {},
   "outputs": [
    {
     "name": "stdout",
     "output_type": "stream",
     "text": [
      "AUC score: 0.925\n"
     ]
    }
   ],
   "source": [
    "rf_opt.fit(X_train, y_train) # fit optimised model to the training data\n",
    "probs = rf_opt.predict_proba(X_test) # predict probabilities\n",
    "probs = probs[:, 1] # we will only keep probabilities associated with the employee leaving\n",
    "rf_opt_roc_auc = roc_auc_score(y_test, probs) # calculate AUC score using test dataset\n",
    "print('AUC score: %.3f' % rf_opt_roc_auc)"
   ]
  },
  {
   "cell_type": "markdown",
   "metadata": {},
   "source": [
    "AUC provides an aggregate measure of performance across all possible classification thresholds. One way of interpreting AUC is as the probability that the model ranks a random positive example more highly than a random negative example."
   ]
  },
  {
   "cell_type": "code",
   "execution_count": 128,
   "metadata": {},
   "outputs": [
    {
     "data": {
      "image/png": "[encoded data removed]",
      "text/plain": [
       "<Figure size 576x396 with 1 Axes>"
      ]
     },
     "metadata": {},
     "output_type": "display_data"
    }
   ],
   "source": [
    "fpr, tpr, thresholds = roc_curve(y_test,rf_opt.predict_proba(X_test)[:,1]) \n",
    "plt.figure()\n",
    "plt.plot(fpr, tpr, label='Model (Area = %0.2f)' % rf_opt_roc_auc) \n",
    "plt.plot([0, 1], [0, 1],'r--')\n",
    "plt.xlim([0.0, 1.0])\n",
    "plt.ylim([0.0, 1.05])\n",
    "plt.xlabel('False Positive Rate')\n",
    "plt.ylabel('True Positive Rate')\n",
    "plt.title('Receiver Operating Characteristic')\n",
    "plt.legend(loc=\"lower right\")\n",
    "plt.savefig('RANDOM FOREST')\n",
    "plt.show()"
   ]
  },
  {
   "cell_type": "markdown",
   "metadata": {},
   "source": [
    "# XGBOOST"
   ]
  },
  {
   "cell_type": "markdown",
   "metadata": {},
   "source": [
    "XGBoost is an implementation of gradient boosted decision trees designed for speed and performance that is dominative competitive machine learning.\n",
    "\n",
    "The two reasons to use XGBoost are also the two goals of the project: Execution Speed. Model Performance.\n",
    "\n",
    "XGBoost Execution Speed Generally, XGBoost is fast. Really fast when compared to other implementations of gradient boosting.\n",
    "XGBoost Model Performance XGBoost dominates structured or tabular datasets on classification and regression predictive modeling problems.\n"
   ]
  },
  {
   "cell_type": "code",
   "execution_count": 129,
   "metadata": {},
   "outputs": [],
   "source": [
    "import numpy as np # linear algebra\n",
    "import pandas as pd # data processing\n",
    "from sklearn.model_selection import cross_val_score\n",
    "from sklearn.model_selection import train_test_split\n",
    "from sklearn.metrics import mean_squared_error\n",
    "from operator import itemgetter\n",
    "import xgboost as xgb\n",
    "import random\n",
    "import time\n",
    "from sklearn.model_selection import GridSearchCV\n",
    "from sklearn.metrics import average_precision_score\n",
    "import matplotlib.pyplot as plt\n",
    "from numpy import genfromtxt\n",
    "import seaborn as sns\n",
    "from sklearn import preprocessing\n",
    "from sklearn.metrics import roc_curve, auc,recall_score,precision_score\n",
    "import datetime as dt"
   ]
  },
  {
   "cell_type": "code",
   "execution_count": 130,
   "metadata": {},
   "outputs": [],
   "source": [
    "import pandas as pd\n",
    "from sklearn.model_selection import train_test_split\n",
    "import xgboost as xgb\n",
    "from sklearn.preprocessing import StandardScaler\n",
    "from sklearn.pipeline import Pipeline\n",
    "import numpy as np\n",
    "from sklearn.model_selection import RandomizedSearchCV\n",
    "import time\n",
    "from sklearn.metrics import confusion_matrix\n",
    "from sklearn.metrics import classification_report\n",
    "from sklearn.metrics import roc_auc_score\n",
    "import matplotlib.pyplot as plt\n",
    "from sklearn.metrics import roc_curve\n",
    "from sklearn.metrics import average_precision_score\n",
    "from sklearn.metrics import precision_recall_curve"
   ]
  },
  {
   "cell_type": "code",
   "execution_count": 131,
   "metadata": {},
   "outputs": [],
   "source": [
    "#The StandardScaler assumes your data is normally distributed within each feature and will scale them such that the distribution is now centred around 0, with a standard deviation of 1.\n",
    "steps = [('scaler', StandardScaler()), ('XGBoost', xgb.XGBClassifier())]"
   ]
  },
  {
   "cell_type": "code",
   "execution_count": 132,
   "metadata": {},
   "outputs": [],
   "source": [
    "#The purpose of the pipeline is to assemble several steps that can be cross-validated together while setting different parameters. For this, it enables setting parameters of the various steps using their names and the parameter name\n",
    "pipeline = Pipeline(steps)"
   ]
  },
  {
   "cell_type": "code",
   "execution_count": 133,
   "metadata": {},
   "outputs": [],
   "source": [
    "parameters = {'XGBoost__booster': ['gbtree', 'gblinear', 'dart'],\n",
    "              'XGBoost__subsample': np.arange(0.5, 1, 0.05),\n",
    "              'XGBoost__max_depth': np.arange(3, 20, 1),\n",
    "              'XGBoost__colsample_bytree': np.arange(0.1, 1.05, 0.05),\n",
    "              'XGBoost__objective': ['reg:logistic','binary:logistic']}\n",
    "# reg:logostic and binary: logistic will give the output in probability form and not is class 1 or 0"
   ]
  },
  {
   "cell_type": "code",
   "execution_count": 134,
   "metadata": {},
   "outputs": [],
   "source": [
    "# Building model \n",
    "model = RandomizedSearchCV(pipeline, parameters, n_iter=10, scoring='roc_auc', cv=4)"
   ]
  },
  {
   "cell_type": "code",
   "execution_count": 135,
   "metadata": {},
   "outputs": [],
   "source": [
    "start_time = time.time()"
   ]
  },
  {
   "cell_type": "code",
   "execution_count": 136,
   "metadata": {},
   "outputs": [
    {
     "data": {
      "text/plain": [
       "RandomizedSearchCV(cv=4,\n",
       "                   estimator=Pipeline(steps=[('scaler', StandardScaler()),\n",
       "                                             ('XGBoost',\n",
       "                                              XGBClassifier(base_score=None,\n",
       "                                                            booster=None,\n",
       "                                                            colsample_bylevel=None,\n",
       "                                                            colsample_bynode=None,\n",
       "                                                            colsample_bytree=None,\n",
       "                                                            gamma=None,\n",
       "                                                            gpu_id=None,\n",
       "                                                            importance_type='gain',\n",
       "                                                            interaction_constraints=None,\n",
       "                                                            learning_rate=None,\n",
       "                                                            max_delta_step=None,\n",
       "                                                            max_depth=None,\n",
       "                                                            min_child_weight=None,...\n",
       "                                                             'dart'],\n",
       "                                        'XGBoost__colsample_bytree': array([0.1 , 0.15, 0.2 , 0.25, 0.3 , 0.35, 0.4 , 0.45, 0.5 , 0.55, 0.6 ,\n",
       "       0.65, 0.7 , 0.75, 0.8 , 0.85, 0.9 , 0.95, 1.  ]),\n",
       "                                        'XGBoost__max_depth': array([ 3,  4,  5,  6,  7,  8,  9, 10, 11, 12, 13, 14, 15, 16, 17, 18, 19]),\n",
       "                                        'XGBoost__objective': ['reg:logistic',\n",
       "                                                               'binary:logistic'],\n",
       "                                        'XGBoost__subsample': array([0.5 , 0.55, 0.6 , 0.65, 0.7 , 0.75, 0.8 , 0.85, 0.9 , 0.95])},\n",
       "                   scoring='roc_auc')"
      ]
     },
     "execution_count": 136,
     "metadata": {},
     "output_type": "execute_result"
    }
   ],
   "source": [
    "# This fucntion is used to make prediction on new data\n",
    "model.fit(X_train, y_train)"
   ]
  },
  {
   "cell_type": "code",
   "execution_count": 137,
   "metadata": {},
   "outputs": [
    {
     "name": "stdout",
     "output_type": "stream",
     "text": [
      "Time to tune the model: 0.77 min.\n"
     ]
    }
   ],
   "source": [
    "elapsed_time = (time.time() - start_time)/60\n",
    "print('Time to tune the model: {0:0.2f} min.'.format(elapsed_time))"
   ]
  },
  {
   "cell_type": "code",
   "execution_count": 138,
   "metadata": {},
   "outputs": [
    {
     "name": "stdout",
     "output_type": "stream",
     "text": [
      "Tuned Model Parameters: {'XGBoost__subsample': 0.9500000000000004, 'XGBoost__objective': 'reg:logistic', 'XGBoost__max_depth': 14, 'XGBoost__colsample_bytree': 0.8500000000000002, 'XGBoost__booster': 'dart'}\n"
     ]
    }
   ],
   "source": [
    "print('Tuned Model Parameters: {}'.format(model.best_params_))"
   ]
  },
  {
   "cell_type": "code",
   "execution_count": 139,
   "metadata": {},
   "outputs": [],
   "source": [
    "#To make predictions we use the scikit-learn function model. predict(). By default, the predictions made by XGBoost are probabilities.\n",
    "predictions = model.predict(X_test)"
   ]
  },
  {
   "cell_type": "code",
   "execution_count": 140,
   "metadata": {},
   "outputs": [],
   "source": [
    "pred_prob = model.predict_proba(X_test)[:,1]"
   ]
  },
  {
   "cell_type": "code",
   "execution_count": 141,
   "metadata": {},
   "outputs": [
    {
     "name": "stdout",
     "output_type": "stream",
     "text": [
      "            Predicted No  Predicted Yes  Total\n",
      "Actual No            734             71    805\n",
      "Actual Yes           139            663    802\n",
      "Total                873            734   1607\n"
     ]
    }
   ],
   "source": [
    "cm = pd.DataFrame(confusion_matrix(y_test, predictions))\n",
    "cm['Total'] = np.sum(cm, axis=1)\n",
    "cm = cm.append(np.sum(cm, axis=0), ignore_index=True)\n",
    "cm.columns = ['Predicted No', 'Predicted Yes', 'Total']\n",
    "cm = cm.set_index([['Actual No', 'Actual Yes', 'Total']])\n",
    "print(cm)"
   ]
  },
  {
   "cell_type": "code",
   "execution_count": 142,
   "metadata": {},
   "outputs": [
    {
     "name": "stdout",
     "output_type": "stream",
     "text": [
      "              precision    recall  f1-score   support\n",
      "\n",
      "           0       0.84      0.91      0.87       805\n",
      "           1       0.90      0.83      0.86       802\n",
      "\n",
      "    accuracy                           0.87      1607\n",
      "   macro avg       0.87      0.87      0.87      1607\n",
      "weighted avg       0.87      0.87      0.87      1607\n",
      "\n"
     ]
    }
   ],
   "source": [
    "print(classification_report(y_test, predictions))"
   ]
  },
  {
   "cell_type": "markdown",
   "metadata": {},
   "source": [
    "Thus, additional metrics, namely specificity, sensitivity, positive predictive value (PPV) and F-score, were considered in this study.The F-score considers both sensitivity and PPV since it is the harmonic mean of these two metrics. Thus, a high F-score implies that the model is highly efficient in predicting insufficient herbage allowance."
   ]
  },
  {
   "cell_type": "code",
   "execution_count": 143,
   "metadata": {},
   "outputs": [],
   "source": [
    "logit_roc_auc = roc_auc_score(y_test, model.predict(X_test)) "
   ]
  },
  {
   "cell_type": "code",
   "execution_count": 144,
   "metadata": {},
   "outputs": [
    {
     "data": {
      "image/png": "[encoded data removed]",
      "text/plain": [
       "<Figure size 576x396 with 1 Axes>"
      ]
     },
     "metadata": {},
     "output_type": "display_data"
    }
   ],
   "source": [
    "fpr, tpr, thresholds = roc_curve(y_test, model.predict_proba(X_test)[:,1]) \n",
    "plt.figure()\n",
    "plt.plot(fpr, tpr, label='Model (Area = %0.2f)' % logit_roc_auc) \n",
    "plt.plot([0, 1], [0, 1],'r--')\n",
    "plt.xlim([0.0, 1.0])\n",
    "plt.ylim([0.0, 1.05])\n",
    "plt.xlabel('False Positive Rate')\n",
    "plt.ylabel('True Positive Rate')\n",
    "plt.title('Receiver Operating Characteristic')\n",
    "plt.legend(loc=\"lower right\")\n",
    "plt.savefig('XGBoost_ROC')\n",
    "plt.show()"
   ]
  },
  {
   "cell_type": "code",
   "execution_count": 145,
   "metadata": {},
   "outputs": [
    {
     "name": "stdout",
     "output_type": "stream",
     "text": [
      "AUC score: 0.869\n"
     ]
    }
   ],
   "source": [
    "print('AUC score: %.3f' % logit_roc_auc)"
   ]
  },
  {
   "cell_type": "markdown",
   "metadata": {},
   "source": [
    "An overall ROC curve is most useful in the early stages of evaluation of a new diagnostic test. Once the diagnostic ability of a test is established, only a portion of the ROC curve is usually of interest, for example, only regions with high specificity and not the average specificity over all sensitivity values. Similar to sensitivity and specificity, ROC curves are invariant to the prevalence of a disease but dependent on the patient characteristics and the disease spectrum. An ROC curve does not depend on the scale of the test results and can be used to provide a visual comparison of two or more test results on a common scale. The latter is not possible with sensitivity and specificity measures because a change in the cutpoint to classify the test results as positive or negative could affect the two tests differently.4\n",
    "\n",
    "AREA UNDER THE ROC CURVE\n",
    "AUC is an effective way to summarize the overall diagnostic accuracy of the test. It takes values from 0 to 1, where a value of 0 indicates a perfectly inaccurate test and a value of 1 reflects a perfectly accurate test. AUC can be computed using the trapezoidal rule.3 \n",
    "\n",
    "A value of 0.5 for AUC indicates that the ROC curve will fall on the diagonal (i.e., 45-degree line) and hence suggests that the diagnostic test has no discriminatory ability. ROC curves above this diagonal line are considered to have reasonable discriminating ability to diagnose patients with and without the disease/condition. It is therefore natural to do a hypothesis test to evaluate whether the AUC differs significantly from 0.5. Specifically, the null and alternate hypotheses are defined as H0: AUC = 0.5 versus H1: AUC ≠ 0.5. This test statistic given by [AÛC − 0.5/SE(AÛC)] is approximately normally distributed and has favorable statistical properties.6\n",
    "\n",
    "Since the subsets of the combined data were unbalanced, accuracy and AUC were not sufficient in this study to validate the performance of the competing models.\n"
   ]
  },
  {
   "cell_type": "code",
   "execution_count": 146,
   "metadata": {},
   "outputs": [
    {
     "data": {
      "image/png": "[encoded data removed]",
      "text/plain": [
       "<Figure size 1008x432 with 1 Axes>"
      ]
     },
     "metadata": {},
     "output_type": "display_data"
    }
   ],
   "source": [
    "# Create ROC Graph\n",
    "from sklearn.metrics import roc_curve\n",
    "fpr, tpr, thresholds = roc_curve(y_test, model.predict_proba(X_test)[:,1])\n",
    "rf_fpr, rf_tpr, rf_thresholds = roc_curve(y_test, rf_opt.predict_proba(X_test)[:,1])\n",
    "plt.figure(figsize=(14, 6))\n",
    "\n",
    "# Plot XGboost ROC\n",
    "plt.plot(fpr, tpr, label='XGBoost (area = %0.2f)' % logit_roc_auc)\n",
    "# Plot Random Forest ROC\n",
    "plt.plot(rf_fpr, rf_tpr, label='Random Forest (area = %0.2f)' % rf_opt_roc_auc)\n",
    "# Plot Base Rate ROC\n",
    "plt.plot([0,1], [0,1],label='Base Rate' 'k--')\n",
    "\n",
    "plt.xlim([0.0, 1.0])\n",
    "plt.ylim([0.0, 1.05])\n",
    "plt.xlabel('False Positive Rate')\n",
    "plt.ylabel('True Positive Rate')\n",
    "plt.title('ROC Graph')\n",
    "plt.legend(loc=\"lower right\")\n",
    "plt.show()"
   ]
  },
  {
   "cell_type": "markdown",
   "metadata": {},
   "source": [
    "In Machine Learning, performance measurement is an essential task. So when it comes to a classification problem, we can count on an AUC - ROC Curve. When we need to check or visualize the performance of the multi - class classification problem, we use AUC (Area Under The Curve) ROC (Receiver Operating Characteristics) curve. It is one of the most important evaluation metrics for checking any classification model’s performance. It is also written as AUROC (Area Under the Receiver Operating Characteristics)"
   ]
  },
  {
   "cell_type": "markdown",
   "metadata": {},
   "source": [
    "RF is much easier to tune than GBM. There are typically two parameters in RF: number of trees and number of features to be selected at each node.\n",
    "RF is harder to overfit than GBM.\n",
    "\n",
    "This method is especially attractive for this application in the following cases:\n",
    "The real-world data is noisy and contains many missing values, some of the attributes are categorical, or semi-continuous.\n",
    "There are needs to integrate different data sources which face the issue of weighting them.\n",
    "We need high predictive accuracy for a high-dimensional problem with highly correlated features.\n",
    "\n",
    "RF methods can handle a large amount of training data efficiently and are inherently suited for multi-class problems.\n"
   ]
  },
  {
   "cell_type": "code",
   "execution_count": null,
   "metadata": {},
   "outputs": [],
   "source": []
  },
  {
   "cell_type": "code",
   "execution_count": null,
   "metadata": {},
   "outputs": [],
   "source": []
  },
  {
   "cell_type": "code",
   "execution_count": null,
   "metadata": {},
   "outputs": [],
   "source": []
  },
  {
   "cell_type": "code",
   "execution_count": null,
   "metadata": {},
   "outputs": [],
   "source": []
  },
  {
   "cell_type": "code",
   "execution_count": null,
   "metadata": {},
   "outputs": [],
   "source": []
  }
 ],
 "metadata": {
  "kernelspec": {
   "display_name": "Python 3",
   "language": "python",
   "name": "python3"
  },
  "language_info": {
   "codemirror_mode": {
    "name": "ipython",
    "version": 3
   },
   "file_extension": ".py",
   "mimetype": "text/x-python",
   "name": "python",
   "nbconvert_exporter": "python",
   "pygments_lexer": "ipython3",
   "version": "3.7.3"
  }
 },
 "nbformat": 4,
 "nbformat_minor": 2
}
